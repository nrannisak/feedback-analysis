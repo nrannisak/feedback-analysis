{
  "nbformat": 4,
  "nbformat_minor": 0,
  "metadata": {
    "colab": {
      "provenance": []
    },
    "kernelspec": {
      "name": "python3",
      "display_name": "Python 3"
    },
    "language_info": {
      "name": "python"
    }
  },
  "cells": [
    {
      "cell_type": "markdown",
      "source": [
        "Nur Annisa Kusumawardani /\n",
        "SDAB-41"
      ],
      "metadata": {
        "id": "DPn8qN1Ng_of"
      }
    },
    {
      "cell_type": "markdown",
      "source": [
        "# Configuring data"
      ],
      "metadata": {
        "id": "5zuPRfw0g9vN"
      }
    },
    {
      "cell_type": "code",
      "execution_count": null,
      "metadata": {
        "colab": {
          "base_uri": "https://localhost:8080/"
        },
        "id": "MhT3-GgGYjrT",
        "outputId": "7908ad1d-1fce-4fc4-d755-746bd77e995a"
      },
      "outputs": [
        {
          "output_type": "stream",
          "name": "stdout",
          "text": [
            "Mounted at /content/drive\n"
          ]
        }
      ],
      "source": [
        "import pandas as pd\n",
        "import numpy as np\n",
        "import os\n",
        "from google.cloud import bigquery\n",
        "from google.colab import drive\n",
        "\n",
        "drive.mount('/content/drive')\n",
        "\n",
        "os.environ[\"GOOGLE_APPLICATION_CREDENTIALS\"]=\"/content/drive/MyDrive/Dataset1/private-key.json\""
      ]
    },
    {
      "cell_type": "code",
      "source": [
        "bqclient = bigquery.Client()\n",
        "\n",
        "query = \"\"\"\n",
        "    SELECT * FROM `bitlabs-dab.finalexam.status` AS status\n",
        "    LEFT JOIN `bitlabs-dab.finalexam.main_data` AS main\n",
        "    ON status.`complaint-ID` = main.complaint_ID\n",
        "    LEFT JOIN `bitlabs-dab.finalexam.detail` AS detail\n",
        "    ON main.type_complaint_code = detail.type_complaint_code\n",
        "\"\"\"\n",
        "\n",
        "data = pd.read_gbq(query,project_id = 'bitlabs-dab', dialect = 'standard')\n",
        "data.head()"
      ],
      "metadata": {
        "colab": {
          "base_uri": "https://localhost:8080/",
          "height": 354
        },
        "id": "jPD16jRwgSuU",
        "outputId": "2c2039dc-368f-4779-b832-c4bf9daaefd9"
      },
      "execution_count": null,
      "outputs": [
        {
          "output_type": "execute_result",
          "data": {
            "text/plain": [
              "  complaint-ID status complaint_ID type_complaint_code  \\\n",
              "0      C000269   None      C000269                 ASR   \n",
              "1      C000014   None      C000014                 ASR   \n",
              "2      C000152   None      C000152                 ASR   \n",
              "3      C000442   None      C000442                 ASR   \n",
              "4      C000485   None      C000485                 ANS   \n",
              "\n",
              "                                             reports age   gpa year count  \\\n",
              "0  It's frustrating to know that there are resear...  19  0.31    1     1   \n",
              "1  The course fees and textbook costs are way too...  24  3.26    2     1   \n",
              "2  It's-really-frustrating-to-not-have-more-acces...  26  0.09    2     1   \n",
              "3  I've-been-working-a-lot-lately-and-it's-been-h...  17  0.93    1     1   \n",
              "4  I-suffered-a-sports-related-injury-and-had-to-...  19   3.9    3     1   \n",
              "\n",
              "  gender type_complaint_code_1                  type_complaint  \n",
              "0      M                   ASR  Academic Support and Resources  \n",
              "1      F                   ASR  Academic Support and Resources  \n",
              "2      F                   ASR  Academic Support and Resources  \n",
              "3      F                   ASR  Academic Support and Resources  \n",
              "4      F                   ANS            Athletics and sports  "
            ],
            "text/html": [
              "\n",
              "  <div id=\"df-6bb39146-50eb-4f73-8af5-f8074fbfd835\">\n",
              "    <div class=\"colab-df-container\">\n",
              "      <div>\n",
              "<style scoped>\n",
              "    .dataframe tbody tr th:only-of-type {\n",
              "        vertical-align: middle;\n",
              "    }\n",
              "\n",
              "    .dataframe tbody tr th {\n",
              "        vertical-align: top;\n",
              "    }\n",
              "\n",
              "    .dataframe thead th {\n",
              "        text-align: right;\n",
              "    }\n",
              "</style>\n",
              "<table border=\"1\" class=\"dataframe\">\n",
              "  <thead>\n",
              "    <tr style=\"text-align: right;\">\n",
              "      <th></th>\n",
              "      <th>complaint-ID</th>\n",
              "      <th>status</th>\n",
              "      <th>complaint_ID</th>\n",
              "      <th>type_complaint_code</th>\n",
              "      <th>reports</th>\n",
              "      <th>age</th>\n",
              "      <th>gpa</th>\n",
              "      <th>year</th>\n",
              "      <th>count</th>\n",
              "      <th>gender</th>\n",
              "      <th>type_complaint_code_1</th>\n",
              "      <th>type_complaint</th>\n",
              "    </tr>\n",
              "  </thead>\n",
              "  <tbody>\n",
              "    <tr>\n",
              "      <th>0</th>\n",
              "      <td>C000269</td>\n",
              "      <td>None</td>\n",
              "      <td>C000269</td>\n",
              "      <td>ASR</td>\n",
              "      <td>It's frustrating to know that there are resear...</td>\n",
              "      <td>19</td>\n",
              "      <td>0.31</td>\n",
              "      <td>1</td>\n",
              "      <td>1</td>\n",
              "      <td>M</td>\n",
              "      <td>ASR</td>\n",
              "      <td>Academic Support and Resources</td>\n",
              "    </tr>\n",
              "    <tr>\n",
              "      <th>1</th>\n",
              "      <td>C000014</td>\n",
              "      <td>None</td>\n",
              "      <td>C000014</td>\n",
              "      <td>ASR</td>\n",
              "      <td>The course fees and textbook costs are way too...</td>\n",
              "      <td>24</td>\n",
              "      <td>3.26</td>\n",
              "      <td>2</td>\n",
              "      <td>1</td>\n",
              "      <td>F</td>\n",
              "      <td>ASR</td>\n",
              "      <td>Academic Support and Resources</td>\n",
              "    </tr>\n",
              "    <tr>\n",
              "      <th>2</th>\n",
              "      <td>C000152</td>\n",
              "      <td>None</td>\n",
              "      <td>C000152</td>\n",
              "      <td>ASR</td>\n",
              "      <td>It's-really-frustrating-to-not-have-more-acces...</td>\n",
              "      <td>26</td>\n",
              "      <td>0.09</td>\n",
              "      <td>2</td>\n",
              "      <td>1</td>\n",
              "      <td>F</td>\n",
              "      <td>ASR</td>\n",
              "      <td>Academic Support and Resources</td>\n",
              "    </tr>\n",
              "    <tr>\n",
              "      <th>3</th>\n",
              "      <td>C000442</td>\n",
              "      <td>None</td>\n",
              "      <td>C000442</td>\n",
              "      <td>ASR</td>\n",
              "      <td>I've-been-working-a-lot-lately-and-it's-been-h...</td>\n",
              "      <td>17</td>\n",
              "      <td>0.93</td>\n",
              "      <td>1</td>\n",
              "      <td>1</td>\n",
              "      <td>F</td>\n",
              "      <td>ASR</td>\n",
              "      <td>Academic Support and Resources</td>\n",
              "    </tr>\n",
              "    <tr>\n",
              "      <th>4</th>\n",
              "      <td>C000485</td>\n",
              "      <td>None</td>\n",
              "      <td>C000485</td>\n",
              "      <td>ANS</td>\n",
              "      <td>I-suffered-a-sports-related-injury-and-had-to-...</td>\n",
              "      <td>19</td>\n",
              "      <td>3.9</td>\n",
              "      <td>3</td>\n",
              "      <td>1</td>\n",
              "      <td>F</td>\n",
              "      <td>ANS</td>\n",
              "      <td>Athletics and sports</td>\n",
              "    </tr>\n",
              "  </tbody>\n",
              "</table>\n",
              "</div>\n",
              "      <button class=\"colab-df-convert\" onclick=\"convertToInteractive('df-6bb39146-50eb-4f73-8af5-f8074fbfd835')\"\n",
              "              title=\"Convert this dataframe to an interactive table.\"\n",
              "              style=\"display:none;\">\n",
              "        \n",
              "  <svg xmlns=\"http://www.w3.org/2000/svg\" height=\"24px\"viewBox=\"0 0 24 24\"\n",
              "       width=\"24px\">\n",
              "    <path d=\"M0 0h24v24H0V0z\" fill=\"none\"/>\n",
              "    <path d=\"M18.56 5.44l.94 2.06.94-2.06 2.06-.94-2.06-.94-.94-2.06-.94 2.06-2.06.94zm-11 1L8.5 8.5l.94-2.06 2.06-.94-2.06-.94L8.5 2.5l-.94 2.06-2.06.94zm10 10l.94 2.06.94-2.06 2.06-.94-2.06-.94-.94-2.06-.94 2.06-2.06.94z\"/><path d=\"M17.41 7.96l-1.37-1.37c-.4-.4-.92-.59-1.43-.59-.52 0-1.04.2-1.43.59L10.3 9.45l-7.72 7.72c-.78.78-.78 2.05 0 2.83L4 21.41c.39.39.9.59 1.41.59.51 0 1.02-.2 1.41-.59l7.78-7.78 2.81-2.81c.8-.78.8-2.07 0-2.86zM5.41 20L4 18.59l7.72-7.72 1.47 1.35L5.41 20z\"/>\n",
              "  </svg>\n",
              "      </button>\n",
              "      \n",
              "  <style>\n",
              "    .colab-df-container {\n",
              "      display:flex;\n",
              "      flex-wrap:wrap;\n",
              "      gap: 12px;\n",
              "    }\n",
              "\n",
              "    .colab-df-convert {\n",
              "      background-color: #E8F0FE;\n",
              "      border: none;\n",
              "      border-radius: 50%;\n",
              "      cursor: pointer;\n",
              "      display: none;\n",
              "      fill: #1967D2;\n",
              "      height: 32px;\n",
              "      padding: 0 0 0 0;\n",
              "      width: 32px;\n",
              "    }\n",
              "\n",
              "    .colab-df-convert:hover {\n",
              "      background-color: #E2EBFA;\n",
              "      box-shadow: 0px 1px 2px rgba(60, 64, 67, 0.3), 0px 1px 3px 1px rgba(60, 64, 67, 0.15);\n",
              "      fill: #174EA6;\n",
              "    }\n",
              "\n",
              "    [theme=dark] .colab-df-convert {\n",
              "      background-color: #3B4455;\n",
              "      fill: #D2E3FC;\n",
              "    }\n",
              "\n",
              "    [theme=dark] .colab-df-convert:hover {\n",
              "      background-color: #434B5C;\n",
              "      box-shadow: 0px 1px 3px 1px rgba(0, 0, 0, 0.15);\n",
              "      filter: drop-shadow(0px 1px 2px rgba(0, 0, 0, 0.3));\n",
              "      fill: #FFFFFF;\n",
              "    }\n",
              "  </style>\n",
              "\n",
              "      <script>\n",
              "        const buttonEl =\n",
              "          document.querySelector('#df-6bb39146-50eb-4f73-8af5-f8074fbfd835 button.colab-df-convert');\n",
              "        buttonEl.style.display =\n",
              "          google.colab.kernel.accessAllowed ? 'block' : 'none';\n",
              "\n",
              "        async function convertToInteractive(key) {\n",
              "          const element = document.querySelector('#df-6bb39146-50eb-4f73-8af5-f8074fbfd835');\n",
              "          const dataTable =\n",
              "            await google.colab.kernel.invokeFunction('convertToInteractive',\n",
              "                                                     [key], {});\n",
              "          if (!dataTable) return;\n",
              "\n",
              "          const docLinkHtml = 'Like what you see? Visit the ' +\n",
              "            '<a target=\"_blank\" href=https://colab.research.google.com/notebooks/data_table.ipynb>data table notebook</a>'\n",
              "            + ' to learn more about interactive tables.';\n",
              "          element.innerHTML = '';\n",
              "          dataTable['output_type'] = 'display_data';\n",
              "          await google.colab.output.renderOutput(dataTable, element);\n",
              "          const docLink = document.createElement('div');\n",
              "          docLink.innerHTML = docLinkHtml;\n",
              "          element.appendChild(docLink);\n",
              "        }\n",
              "      </script>\n",
              "    </div>\n",
              "  </div>\n",
              "  "
            ]
          },
          "metadata": {},
          "execution_count": 5
        }
      ]
    },
    {
      "cell_type": "code",
      "source": [
        "data.info()"
      ],
      "metadata": {
        "colab": {
          "base_uri": "https://localhost:8080/"
        },
        "id": "Hrs7JcvM_wD9",
        "outputId": "86e2c6f3-b1a5-44e0-dab1-549817cdb4d6"
      },
      "execution_count": null,
      "outputs": [
        {
          "output_type": "stream",
          "name": "stdout",
          "text": [
            "<class 'pandas.core.frame.DataFrame'>\n",
            "RangeIndex: 1009 entries, 0 to 1008\n",
            "Data columns (total 12 columns):\n",
            " #   Column                 Non-Null Count  Dtype \n",
            "---  ------                 --------------  ----- \n",
            " 0   complaint-ID           1009 non-null   object\n",
            " 1   status                 991 non-null    object\n",
            " 2   complaint_ID           1009 non-null   object\n",
            " 3   type_complaint_code    1009 non-null   object\n",
            " 4   reports                1009 non-null   object\n",
            " 5   age                    981 non-null    object\n",
            " 6   gpa                    1009 non-null   object\n",
            " 7   year                   1009 non-null   object\n",
            " 8   count                  1009 non-null   object\n",
            " 9   gender                 1009 non-null   object\n",
            " 10  type_complaint_code_1  1009 non-null   object\n",
            " 11  type_complaint         1009 non-null   object\n",
            "dtypes: object(12)\n",
            "memory usage: 94.7+ KB\n"
          ]
        }
      ]
    },
    {
      "cell_type": "markdown",
      "source": [
        "## Data Cleaning & Data Transformation"
      ],
      "metadata": {
        "id": "Pu6502IghN9r"
      }
    },
    {
      "cell_type": "markdown",
      "source": [
        "Changing datatype, rename & drop columns, handling missing values & duplicates"
      ],
      "metadata": {
        "id": "hNIkWW-IhhYE"
      }
    },
    {
      "cell_type": "code",
      "source": [
        "data.info()"
      ],
      "metadata": {
        "colab": {
          "base_uri": "https://localhost:8080/"
        },
        "id": "A81NxKZmimwr",
        "outputId": "ad670fd1-1fe3-4325-83bc-02b3eca86569"
      },
      "execution_count": null,
      "outputs": [
        {
          "output_type": "stream",
          "name": "stdout",
          "text": [
            "<class 'pandas.core.frame.DataFrame'>\n",
            "RangeIndex: 1009 entries, 0 to 1008\n",
            "Data columns (total 12 columns):\n",
            " #   Column                 Non-Null Count  Dtype \n",
            "---  ------                 --------------  ----- \n",
            " 0   complaint-ID           1009 non-null   object\n",
            " 1   status                 991 non-null    object\n",
            " 2   complaint_ID           1009 non-null   object\n",
            " 3   type_complaint_code    1009 non-null   object\n",
            " 4   reports                1009 non-null   object\n",
            " 5   age                    981 non-null    object\n",
            " 6   gpa                    1009 non-null   object\n",
            " 7   year                   1009 non-null   object\n",
            " 8   count                  1009 non-null   object\n",
            " 9   gender                 1009 non-null   object\n",
            " 10  type_complaint_code_1  1009 non-null   object\n",
            " 11  type_complaint         1009 non-null   object\n",
            "dtypes: object(12)\n",
            "memory usage: 94.7+ KB\n"
          ]
        }
      ]
    },
    {
      "cell_type": "markdown",
      "source": [
        "Dropping unnecesaary columns (because some other columns are already exist)"
      ],
      "metadata": {
        "id": "YuyY0Ap6B18X"
      }
    },
    {
      "cell_type": "code",
      "source": [
        "data = data.drop(['complaint-ID', 'type_complaint_code_1'], axis=1)\n",
        "data.head()"
      ],
      "metadata": {
        "colab": {
          "base_uri": "https://localhost:8080/",
          "height": 206
        },
        "id": "jS75TGETiw4W",
        "outputId": "b01881db-c841-498b-dce0-b98ce15ae26d"
      },
      "execution_count": null,
      "outputs": [
        {
          "output_type": "execute_result",
          "data": {
            "text/plain": [
              "  status complaint_ID type_complaint_code  \\\n",
              "0   None      C000269                 ASR   \n",
              "1   None      C000014                 ASR   \n",
              "2   None      C000152                 ASR   \n",
              "3   None      C000442                 ASR   \n",
              "4   None      C000485                 ANS   \n",
              "\n",
              "                                             reports age   gpa year count  \\\n",
              "0  It's frustrating to know that there are resear...  19  0.31    1     1   \n",
              "1  The course fees and textbook costs are way too...  24  3.26    2     1   \n",
              "2  It's-really-frustrating-to-not-have-more-acces...  26  0.09    2     1   \n",
              "3  I've-been-working-a-lot-lately-and-it's-been-h...  17  0.93    1     1   \n",
              "4  I-suffered-a-sports-related-injury-and-had-to-...  19   3.9    3     1   \n",
              "\n",
              "  gender                  type_complaint  \n",
              "0      M  Academic Support and Resources  \n",
              "1      F  Academic Support and Resources  \n",
              "2      F  Academic Support and Resources  \n",
              "3      F  Academic Support and Resources  \n",
              "4      F            Athletics and sports  "
            ],
            "text/html": [
              "\n",
              "  <div id=\"df-be7cb396-e28e-4caf-a1b1-3fcf1010886b\">\n",
              "    <div class=\"colab-df-container\">\n",
              "      <div>\n",
              "<style scoped>\n",
              "    .dataframe tbody tr th:only-of-type {\n",
              "        vertical-align: middle;\n",
              "    }\n",
              "\n",
              "    .dataframe tbody tr th {\n",
              "        vertical-align: top;\n",
              "    }\n",
              "\n",
              "    .dataframe thead th {\n",
              "        text-align: right;\n",
              "    }\n",
              "</style>\n",
              "<table border=\"1\" class=\"dataframe\">\n",
              "  <thead>\n",
              "    <tr style=\"text-align: right;\">\n",
              "      <th></th>\n",
              "      <th>status</th>\n",
              "      <th>complaint_ID</th>\n",
              "      <th>type_complaint_code</th>\n",
              "      <th>reports</th>\n",
              "      <th>age</th>\n",
              "      <th>gpa</th>\n",
              "      <th>year</th>\n",
              "      <th>count</th>\n",
              "      <th>gender</th>\n",
              "      <th>type_complaint</th>\n",
              "    </tr>\n",
              "  </thead>\n",
              "  <tbody>\n",
              "    <tr>\n",
              "      <th>0</th>\n",
              "      <td>None</td>\n",
              "      <td>C000269</td>\n",
              "      <td>ASR</td>\n",
              "      <td>It's frustrating to know that there are resear...</td>\n",
              "      <td>19</td>\n",
              "      <td>0.31</td>\n",
              "      <td>1</td>\n",
              "      <td>1</td>\n",
              "      <td>M</td>\n",
              "      <td>Academic Support and Resources</td>\n",
              "    </tr>\n",
              "    <tr>\n",
              "      <th>1</th>\n",
              "      <td>None</td>\n",
              "      <td>C000014</td>\n",
              "      <td>ASR</td>\n",
              "      <td>The course fees and textbook costs are way too...</td>\n",
              "      <td>24</td>\n",
              "      <td>3.26</td>\n",
              "      <td>2</td>\n",
              "      <td>1</td>\n",
              "      <td>F</td>\n",
              "      <td>Academic Support and Resources</td>\n",
              "    </tr>\n",
              "    <tr>\n",
              "      <th>2</th>\n",
              "      <td>None</td>\n",
              "      <td>C000152</td>\n",
              "      <td>ASR</td>\n",
              "      <td>It's-really-frustrating-to-not-have-more-acces...</td>\n",
              "      <td>26</td>\n",
              "      <td>0.09</td>\n",
              "      <td>2</td>\n",
              "      <td>1</td>\n",
              "      <td>F</td>\n",
              "      <td>Academic Support and Resources</td>\n",
              "    </tr>\n",
              "    <tr>\n",
              "      <th>3</th>\n",
              "      <td>None</td>\n",
              "      <td>C000442</td>\n",
              "      <td>ASR</td>\n",
              "      <td>I've-been-working-a-lot-lately-and-it's-been-h...</td>\n",
              "      <td>17</td>\n",
              "      <td>0.93</td>\n",
              "      <td>1</td>\n",
              "      <td>1</td>\n",
              "      <td>F</td>\n",
              "      <td>Academic Support and Resources</td>\n",
              "    </tr>\n",
              "    <tr>\n",
              "      <th>4</th>\n",
              "      <td>None</td>\n",
              "      <td>C000485</td>\n",
              "      <td>ANS</td>\n",
              "      <td>I-suffered-a-sports-related-injury-and-had-to-...</td>\n",
              "      <td>19</td>\n",
              "      <td>3.9</td>\n",
              "      <td>3</td>\n",
              "      <td>1</td>\n",
              "      <td>F</td>\n",
              "      <td>Athletics and sports</td>\n",
              "    </tr>\n",
              "  </tbody>\n",
              "</table>\n",
              "</div>\n",
              "      <button class=\"colab-df-convert\" onclick=\"convertToInteractive('df-be7cb396-e28e-4caf-a1b1-3fcf1010886b')\"\n",
              "              title=\"Convert this dataframe to an interactive table.\"\n",
              "              style=\"display:none;\">\n",
              "        \n",
              "  <svg xmlns=\"http://www.w3.org/2000/svg\" height=\"24px\"viewBox=\"0 0 24 24\"\n",
              "       width=\"24px\">\n",
              "    <path d=\"M0 0h24v24H0V0z\" fill=\"none\"/>\n",
              "    <path d=\"M18.56 5.44l.94 2.06.94-2.06 2.06-.94-2.06-.94-.94-2.06-.94 2.06-2.06.94zm-11 1L8.5 8.5l.94-2.06 2.06-.94-2.06-.94L8.5 2.5l-.94 2.06-2.06.94zm10 10l.94 2.06.94-2.06 2.06-.94-2.06-.94-.94-2.06-.94 2.06-2.06.94z\"/><path d=\"M17.41 7.96l-1.37-1.37c-.4-.4-.92-.59-1.43-.59-.52 0-1.04.2-1.43.59L10.3 9.45l-7.72 7.72c-.78.78-.78 2.05 0 2.83L4 21.41c.39.39.9.59 1.41.59.51 0 1.02-.2 1.41-.59l7.78-7.78 2.81-2.81c.8-.78.8-2.07 0-2.86zM5.41 20L4 18.59l7.72-7.72 1.47 1.35L5.41 20z\"/>\n",
              "  </svg>\n",
              "      </button>\n",
              "      \n",
              "  <style>\n",
              "    .colab-df-container {\n",
              "      display:flex;\n",
              "      flex-wrap:wrap;\n",
              "      gap: 12px;\n",
              "    }\n",
              "\n",
              "    .colab-df-convert {\n",
              "      background-color: #E8F0FE;\n",
              "      border: none;\n",
              "      border-radius: 50%;\n",
              "      cursor: pointer;\n",
              "      display: none;\n",
              "      fill: #1967D2;\n",
              "      height: 32px;\n",
              "      padding: 0 0 0 0;\n",
              "      width: 32px;\n",
              "    }\n",
              "\n",
              "    .colab-df-convert:hover {\n",
              "      background-color: #E2EBFA;\n",
              "      box-shadow: 0px 1px 2px rgba(60, 64, 67, 0.3), 0px 1px 3px 1px rgba(60, 64, 67, 0.15);\n",
              "      fill: #174EA6;\n",
              "    }\n",
              "\n",
              "    [theme=dark] .colab-df-convert {\n",
              "      background-color: #3B4455;\n",
              "      fill: #D2E3FC;\n",
              "    }\n",
              "\n",
              "    [theme=dark] .colab-df-convert:hover {\n",
              "      background-color: #434B5C;\n",
              "      box-shadow: 0px 1px 3px 1px rgba(0, 0, 0, 0.15);\n",
              "      filter: drop-shadow(0px 1px 2px rgba(0, 0, 0, 0.3));\n",
              "      fill: #FFFFFF;\n",
              "    }\n",
              "  </style>\n",
              "\n",
              "      <script>\n",
              "        const buttonEl =\n",
              "          document.querySelector('#df-be7cb396-e28e-4caf-a1b1-3fcf1010886b button.colab-df-convert');\n",
              "        buttonEl.style.display =\n",
              "          google.colab.kernel.accessAllowed ? 'block' : 'none';\n",
              "\n",
              "        async function convertToInteractive(key) {\n",
              "          const element = document.querySelector('#df-be7cb396-e28e-4caf-a1b1-3fcf1010886b');\n",
              "          const dataTable =\n",
              "            await google.colab.kernel.invokeFunction('convertToInteractive',\n",
              "                                                     [key], {});\n",
              "          if (!dataTable) return;\n",
              "\n",
              "          const docLinkHtml = 'Like what you see? Visit the ' +\n",
              "            '<a target=\"_blank\" href=https://colab.research.google.com/notebooks/data_table.ipynb>data table notebook</a>'\n",
              "            + ' to learn more about interactive tables.';\n",
              "          element.innerHTML = '';\n",
              "          dataTable['output_type'] = 'display_data';\n",
              "          await google.colab.output.renderOutput(dataTable, element);\n",
              "          const docLink = document.createElement('div');\n",
              "          docLink.innerHTML = docLinkHtml;\n",
              "          element.appendChild(docLink);\n",
              "        }\n",
              "      </script>\n",
              "    </div>\n",
              "  </div>\n",
              "  "
            ]
          },
          "metadata": {},
          "execution_count": 8
        }
      ]
    },
    {
      "cell_type": "markdown",
      "source": [
        "Find and drop duplicate records"
      ],
      "metadata": {
        "id": "YtHAl3LNly2X"
      }
    },
    {
      "cell_type": "code",
      "source": [
        "duplicates = data.duplicated()\n",
        "print(\"Number of duplicate records:\", duplicates.sum())"
      ],
      "metadata": {
        "colab": {
          "base_uri": "https://localhost:8080/"
        },
        "id": "NtxpCH2ok1EU",
        "outputId": "ea7badee-51d3-47f9-c9a8-d3407a6ba55c"
      },
      "execution_count": null,
      "outputs": [
        {
          "output_type": "stream",
          "name": "stdout",
          "text": [
            "Number of duplicate records: 4\n"
          ]
        }
      ]
    },
    {
      "cell_type": "code",
      "source": [
        "data = data.drop_duplicates()"
      ],
      "metadata": {
        "id": "cSMB18kgiWk2"
      },
      "execution_count": null,
      "outputs": []
    },
    {
      "cell_type": "code",
      "source": [
        "duplicates = data.duplicated()\n",
        "print(\"Number of duplicate records:\", duplicates.sum())"
      ],
      "metadata": {
        "colab": {
          "base_uri": "https://localhost:8080/"
        },
        "id": "asFYGAVbAxnT",
        "outputId": "4ef3ed59-c3d3-4016-a4fa-67a91222c6fd"
      },
      "execution_count": null,
      "outputs": [
        {
          "output_type": "stream",
          "name": "stdout",
          "text": [
            "Number of duplicate records: 0\n"
          ]
        }
      ]
    },
    {
      "cell_type": "markdown",
      "source": [
        "Handling missing values"
      ],
      "metadata": {
        "id": "9srN5fELmFmH"
      }
    },
    {
      "cell_type": "code",
      "source": [
        "data.isnull().sum()"
      ],
      "metadata": {
        "colab": {
          "base_uri": "https://localhost:8080/"
        },
        "id": "LgpJtG9SiXTn",
        "outputId": "a4cd50db-89f8-49c0-dd8b-3a3a8a369643"
      },
      "execution_count": null,
      "outputs": [
        {
          "output_type": "execute_result",
          "data": {
            "text/plain": [
              "status                 18\n",
              "complaint_ID            0\n",
              "type_complaint_code     0\n",
              "reports                 0\n",
              "age                    28\n",
              "gpa                     0\n",
              "year                    0\n",
              "count                   0\n",
              "gender                  0\n",
              "type_complaint          0\n",
              "dtype: int64"
            ]
          },
          "metadata": {},
          "execution_count": 12
        }
      ]
    },
    {
      "cell_type": "markdown",
      "source": [
        "Dropping null data on status because it is necessary to do so (without knowing the status, we can't handle the complaint and thus analyze them). Meanwhile, I do not drop the year because this can be filled by mean data."
      ],
      "metadata": {
        "id": "QYlguDwUCISy"
      }
    },
    {
      "cell_type": "code",
      "source": [
        "data = data.dropna(subset=['status'])\n",
        "data.isnull().sum()"
      ],
      "metadata": {
        "colab": {
          "base_uri": "https://localhost:8080/"
        },
        "id": "XAbKc1HMiZ9M",
        "outputId": "7be2386b-19f5-43dd-e85f-c27a24611979"
      },
      "execution_count": null,
      "outputs": [
        {
          "output_type": "execute_result",
          "data": {
            "text/plain": [
              "status                  0\n",
              "complaint_ID            0\n",
              "type_complaint_code     0\n",
              "reports                 0\n",
              "age                    26\n",
              "gpa                     0\n",
              "year                    0\n",
              "count                   0\n",
              "gender                  0\n",
              "type_complaint          0\n",
              "dtype: int64"
            ]
          },
          "metadata": {},
          "execution_count": 13
        }
      ]
    },
    {
      "cell_type": "markdown",
      "source": [
        "Replace null value in column age by the mean value, assuming the data is fairly distributed"
      ],
      "metadata": {
        "id": "U1MoYlRKCqbg"
      }
    },
    {
      "cell_type": "code",
      "source": [
        "data.info()"
      ],
      "metadata": {
        "colab": {
          "base_uri": "https://localhost:8080/"
        },
        "id": "46eUECWGETVj",
        "outputId": "d3a3afab-961e-40a0-ba82-9dc3ad78fd42"
      },
      "execution_count": null,
      "outputs": [
        {
          "output_type": "stream",
          "name": "stdout",
          "text": [
            "<class 'pandas.core.frame.DataFrame'>\n",
            "Int64Index: 987 entries, 18 to 1008\n",
            "Data columns (total 10 columns):\n",
            " #   Column               Non-Null Count  Dtype \n",
            "---  ------               --------------  ----- \n",
            " 0   status               987 non-null    object\n",
            " 1   complaint_ID         987 non-null    object\n",
            " 2   type_complaint_code  987 non-null    object\n",
            " 3   reports              987 non-null    object\n",
            " 4   age                  961 non-null    object\n",
            " 5   gpa                  987 non-null    object\n",
            " 6   year                 987 non-null    object\n",
            " 7   count                987 non-null    object\n",
            " 8   gender               987 non-null    object\n",
            " 9   type_complaint       987 non-null    object\n",
            "dtypes: object(10)\n",
            "memory usage: 84.8+ KB\n"
          ]
        }
      ]
    },
    {
      "cell_type": "markdown",
      "source": [
        "Changing data type of column \"GPA\" and \"age\" to numeric so we can analyze the data using statistics tools"
      ],
      "metadata": {
        "id": "sYHKzYL_FAC2"
      }
    },
    {
      "cell_type": "code",
      "source": [
        "data['gpa'] = pd.to_numeric(data['gpa'])\n",
        "data.info()"
      ],
      "metadata": {
        "colab": {
          "base_uri": "https://localhost:8080/"
        },
        "id": "IlYFdiGfEmYZ",
        "outputId": "a23d546a-1b30-437a-f399-50ec63ed2a2e"
      },
      "execution_count": null,
      "outputs": [
        {
          "output_type": "stream",
          "name": "stdout",
          "text": [
            "<class 'pandas.core.frame.DataFrame'>\n",
            "Int64Index: 987 entries, 18 to 1008\n",
            "Data columns (total 10 columns):\n",
            " #   Column               Non-Null Count  Dtype  \n",
            "---  ------               --------------  -----  \n",
            " 0   status               987 non-null    object \n",
            " 1   complaint_ID         987 non-null    object \n",
            " 2   type_complaint_code  987 non-null    object \n",
            " 3   reports              987 non-null    object \n",
            " 4   age                  961 non-null    object \n",
            " 5   gpa                  987 non-null    float64\n",
            " 6   year                 987 non-null    object \n",
            " 7   count                987 non-null    object \n",
            " 8   gender               987 non-null    object \n",
            " 9   type_complaint       987 non-null    object \n",
            "dtypes: float64(1), object(9)\n",
            "memory usage: 84.8+ KB\n"
          ]
        }
      ]
    },
    {
      "cell_type": "code",
      "source": [
        "data['age'] = pd.to_numeric(data['age'])\n",
        "data.info()"
      ],
      "metadata": {
        "colab": {
          "base_uri": "https://localhost:8080/"
        },
        "id": "YK77ehtFFjpx",
        "outputId": "9b186994-8975-4637-c82b-9316b6d61f55"
      },
      "execution_count": null,
      "outputs": [
        {
          "output_type": "stream",
          "name": "stdout",
          "text": [
            "<class 'pandas.core.frame.DataFrame'>\n",
            "Int64Index: 987 entries, 18 to 1008\n",
            "Data columns (total 10 columns):\n",
            " #   Column               Non-Null Count  Dtype  \n",
            "---  ------               --------------  -----  \n",
            " 0   status               987 non-null    object \n",
            " 1   complaint_ID         987 non-null    object \n",
            " 2   type_complaint_code  987 non-null    object \n",
            " 3   reports              987 non-null    object \n",
            " 4   age                  961 non-null    float64\n",
            " 5   gpa                  987 non-null    float64\n",
            " 6   year                 987 non-null    object \n",
            " 7   count                987 non-null    object \n",
            " 8   gender               987 non-null    object \n",
            " 9   type_complaint       987 non-null    object \n",
            "dtypes: float64(2), object(8)\n",
            "memory usage: 84.8+ KB\n"
          ]
        }
      ]
    },
    {
      "cell_type": "code",
      "source": [
        "data.describe()"
      ],
      "metadata": {
        "colab": {
          "base_uri": "https://localhost:8080/",
          "height": 300
        },
        "id": "xpJvGibrGd1H",
        "outputId": "4a7f679c-04c9-416a-c2a0-33898b6dbd4c"
      },
      "execution_count": null,
      "outputs": [
        {
          "output_type": "execute_result",
          "data": {
            "text/plain": [
              "              age         gpa\n",
              "count  961.000000  987.000000\n",
              "mean    21.293444    2.094073\n",
              "std      3.330611    1.208466\n",
              "min     16.000000    0.010000\n",
              "25%     18.000000    1.085000\n",
              "50%     21.000000    2.120000\n",
              "75%     24.000000    3.090000\n",
              "max     27.000000    4.970000"
            ],
            "text/html": [
              "\n",
              "  <div id=\"df-6a1cb277-8faa-487d-bbc3-c8de19f4b755\">\n",
              "    <div class=\"colab-df-container\">\n",
              "      <div>\n",
              "<style scoped>\n",
              "    .dataframe tbody tr th:only-of-type {\n",
              "        vertical-align: middle;\n",
              "    }\n",
              "\n",
              "    .dataframe tbody tr th {\n",
              "        vertical-align: top;\n",
              "    }\n",
              "\n",
              "    .dataframe thead th {\n",
              "        text-align: right;\n",
              "    }\n",
              "</style>\n",
              "<table border=\"1\" class=\"dataframe\">\n",
              "  <thead>\n",
              "    <tr style=\"text-align: right;\">\n",
              "      <th></th>\n",
              "      <th>age</th>\n",
              "      <th>gpa</th>\n",
              "    </tr>\n",
              "  </thead>\n",
              "  <tbody>\n",
              "    <tr>\n",
              "      <th>count</th>\n",
              "      <td>961.000000</td>\n",
              "      <td>987.000000</td>\n",
              "    </tr>\n",
              "    <tr>\n",
              "      <th>mean</th>\n",
              "      <td>21.293444</td>\n",
              "      <td>2.094073</td>\n",
              "    </tr>\n",
              "    <tr>\n",
              "      <th>std</th>\n",
              "      <td>3.330611</td>\n",
              "      <td>1.208466</td>\n",
              "    </tr>\n",
              "    <tr>\n",
              "      <th>min</th>\n",
              "      <td>16.000000</td>\n",
              "      <td>0.010000</td>\n",
              "    </tr>\n",
              "    <tr>\n",
              "      <th>25%</th>\n",
              "      <td>18.000000</td>\n",
              "      <td>1.085000</td>\n",
              "    </tr>\n",
              "    <tr>\n",
              "      <th>50%</th>\n",
              "      <td>21.000000</td>\n",
              "      <td>2.120000</td>\n",
              "    </tr>\n",
              "    <tr>\n",
              "      <th>75%</th>\n",
              "      <td>24.000000</td>\n",
              "      <td>3.090000</td>\n",
              "    </tr>\n",
              "    <tr>\n",
              "      <th>max</th>\n",
              "      <td>27.000000</td>\n",
              "      <td>4.970000</td>\n",
              "    </tr>\n",
              "  </tbody>\n",
              "</table>\n",
              "</div>\n",
              "      <button class=\"colab-df-convert\" onclick=\"convertToInteractive('df-6a1cb277-8faa-487d-bbc3-c8de19f4b755')\"\n",
              "              title=\"Convert this dataframe to an interactive table.\"\n",
              "              style=\"display:none;\">\n",
              "        \n",
              "  <svg xmlns=\"http://www.w3.org/2000/svg\" height=\"24px\"viewBox=\"0 0 24 24\"\n",
              "       width=\"24px\">\n",
              "    <path d=\"M0 0h24v24H0V0z\" fill=\"none\"/>\n",
              "    <path d=\"M18.56 5.44l.94 2.06.94-2.06 2.06-.94-2.06-.94-.94-2.06-.94 2.06-2.06.94zm-11 1L8.5 8.5l.94-2.06 2.06-.94-2.06-.94L8.5 2.5l-.94 2.06-2.06.94zm10 10l.94 2.06.94-2.06 2.06-.94-2.06-.94-.94-2.06-.94 2.06-2.06.94z\"/><path d=\"M17.41 7.96l-1.37-1.37c-.4-.4-.92-.59-1.43-.59-.52 0-1.04.2-1.43.59L10.3 9.45l-7.72 7.72c-.78.78-.78 2.05 0 2.83L4 21.41c.39.39.9.59 1.41.59.51 0 1.02-.2 1.41-.59l7.78-7.78 2.81-2.81c.8-.78.8-2.07 0-2.86zM5.41 20L4 18.59l7.72-7.72 1.47 1.35L5.41 20z\"/>\n",
              "  </svg>\n",
              "      </button>\n",
              "      \n",
              "  <style>\n",
              "    .colab-df-container {\n",
              "      display:flex;\n",
              "      flex-wrap:wrap;\n",
              "      gap: 12px;\n",
              "    }\n",
              "\n",
              "    .colab-df-convert {\n",
              "      background-color: #E8F0FE;\n",
              "      border: none;\n",
              "      border-radius: 50%;\n",
              "      cursor: pointer;\n",
              "      display: none;\n",
              "      fill: #1967D2;\n",
              "      height: 32px;\n",
              "      padding: 0 0 0 0;\n",
              "      width: 32px;\n",
              "    }\n",
              "\n",
              "    .colab-df-convert:hover {\n",
              "      background-color: #E2EBFA;\n",
              "      box-shadow: 0px 1px 2px rgba(60, 64, 67, 0.3), 0px 1px 3px 1px rgba(60, 64, 67, 0.15);\n",
              "      fill: #174EA6;\n",
              "    }\n",
              "\n",
              "    [theme=dark] .colab-df-convert {\n",
              "      background-color: #3B4455;\n",
              "      fill: #D2E3FC;\n",
              "    }\n",
              "\n",
              "    [theme=dark] .colab-df-convert:hover {\n",
              "      background-color: #434B5C;\n",
              "      box-shadow: 0px 1px 3px 1px rgba(0, 0, 0, 0.15);\n",
              "      filter: drop-shadow(0px 1px 2px rgba(0, 0, 0, 0.3));\n",
              "      fill: #FFFFFF;\n",
              "    }\n",
              "  </style>\n",
              "\n",
              "      <script>\n",
              "        const buttonEl =\n",
              "          document.querySelector('#df-6a1cb277-8faa-487d-bbc3-c8de19f4b755 button.colab-df-convert');\n",
              "        buttonEl.style.display =\n",
              "          google.colab.kernel.accessAllowed ? 'block' : 'none';\n",
              "\n",
              "        async function convertToInteractive(key) {\n",
              "          const element = document.querySelector('#df-6a1cb277-8faa-487d-bbc3-c8de19f4b755');\n",
              "          const dataTable =\n",
              "            await google.colab.kernel.invokeFunction('convertToInteractive',\n",
              "                                                     [key], {});\n",
              "          if (!dataTable) return;\n",
              "\n",
              "          const docLinkHtml = 'Like what you see? Visit the ' +\n",
              "            '<a target=\"_blank\" href=https://colab.research.google.com/notebooks/data_table.ipynb>data table notebook</a>'\n",
              "            + ' to learn more about interactive tables.';\n",
              "          element.innerHTML = '';\n",
              "          dataTable['output_type'] = 'display_data';\n",
              "          await google.colab.output.renderOutput(dataTable, element);\n",
              "          const docLink = document.createElement('div');\n",
              "          docLink.innerHTML = docLinkHtml;\n",
              "          element.appendChild(docLink);\n",
              "        }\n",
              "      </script>\n",
              "    </div>\n",
              "  </div>\n",
              "  "
            ]
          },
          "metadata": {},
          "execution_count": 19
        }
      ]
    },
    {
      "cell_type": "code",
      "source": [
        "data['age'].fillna(21, inplace=True)"
      ],
      "metadata": {
        "id": "3nzZAUFHij2a"
      },
      "execution_count": null,
      "outputs": []
    },
    {
      "cell_type": "code",
      "source": [
        "data.isnull().sum()"
      ],
      "metadata": {
        "colab": {
          "base_uri": "https://localhost:8080/"
        },
        "id": "tTrfNmG2mR96",
        "outputId": "03f33e90-bad6-4a68-a0b2-0a031c5a6c6b"
      },
      "execution_count": null,
      "outputs": [
        {
          "output_type": "execute_result",
          "data": {
            "text/plain": [
              "status                 0\n",
              "complaint_ID           0\n",
              "type_complaint_code    0\n",
              "reports                0\n",
              "age                    0\n",
              "gpa                    0\n",
              "year                   0\n",
              "count                  0\n",
              "gender                 0\n",
              "type_complaint         0\n",
              "dtype: int64"
            ]
          },
          "metadata": {},
          "execution_count": 21
        }
      ]
    },
    {
      "cell_type": "markdown",
      "source": [
        "## Data Transformation"
      ],
      "metadata": {
        "id": "_6Arhne3lX9p"
      }
    },
    {
      "cell_type": "markdown",
      "source": [
        "Changing data type"
      ],
      "metadata": {
        "id": "0F5qth0zm42g"
      }
    },
    {
      "cell_type": "markdown",
      "source": [
        "changing \"age\" column to integer"
      ],
      "metadata": {
        "id": "LNHSM852G6-t"
      }
    },
    {
      "cell_type": "code",
      "source": [
        "data['age'] = data['age'].astype(int)"
      ],
      "metadata": {
        "id": "AkC8iROBGzF1"
      },
      "execution_count": null,
      "outputs": []
    },
    {
      "cell_type": "code",
      "source": [
        "data.info()"
      ],
      "metadata": {
        "colab": {
          "base_uri": "https://localhost:8080/"
        },
        "id": "0w1XCtZjmWpC",
        "outputId": "0d20aab0-eb40-4bc9-f8c8-485feab77c69"
      },
      "execution_count": null,
      "outputs": [
        {
          "output_type": "stream",
          "name": "stdout",
          "text": [
            "<class 'pandas.core.frame.DataFrame'>\n",
            "Int64Index: 987 entries, 18 to 1008\n",
            "Data columns (total 10 columns):\n",
            " #   Column               Non-Null Count  Dtype  \n",
            "---  ------               --------------  -----  \n",
            " 0   status               987 non-null    object \n",
            " 1   complaint_ID         987 non-null    object \n",
            " 2   type_complaint_code  987 non-null    object \n",
            " 3   reports              987 non-null    object \n",
            " 4   age                  987 non-null    int64  \n",
            " 5   gpa                  987 non-null    float64\n",
            " 6   year                 987 non-null    object \n",
            " 7   count                987 non-null    object \n",
            " 8   gender               987 non-null    object \n",
            " 9   type_complaint       987 non-null    object \n",
            "dtypes: float64(1), int64(1), object(8)\n",
            "memory usage: 84.8+ KB\n"
          ]
        }
      ]
    },
    {
      "cell_type": "code",
      "source": [
        "data['year'] = data['year'].astype(int)"
      ],
      "metadata": {
        "id": "TYD6NcOcOhFm"
      },
      "execution_count": null,
      "outputs": []
    },
    {
      "cell_type": "markdown",
      "source": [
        "## Handling Outliers"
      ],
      "metadata": {
        "id": "U0d4Rn9DnPio"
      }
    },
    {
      "cell_type": "code",
      "source": [
        "# Display outlier\n",
        "# Calculate the IQR\n",
        "Q1 = data['age'].quantile(0.25)\n",
        "Q3 = data['age'].quantile(0.75)\n",
        "IQR = Q3 - Q1\n",
        "\n",
        "# Define the lower and upper bounds for outliers\n",
        "lower_bound = Q1 - 1.5 * IQR\n",
        "upper_bound = Q3 + 1.5 * IQR\n",
        "\n",
        "# Find outliers using the lower and upper bounds\n",
        "outliers = data[(data['age'] < lower_bound) | (data['age'] > upper_bound)]\n",
        "\n",
        "# Display the outliers\n",
        "outliers"
      ],
      "metadata": {
        "colab": {
          "base_uri": "https://localhost:8080/",
          "height": 49
        },
        "id": "jXj7cY8YnRsH",
        "outputId": "7a580b0b-d71d-4c3a-dfd1-9fda93a526d7"
      },
      "execution_count": null,
      "outputs": [
        {
          "output_type": "execute_result",
          "data": {
            "text/plain": [
              "Empty DataFrame\n",
              "Columns: [status, complaint_ID, type_complaint_code, reports, age, gpa, year, count, gender, type_complaint]\n",
              "Index: []"
            ],
            "text/html": [
              "\n",
              "  <div id=\"df-105d572f-5767-422f-ba6e-41a463505bfe\">\n",
              "    <div class=\"colab-df-container\">\n",
              "      <div>\n",
              "<style scoped>\n",
              "    .dataframe tbody tr th:only-of-type {\n",
              "        vertical-align: middle;\n",
              "    }\n",
              "\n",
              "    .dataframe tbody tr th {\n",
              "        vertical-align: top;\n",
              "    }\n",
              "\n",
              "    .dataframe thead th {\n",
              "        text-align: right;\n",
              "    }\n",
              "</style>\n",
              "<table border=\"1\" class=\"dataframe\">\n",
              "  <thead>\n",
              "    <tr style=\"text-align: right;\">\n",
              "      <th></th>\n",
              "      <th>status</th>\n",
              "      <th>complaint_ID</th>\n",
              "      <th>type_complaint_code</th>\n",
              "      <th>reports</th>\n",
              "      <th>age</th>\n",
              "      <th>gpa</th>\n",
              "      <th>year</th>\n",
              "      <th>count</th>\n",
              "      <th>gender</th>\n",
              "      <th>type_complaint</th>\n",
              "    </tr>\n",
              "  </thead>\n",
              "  <tbody>\n",
              "  </tbody>\n",
              "</table>\n",
              "</div>\n",
              "      <button class=\"colab-df-convert\" onclick=\"convertToInteractive('df-105d572f-5767-422f-ba6e-41a463505bfe')\"\n",
              "              title=\"Convert this dataframe to an interactive table.\"\n",
              "              style=\"display:none;\">\n",
              "        \n",
              "  <svg xmlns=\"http://www.w3.org/2000/svg\" height=\"24px\"viewBox=\"0 0 24 24\"\n",
              "       width=\"24px\">\n",
              "    <path d=\"M0 0h24v24H0V0z\" fill=\"none\"/>\n",
              "    <path d=\"M18.56 5.44l.94 2.06.94-2.06 2.06-.94-2.06-.94-.94-2.06-.94 2.06-2.06.94zm-11 1L8.5 8.5l.94-2.06 2.06-.94-2.06-.94L8.5 2.5l-.94 2.06-2.06.94zm10 10l.94 2.06.94-2.06 2.06-.94-2.06-.94-.94-2.06-.94 2.06-2.06.94z\"/><path d=\"M17.41 7.96l-1.37-1.37c-.4-.4-.92-.59-1.43-.59-.52 0-1.04.2-1.43.59L10.3 9.45l-7.72 7.72c-.78.78-.78 2.05 0 2.83L4 21.41c.39.39.9.59 1.41.59.51 0 1.02-.2 1.41-.59l7.78-7.78 2.81-2.81c.8-.78.8-2.07 0-2.86zM5.41 20L4 18.59l7.72-7.72 1.47 1.35L5.41 20z\"/>\n",
              "  </svg>\n",
              "      </button>\n",
              "      \n",
              "  <style>\n",
              "    .colab-df-container {\n",
              "      display:flex;\n",
              "      flex-wrap:wrap;\n",
              "      gap: 12px;\n",
              "    }\n",
              "\n",
              "    .colab-df-convert {\n",
              "      background-color: #E8F0FE;\n",
              "      border: none;\n",
              "      border-radius: 50%;\n",
              "      cursor: pointer;\n",
              "      display: none;\n",
              "      fill: #1967D2;\n",
              "      height: 32px;\n",
              "      padding: 0 0 0 0;\n",
              "      width: 32px;\n",
              "    }\n",
              "\n",
              "    .colab-df-convert:hover {\n",
              "      background-color: #E2EBFA;\n",
              "      box-shadow: 0px 1px 2px rgba(60, 64, 67, 0.3), 0px 1px 3px 1px rgba(60, 64, 67, 0.15);\n",
              "      fill: #174EA6;\n",
              "    }\n",
              "\n",
              "    [theme=dark] .colab-df-convert {\n",
              "      background-color: #3B4455;\n",
              "      fill: #D2E3FC;\n",
              "    }\n",
              "\n",
              "    [theme=dark] .colab-df-convert:hover {\n",
              "      background-color: #434B5C;\n",
              "      box-shadow: 0px 1px 3px 1px rgba(0, 0, 0, 0.15);\n",
              "      filter: drop-shadow(0px 1px 2px rgba(0, 0, 0, 0.3));\n",
              "      fill: #FFFFFF;\n",
              "    }\n",
              "  </style>\n",
              "\n",
              "      <script>\n",
              "        const buttonEl =\n",
              "          document.querySelector('#df-105d572f-5767-422f-ba6e-41a463505bfe button.colab-df-convert');\n",
              "        buttonEl.style.display =\n",
              "          google.colab.kernel.accessAllowed ? 'block' : 'none';\n",
              "\n",
              "        async function convertToInteractive(key) {\n",
              "          const element = document.querySelector('#df-105d572f-5767-422f-ba6e-41a463505bfe');\n",
              "          const dataTable =\n",
              "            await google.colab.kernel.invokeFunction('convertToInteractive',\n",
              "                                                     [key], {});\n",
              "          if (!dataTable) return;\n",
              "\n",
              "          const docLinkHtml = 'Like what you see? Visit the ' +\n",
              "            '<a target=\"_blank\" href=https://colab.research.google.com/notebooks/data_table.ipynb>data table notebook</a>'\n",
              "            + ' to learn more about interactive tables.';\n",
              "          element.innerHTML = '';\n",
              "          dataTable['output_type'] = 'display_data';\n",
              "          await google.colab.output.renderOutput(dataTable, element);\n",
              "          const docLink = document.createElement('div');\n",
              "          docLink.innerHTML = docLinkHtml;\n",
              "          element.appendChild(docLink);\n",
              "        }\n",
              "      </script>\n",
              "    </div>\n",
              "  </div>\n",
              "  "
            ]
          },
          "metadata": {},
          "execution_count": 24
        }
      ]
    },
    {
      "cell_type": "code",
      "source": [
        "file_path = 'data.csv'\n",
        "\n",
        "df.to_csv(file_path, index=False)\n",
        "\n",
        "from google.colab import files\n",
        "\n",
        "# Download the CSV file\n",
        "files.download(file_path)"
      ],
      "metadata": {
        "colab": {
          "base_uri": "https://localhost:8080/",
          "height": 17
        },
        "id": "D1tFA9sxX2P6",
        "outputId": "572e5f04-aff6-4863-979d-18179188040b"
      },
      "execution_count": null,
      "outputs": [
        {
          "output_type": "display_data",
          "data": {
            "text/plain": [
              "<IPython.core.display.Javascript object>"
            ],
            "application/javascript": [
              "\n",
              "    async function download(id, filename, size) {\n",
              "      if (!google.colab.kernel.accessAllowed) {\n",
              "        return;\n",
              "      }\n",
              "      const div = document.createElement('div');\n",
              "      const label = document.createElement('label');\n",
              "      label.textContent = `Downloading \"${filename}\": `;\n",
              "      div.appendChild(label);\n",
              "      const progress = document.createElement('progress');\n",
              "      progress.max = size;\n",
              "      div.appendChild(progress);\n",
              "      document.body.appendChild(div);\n",
              "\n",
              "      const buffers = [];\n",
              "      let downloaded = 0;\n",
              "\n",
              "      const channel = await google.colab.kernel.comms.open(id);\n",
              "      // Send a message to notify the kernel that we're ready.\n",
              "      channel.send({})\n",
              "\n",
              "      for await (const message of channel.messages) {\n",
              "        // Send a message to notify the kernel that we're ready.\n",
              "        channel.send({})\n",
              "        if (message.buffers) {\n",
              "          for (const buffer of message.buffers) {\n",
              "            buffers.push(buffer);\n",
              "            downloaded += buffer.byteLength;\n",
              "            progress.value = downloaded;\n",
              "          }\n",
              "        }\n",
              "      }\n",
              "      const blob = new Blob(buffers, {type: 'application/binary'});\n",
              "      const a = document.createElement('a');\n",
              "      a.href = window.URL.createObjectURL(blob);\n",
              "      a.download = filename;\n",
              "      div.appendChild(a);\n",
              "      a.click();\n",
              "      div.remove();\n",
              "    }\n",
              "  "
            ]
          },
          "metadata": {}
        },
        {
          "output_type": "display_data",
          "data": {
            "text/plain": [
              "<IPython.core.display.Javascript object>"
            ],
            "application/javascript": [
              "download(\"download_bc9490f3-ef61-46ef-a411-630a0fb65624\", \"data.csv\", 787)"
            ]
          },
          "metadata": {}
        }
      ]
    },
    {
      "cell_type": "markdown",
      "source": [
        "no outliers data detected"
      ],
      "metadata": {
        "id": "e6mcFzRfHQx4"
      }
    },
    {
      "cell_type": "markdown",
      "source": [
        "## Exploratory Data Analysis"
      ],
      "metadata": {
        "id": "iLR4hc6chSHb"
      }
    },
    {
      "cell_type": "code",
      "source": [
        "data.head()"
      ],
      "metadata": {
        "colab": {
          "base_uri": "https://localhost:8080/",
          "height": 206
        },
        "id": "lrQgviSSHURs",
        "outputId": "8224ccaa-a978-4390-f703-28a01af176ef"
      },
      "execution_count": null,
      "outputs": [
        {
          "output_type": "execute_result",
          "data": {
            "text/plain": [
              "   status complaint_ID type_complaint_code  \\\n",
              "18   OPEN      C000008                 ASR   \n",
              "19   OPEN      C000139                 ASR   \n",
              "20   OPEN      C000216                 ASR   \n",
              "21   OPEN      C000380                 ASR   \n",
              "22   OPEN      C000502                 ANS   \n",
              "\n",
              "                                              reports  age   gpa year count  \\\n",
              "18  -I-am-really-struggling-with-understanding-the...   26  2.50    2     1   \n",
              "19  The limited access to research databases and m...   19  0.30    2     1   \n",
              "20  Limited access to academic advisors is causing...   17  1.60    1     1   \n",
              "21  I have been finding it difficult to balance my...   21  2.85    1     1   \n",
              "22  The athletic eligibility requirements are too ...   25  2.13    1     1   \n",
              "\n",
              "   gender                  type_complaint  \n",
              "18      F  Academic Support and Resources  \n",
              "19      M  Academic Support and Resources  \n",
              "20      M  Academic Support and Resources  \n",
              "21      M  Academic Support and Resources  \n",
              "22      F            Athletics and sports  "
            ],
            "text/html": [
              "\n",
              "  <div id=\"df-5dbd95b5-dac7-4901-aff3-f396e166eaad\">\n",
              "    <div class=\"colab-df-container\">\n",
              "      <div>\n",
              "<style scoped>\n",
              "    .dataframe tbody tr th:only-of-type {\n",
              "        vertical-align: middle;\n",
              "    }\n",
              "\n",
              "    .dataframe tbody tr th {\n",
              "        vertical-align: top;\n",
              "    }\n",
              "\n",
              "    .dataframe thead th {\n",
              "        text-align: right;\n",
              "    }\n",
              "</style>\n",
              "<table border=\"1\" class=\"dataframe\">\n",
              "  <thead>\n",
              "    <tr style=\"text-align: right;\">\n",
              "      <th></th>\n",
              "      <th>status</th>\n",
              "      <th>complaint_ID</th>\n",
              "      <th>type_complaint_code</th>\n",
              "      <th>reports</th>\n",
              "      <th>age</th>\n",
              "      <th>gpa</th>\n",
              "      <th>year</th>\n",
              "      <th>count</th>\n",
              "      <th>gender</th>\n",
              "      <th>type_complaint</th>\n",
              "    </tr>\n",
              "  </thead>\n",
              "  <tbody>\n",
              "    <tr>\n",
              "      <th>18</th>\n",
              "      <td>OPEN</td>\n",
              "      <td>C000008</td>\n",
              "      <td>ASR</td>\n",
              "      <td>-I-am-really-struggling-with-understanding-the...</td>\n",
              "      <td>26</td>\n",
              "      <td>2.50</td>\n",
              "      <td>2</td>\n",
              "      <td>1</td>\n",
              "      <td>F</td>\n",
              "      <td>Academic Support and Resources</td>\n",
              "    </tr>\n",
              "    <tr>\n",
              "      <th>19</th>\n",
              "      <td>OPEN</td>\n",
              "      <td>C000139</td>\n",
              "      <td>ASR</td>\n",
              "      <td>The limited access to research databases and m...</td>\n",
              "      <td>19</td>\n",
              "      <td>0.30</td>\n",
              "      <td>2</td>\n",
              "      <td>1</td>\n",
              "      <td>M</td>\n",
              "      <td>Academic Support and Resources</td>\n",
              "    </tr>\n",
              "    <tr>\n",
              "      <th>20</th>\n",
              "      <td>OPEN</td>\n",
              "      <td>C000216</td>\n",
              "      <td>ASR</td>\n",
              "      <td>Limited access to academic advisors is causing...</td>\n",
              "      <td>17</td>\n",
              "      <td>1.60</td>\n",
              "      <td>1</td>\n",
              "      <td>1</td>\n",
              "      <td>M</td>\n",
              "      <td>Academic Support and Resources</td>\n",
              "    </tr>\n",
              "    <tr>\n",
              "      <th>21</th>\n",
              "      <td>OPEN</td>\n",
              "      <td>C000380</td>\n",
              "      <td>ASR</td>\n",
              "      <td>I have been finding it difficult to balance my...</td>\n",
              "      <td>21</td>\n",
              "      <td>2.85</td>\n",
              "      <td>1</td>\n",
              "      <td>1</td>\n",
              "      <td>M</td>\n",
              "      <td>Academic Support and Resources</td>\n",
              "    </tr>\n",
              "    <tr>\n",
              "      <th>22</th>\n",
              "      <td>OPEN</td>\n",
              "      <td>C000502</td>\n",
              "      <td>ANS</td>\n",
              "      <td>The athletic eligibility requirements are too ...</td>\n",
              "      <td>25</td>\n",
              "      <td>2.13</td>\n",
              "      <td>1</td>\n",
              "      <td>1</td>\n",
              "      <td>F</td>\n",
              "      <td>Athletics and sports</td>\n",
              "    </tr>\n",
              "  </tbody>\n",
              "</table>\n",
              "</div>\n",
              "      <button class=\"colab-df-convert\" onclick=\"convertToInteractive('df-5dbd95b5-dac7-4901-aff3-f396e166eaad')\"\n",
              "              title=\"Convert this dataframe to an interactive table.\"\n",
              "              style=\"display:none;\">\n",
              "        \n",
              "  <svg xmlns=\"http://www.w3.org/2000/svg\" height=\"24px\"viewBox=\"0 0 24 24\"\n",
              "       width=\"24px\">\n",
              "    <path d=\"M0 0h24v24H0V0z\" fill=\"none\"/>\n",
              "    <path d=\"M18.56 5.44l.94 2.06.94-2.06 2.06-.94-2.06-.94-.94-2.06-.94 2.06-2.06.94zm-11 1L8.5 8.5l.94-2.06 2.06-.94-2.06-.94L8.5 2.5l-.94 2.06-2.06.94zm10 10l.94 2.06.94-2.06 2.06-.94-2.06-.94-.94-2.06-.94 2.06-2.06.94z\"/><path d=\"M17.41 7.96l-1.37-1.37c-.4-.4-.92-.59-1.43-.59-.52 0-1.04.2-1.43.59L10.3 9.45l-7.72 7.72c-.78.78-.78 2.05 0 2.83L4 21.41c.39.39.9.59 1.41.59.51 0 1.02-.2 1.41-.59l7.78-7.78 2.81-2.81c.8-.78.8-2.07 0-2.86zM5.41 20L4 18.59l7.72-7.72 1.47 1.35L5.41 20z\"/>\n",
              "  </svg>\n",
              "      </button>\n",
              "      \n",
              "  <style>\n",
              "    .colab-df-container {\n",
              "      display:flex;\n",
              "      flex-wrap:wrap;\n",
              "      gap: 12px;\n",
              "    }\n",
              "\n",
              "    .colab-df-convert {\n",
              "      background-color: #E8F0FE;\n",
              "      border: none;\n",
              "      border-radius: 50%;\n",
              "      cursor: pointer;\n",
              "      display: none;\n",
              "      fill: #1967D2;\n",
              "      height: 32px;\n",
              "      padding: 0 0 0 0;\n",
              "      width: 32px;\n",
              "    }\n",
              "\n",
              "    .colab-df-convert:hover {\n",
              "      background-color: #E2EBFA;\n",
              "      box-shadow: 0px 1px 2px rgba(60, 64, 67, 0.3), 0px 1px 3px 1px rgba(60, 64, 67, 0.15);\n",
              "      fill: #174EA6;\n",
              "    }\n",
              "\n",
              "    [theme=dark] .colab-df-convert {\n",
              "      background-color: #3B4455;\n",
              "      fill: #D2E3FC;\n",
              "    }\n",
              "\n",
              "    [theme=dark] .colab-df-convert:hover {\n",
              "      background-color: #434B5C;\n",
              "      box-shadow: 0px 1px 3px 1px rgba(0, 0, 0, 0.15);\n",
              "      filter: drop-shadow(0px 1px 2px rgba(0, 0, 0, 0.3));\n",
              "      fill: #FFFFFF;\n",
              "    }\n",
              "  </style>\n",
              "\n",
              "      <script>\n",
              "        const buttonEl =\n",
              "          document.querySelector('#df-5dbd95b5-dac7-4901-aff3-f396e166eaad button.colab-df-convert');\n",
              "        buttonEl.style.display =\n",
              "          google.colab.kernel.accessAllowed ? 'block' : 'none';\n",
              "\n",
              "        async function convertToInteractive(key) {\n",
              "          const element = document.querySelector('#df-5dbd95b5-dac7-4901-aff3-f396e166eaad');\n",
              "          const dataTable =\n",
              "            await google.colab.kernel.invokeFunction('convertToInteractive',\n",
              "                                                     [key], {});\n",
              "          if (!dataTable) return;\n",
              "\n",
              "          const docLinkHtml = 'Like what you see? Visit the ' +\n",
              "            '<a target=\"_blank\" href=https://colab.research.google.com/notebooks/data_table.ipynb>data table notebook</a>'\n",
              "            + ' to learn more about interactive tables.';\n",
              "          element.innerHTML = '';\n",
              "          dataTable['output_type'] = 'display_data';\n",
              "          await google.colab.output.renderOutput(dataTable, element);\n",
              "          const docLink = document.createElement('div');\n",
              "          docLink.innerHTML = docLinkHtml;\n",
              "          element.appendChild(docLink);\n",
              "        }\n",
              "      </script>\n",
              "    </div>\n",
              "  </div>\n",
              "  "
            ]
          },
          "metadata": {},
          "execution_count": 25
        }
      ]
    },
    {
      "cell_type": "code",
      "source": [
        "# Display the summary statistics\n",
        "print('Summary Statistics:', df.describe())"
      ],
      "metadata": {
        "colab": {
          "base_uri": "https://localhost:8080/"
        },
        "id": "L-T46JU6Nxy0",
        "outputId": "a2cf8b19-d1d2-46a3-ec71-fa5eb7f557a3"
      },
      "execution_count": null,
      "outputs": [
        {
          "output_type": "stream",
          "name": "stdout",
          "text": [
            "Summary Statistics: count     11.000000\n",
            "mean      89.727273\n",
            "std       53.647164\n",
            "min       33.000000\n",
            "25%       58.500000\n",
            "50%       86.000000\n",
            "75%       90.500000\n",
            "max      226.000000\n",
            "Name: complaint_ID, dtype: float64\n"
          ]
        }
      ]
    },
    {
      "cell_type": "markdown",
      "source": [
        "seeing the frequent type complaint code and its progress"
      ],
      "metadata": {
        "id": "kZ78J9UaHzsw"
      }
    },
    {
      "cell_type": "code",
      "source": [
        "df = data.groupby('status')['complaint_ID'].count().sort_values(ascending=False)\n",
        "df"
      ],
      "metadata": {
        "colab": {
          "base_uri": "https://localhost:8080/"
        },
        "id": "dbvoX25tIi5u",
        "outputId": "255edb88-6666-4b7d-a4a3-cd65cb523b74"
      },
      "execution_count": null,
      "outputs": [
        {
          "output_type": "execute_result",
          "data": {
            "text/plain": [
              "status\n",
              "CLOSE      453\n",
              "PROCESS    337\n",
              "OPEN       197\n",
              "Name: complaint_ID, dtype: int64"
            ]
          },
          "metadata": {},
          "execution_count": 35
        }
      ]
    },
    {
      "cell_type": "markdown",
      "source": [
        "More than 50% complaints are already closed, but the rest are still in process and open"
      ],
      "metadata": {
        "id": "8YZRX0OKIptw"
      }
    },
    {
      "cell_type": "code",
      "source": [
        "df = data.groupby('type_complaint_code')['complaint_ID'].count().sort_values(ascending=False)\n",
        "df"
      ],
      "metadata": {
        "colab": {
          "base_uri": "https://localhost:8080/"
        },
        "id": "a9rYAC5mH9pE",
        "outputId": "d87199e9-5920-479c-c971-2948e315391f"
      },
      "execution_count": null,
      "outputs": [
        {
          "output_type": "execute_result",
          "data": {
            "text/plain": [
              "type_complaint_code\n",
              "ASR    226\n",
              "FNC    138\n",
              "FNS     91\n",
              "ONL     90\n",
              "CRO     89\n",
              "ISE     86\n",
              "ANS     77\n",
              "HNT     64\n",
              "HWS     53\n",
              "ANT     40\n",
              "STA     33\n",
              "Name: complaint_ID, dtype: int64"
            ]
          },
          "metadata": {},
          "execution_count": 30
        }
      ]
    },
    {
      "cell_type": "markdown",
      "source": [
        "Academic and Finance made up by 30% of complaints, this is what we will tackle first (and later be anaylzed more thoroughly)"
      ],
      "metadata": {
        "id": "-eIdPGeiKAoC"
      }
    },
    {
      "cell_type": "code",
      "source": [
        "df = data.groupby('year')['complaint_ID'].count()\n",
        "df"
      ],
      "metadata": {
        "colab": {
          "base_uri": "https://localhost:8080/"
        },
        "id": "sGIufUj0Jq3h",
        "outputId": "29f6f652-5991-4448-da88-b03fba33340c"
      },
      "execution_count": null,
      "outputs": [
        {
          "output_type": "execute_result",
          "data": {
            "text/plain": [
              "year\n",
              "1    291\n",
              "2    221\n",
              "3    140\n",
              "4    173\n",
              "5    162\n",
              "Name: complaint_ID, dtype: int64"
            ]
          },
          "metadata": {},
          "execution_count": 37
        }
      ]
    },
    {
      "cell_type": "markdown",
      "source": [
        "Most complaints are coming from fresman-sophomore year students, meaning the students find several services that need to be improved"
      ],
      "metadata": {
        "id": "DsK_m0vSJyis"
      }
    },
    {
      "cell_type": "code",
      "source": [
        "import matplotlib.pyplot as plt\n",
        "import plotly.express as px\n",
        "import seaborn as sns"
      ],
      "metadata": {
        "id": "T-6fcDaiLiYX"
      },
      "execution_count": null,
      "outputs": []
    },
    {
      "cell_type": "code",
      "source": [
        "df = data.groupby('year')['complaint_ID'].count()\n",
        "plt.bar(df.index, df)\n",
        "plt.xlabel('Year')\n",
        "plt.ylabel('Complaint')\n",
        "plt.title('Complaint by Year')\n",
        "plt.xticks(rotation=90)\n",
        "plt.show()"
      ],
      "metadata": {
        "colab": {
          "base_uri": "https://localhost:8080/",
          "height": 467
        },
        "id": "QVaoFVA1HxB2",
        "outputId": "57ff69fb-9681-41b2-c887-70d1e8dc42aa"
      },
      "execution_count": null,
      "outputs": [
        {
          "output_type": "display_data",
          "data": {
            "text/plain": [
              "<Figure size 640x480 with 1 Axes>"
            ],
            "image/png": "[encoded data removed]"
          },
          "metadata": {}
        }
      ]
    },
    {
      "cell_type": "code",
      "source": [
        "df = data.groupby('type_complaint_code')['complaint_ID'].count().sort_values(ascending=False)\n",
        "plt.bar(df.index, df)\n",
        "plt.xlabel('Type')\n",
        "plt.ylabel('Complaint')\n",
        "plt.title('Complaint by Type')\n",
        "plt.xticks(rotation=90)\n",
        "plt.show()"
      ],
      "metadata": {
        "colab": {
          "base_uri": "https://localhost:8080/",
          "height": 491
        },
        "id": "3IY13KpoLpCT",
        "outputId": "d6ff73e0-dad5-40bb-977f-ca6f393e5048"
      },
      "execution_count": null,
      "outputs": [
        {
          "output_type": "display_data",
          "data": {
            "text/plain": [
              "<Figure size 640x480 with 1 Axes>"
            ],
            "image/png": "[encoded data removed]"
          },
          "metadata": {}
        }
      ]
    },
    {
      "cell_type": "code",
      "source": [
        "df = data.groupby('gpa')['complaint_ID'].count().sort_values(ascending=False)\n",
        "plt.bar(df.index, df)\n",
        "plt.xlabel('Type')\n",
        "plt.ylabel('Complaint')\n",
        "plt.title('Complaint by GPA')\n",
        "plt.xticks(rotation=90)\n",
        "plt.show()"
      ],
      "metadata": {
        "colab": {
          "base_uri": "https://localhost:8080/",
          "height": 467
        },
        "id": "N1RE2xfXS8cC",
        "outputId": "29bea074-ad13-4f3d-b502-9f87eb5540f1"
      },
      "execution_count": null,
      "outputs": [
        {
          "output_type": "display_data",
          "data": {
            "text/plain": [
              "<Figure size 640x480 with 1 Axes>"
            ],
            "image/png": "[encoded data removed]"
          },
          "metadata": {}
        }
      ]
    },
    {
      "cell_type": "markdown",
      "source": [
        "Distribution of ratings"
      ],
      "metadata": {
        "id": "lZYX84BNjPyM"
      }
    },
    {
      "cell_type": "code",
      "source": [
        "fig = px.histogram(data['type_complaint_code'],\n",
        "                   labels={'value': 'Type',\n",
        "                           'count': 'Frequency',\n",
        "                           'color': 'Type'}, color=data['type_complaint_code'])\n",
        "fig.update_layout(bargap=0.2)\n",
        "fig.update_traces(marker=dict(line=dict(color='#000000', width=2)))\n",
        "fig.update_layout(title_text='Distribution of the complaints',\n",
        "                  title_x=0.5, title_font=dict(size=20))\n",
        "fig.show()"
      ],
      "metadata": {
        "colab": {
          "base_uri": "https://localhost:8080/",
          "height": 542
        },
        "id": "PL1fjAjwjEv7",
        "outputId": "33fd6603-4ca6-4121-c608-38b300542c82"
      },
      "execution_count": null,
      "outputs": [
        {
          "output_type": "display_data",
          "data": {
            "text/html": [
              "<html>\n",
              "<head><meta charset=\"utf-8\" /></head>\n",
              "<body>\n",
              "    <div>            <script src=\"https://cdnjs.cloudflare.com/ajax/libs/mathjax/2.7.5/MathJax.js?config=TeX-AMS-MML_SVG\"></script><script type=\"text/javascript\">if (window.MathJax && window.MathJax.Hub && window.MathJax.Hub.Config) {window.MathJax.Hub.Config({SVG: {font: \"STIX-Web\"}});}</script>                <script type=\"text/javascript\">window.PlotlyConfig = {MathJaxConfig: 'local'};</script>\n",
              "        <script src=\"https://cdn.plot.ly/plotly-2.18.2.min.js\"></script>                <div id=\"ab899215-ac94-4072-bcbf-aa0bbf0b329e\" class=\"plotly-graph-div\" style=\"height:525px; width:100%;\"></div>            <script type=\"text/javascript\">                                    window.PLOTLYENV=window.PLOTLYENV || {};                                    if (document.getElementById(\"ab899215-ac94-4072-bcbf-aa0bbf0b329e\")) {                    Plotly.newPlot(                        \"ab899215-ac94-4072-bcbf-aa0bbf0b329e\",                        [{\"alignmentgroup\":\"True\",\"bingroup\":\"x\",\"hovertemplate\":\"Type=%{x}<br>count=%{y}<extra></extra>\",\"legendgroup\":\"ASR\",\"marker\":{\"color\":\"#636efa\",\"pattern\":{\"shape\":\"\"},\"line\":{\"color\":\"#000000\",\"width\":2}},\"name\":\"ASR\",\"offsetgroup\":\"ASR\",\"orientation\":\"v\",\"showlegend\":true,\"x\":[\"ASR\",\"ASR\",\"ASR\",\"ASR\",\"ASR\",\"ASR\",\"ASR\",\"ASR\",\"ASR\",\"ASR\",\"ASR\",\"ASR\",\"ASR\",\"ASR\",\"ASR\",\"ASR\",\"ASR\",\"ASR\",\"ASR\",\"ASR\",\"ASR\",\"ASR\",\"ASR\",\"ASR\",\"ASR\",\"ASR\",\"ASR\",\"ASR\",\"ASR\",\"ASR\",\"ASR\",\"ASR\",\"ASR\",\"ASR\",\"ASR\",\"ASR\",\"ASR\",\"ASR\",\"ASR\",\"ASR\",\"ASR\",\"ASR\",\"ASR\",\"ASR\",\"ASR\",\"ASR\",\"ASR\",\"ASR\",\"ASR\",\"ASR\",\"ASR\",\"ASR\",\"ASR\",\"ASR\",\"ASR\",\"ASR\",\"ASR\",\"ASR\",\"ASR\",\"ASR\",\"ASR\",\"ASR\",\"ASR\",\"ASR\",\"ASR\",\"ASR\",\"ASR\",\"ASR\",\"ASR\",\"ASR\",\"ASR\",\"ASR\",\"ASR\",\"ASR\",\"ASR\",\"ASR\",\"ASR\",\"ASR\",\"ASR\",\"ASR\",\"ASR\",\"ASR\",\"ASR\",\"ASR\",\"ASR\",\"ASR\",\"ASR\",\"ASR\",\"ASR\",\"ASR\",\"ASR\",\"ASR\",\"ASR\",\"ASR\",\"ASR\",\"ASR\",\"ASR\",\"ASR\",\"ASR\",\"ASR\",\"ASR\",\"ASR\",\"ASR\",\"ASR\",\"ASR\",\"ASR\",\"ASR\",\"ASR\",\"ASR\",\"ASR\",\"ASR\",\"ASR\",\"ASR\",\"ASR\",\"ASR\",\"ASR\",\"ASR\",\"ASR\",\"ASR\",\"ASR\",\"ASR\",\"ASR\",\"ASR\",\"ASR\",\"ASR\",\"ASR\",\"ASR\",\"ASR\",\"ASR\",\"ASR\",\"ASR\",\"ASR\",\"ASR\",\"ASR\",\"ASR\",\"ASR\",\"ASR\",\"ASR\",\"ASR\",\"ASR\",\"ASR\",\"ASR\",\"ASR\",\"ASR\",\"ASR\",\"ASR\",\"ASR\",\"ASR\",\"ASR\",\"ASR\",\"ASR\",\"ASR\",\"ASR\",\"ASR\",\"ASR\",\"ASR\",\"ASR\",\"ASR\",\"ASR\",\"ASR\",\"ASR\",\"ASR\",\"ASR\",\"ASR\",\"ASR\",\"ASR\",\"ASR\",\"ASR\",\"ASR\",\"ASR\",\"ASR\",\"ASR\",\"ASR\",\"ASR\",\"ASR\",\"ASR\",\"ASR\",\"ASR\",\"ASR\",\"ASR\",\"ASR\",\"ASR\",\"ASR\",\"ASR\",\"ASR\",\"ASR\",\"ASR\",\"ASR\",\"ASR\",\"ASR\",\"ASR\",\"ASR\",\"ASR\",\"ASR\",\"ASR\",\"ASR\",\"ASR\",\"ASR\",\"ASR\",\"ASR\",\"ASR\",\"ASR\",\"ASR\",\"ASR\",\"ASR\",\"ASR\",\"ASR\",\"ASR\",\"ASR\",\"ASR\",\"ASR\",\"ASR\",\"ASR\",\"ASR\",\"ASR\",\"ASR\",\"ASR\",\"ASR\",\"ASR\",\"ASR\",\"ASR\",\"ASR\",\"ASR\",\"ASR\",\"ASR\",\"ASR\"],\"xaxis\":\"x\",\"yaxis\":\"y\",\"type\":\"histogram\"},{\"alignmentgroup\":\"True\",\"bingroup\":\"x\",\"hovertemplate\":\"Type=%{x}<br>count=%{y}<extra></extra>\",\"legendgroup\":\"ANS\",\"marker\":{\"color\":\"#EF553B\",\"pattern\":{\"shape\":\"\"},\"line\":{\"color\":\"#000000\",\"width\":2}},\"name\":\"ANS\",\"offsetgroup\":\"ANS\",\"orientation\":\"v\",\"showlegend\":true,\"x\":[\"ANS\",\"ANS\",\"ANS\",\"ANS\",\"ANS\",\"ANS\",\"ANS\",\"ANS\",\"ANS\",\"ANS\",\"ANS\",\"ANS\",\"ANS\",\"ANS\",\"ANS\",\"ANS\",\"ANS\",\"ANS\",\"ANS\",\"ANS\",\"ANS\",\"ANS\",\"ANS\",\"ANS\",\"ANS\",\"ANS\",\"ANS\",\"ANS\",\"ANS\",\"ANS\",\"ANS\",\"ANS\",\"ANS\",\"ANS\",\"ANS\",\"ANS\",\"ANS\",\"ANS\",\"ANS\",\"ANS\",\"ANS\",\"ANS\",\"ANS\",\"ANS\",\"ANS\",\"ANS\",\"ANS\",\"ANS\",\"ANS\",\"ANS\",\"ANS\",\"ANS\",\"ANS\",\"ANS\",\"ANS\",\"ANS\",\"ANS\",\"ANS\",\"ANS\",\"ANS\",\"ANS\",\"ANS\",\"ANS\",\"ANS\",\"ANS\",\"ANS\",\"ANS\",\"ANS\",\"ANS\",\"ANS\",\"ANS\",\"ANS\",\"ANS\",\"ANS\",\"ANS\",\"ANS\",\"ANS\"],\"xaxis\":\"x\",\"yaxis\":\"y\",\"type\":\"histogram\"},{\"alignmentgroup\":\"True\",\"bingroup\":\"x\",\"hovertemplate\":\"Type=%{x}<br>count=%{y}<extra></extra>\",\"legendgroup\":\"CRO\",\"marker\":{\"color\":\"#00cc96\",\"pattern\":{\"shape\":\"\"},\"line\":{\"color\":\"#000000\",\"width\":2}},\"name\":\"CRO\",\"offsetgroup\":\"CRO\",\"orientation\":\"v\",\"showlegend\":true,\"x\":[\"CRO\",\"CRO\",\"CRO\",\"CRO\",\"CRO\",\"CRO\",\"CRO\",\"CRO\",\"CRO\",\"CRO\",\"CRO\",\"CRO\",\"CRO\",\"CRO\",\"CRO\",\"CRO\",\"CRO\",\"CRO\",\"CRO\",\"CRO\",\"CRO\",\"CRO\",\"CRO\",\"CRO\",\"CRO\",\"CRO\",\"CRO\",\"CRO\",\"CRO\",\"CRO\",\"CRO\",\"CRO\",\"CRO\",\"CRO\",\"CRO\",\"CRO\",\"CRO\",\"CRO\",\"CRO\",\"CRO\",\"CRO\",\"CRO\",\"CRO\",\"CRO\",\"CRO\",\"CRO\",\"CRO\",\"CRO\",\"CRO\",\"CRO\",\"CRO\",\"CRO\",\"CRO\",\"CRO\",\"CRO\",\"CRO\",\"CRO\",\"CRO\",\"CRO\",\"CRO\",\"CRO\",\"CRO\",\"CRO\",\"CRO\",\"CRO\",\"CRO\",\"CRO\",\"CRO\",\"CRO\",\"CRO\",\"CRO\",\"CRO\",\"CRO\",\"CRO\",\"CRO\",\"CRO\",\"CRO\",\"CRO\",\"CRO\",\"CRO\",\"CRO\",\"CRO\",\"CRO\",\"CRO\",\"CRO\",\"CRO\",\"CRO\",\"CRO\",\"CRO\"],\"xaxis\":\"x\",\"yaxis\":\"y\",\"type\":\"histogram\"},{\"alignmentgroup\":\"True\",\"bingroup\":\"x\",\"hovertemplate\":\"Type=%{x}<br>count=%{y}<extra></extra>\",\"legendgroup\":\"FNS\",\"marker\":{\"color\":\"#ab63fa\",\"pattern\":{\"shape\":\"\"},\"line\":{\"color\":\"#000000\",\"width\":2}},\"name\":\"FNS\",\"offsetgroup\":\"FNS\",\"orientation\":\"v\",\"showlegend\":true,\"x\":[\"FNS\",\"FNS\",\"FNS\",\"FNS\",\"FNS\",\"FNS\",\"FNS\",\"FNS\",\"FNS\",\"FNS\",\"FNS\",\"FNS\",\"FNS\",\"FNS\",\"FNS\",\"FNS\",\"FNS\",\"FNS\",\"FNS\",\"FNS\",\"FNS\",\"FNS\",\"FNS\",\"FNS\",\"FNS\",\"FNS\",\"FNS\",\"FNS\",\"FNS\",\"FNS\",\"FNS\",\"FNS\",\"FNS\",\"FNS\",\"FNS\",\"FNS\",\"FNS\",\"FNS\",\"FNS\",\"FNS\",\"FNS\",\"FNS\",\"FNS\",\"FNS\",\"FNS\",\"FNS\",\"FNS\",\"FNS\",\"FNS\",\"FNS\",\"FNS\",\"FNS\",\"FNS\",\"FNS\",\"FNS\",\"FNS\",\"FNS\",\"FNS\",\"FNS\",\"FNS\",\"FNS\",\"FNS\",\"FNS\",\"FNS\",\"FNS\",\"FNS\",\"FNS\",\"FNS\",\"FNS\",\"FNS\",\"FNS\",\"FNS\",\"FNS\",\"FNS\",\"FNS\",\"FNS\",\"FNS\",\"FNS\",\"FNS\",\"FNS\",\"FNS\",\"FNS\",\"FNS\",\"FNS\",\"FNS\",\"FNS\",\"FNS\",\"FNS\",\"FNS\",\"FNS\",\"FNS\"],\"xaxis\":\"x\",\"yaxis\":\"y\",\"type\":\"histogram\"},{\"alignmentgroup\":\"True\",\"bingroup\":\"x\",\"hovertemplate\":\"Type=%{x}<br>count=%{y}<extra></extra>\",\"legendgroup\":\"ISE\",\"marker\":{\"color\":\"#FFA15A\",\"pattern\":{\"shape\":\"\"},\"line\":{\"color\":\"#000000\",\"width\":2}},\"name\":\"ISE\",\"offsetgroup\":\"ISE\",\"orientation\":\"v\",\"showlegend\":true,\"x\":[\"ISE\",\"ISE\",\"ISE\",\"ISE\",\"ISE\",\"ISE\",\"ISE\",\"ISE\",\"ISE\",\"ISE\",\"ISE\",\"ISE\",\"ISE\",\"ISE\",\"ISE\",\"ISE\",\"ISE\",\"ISE\",\"ISE\",\"ISE\",\"ISE\",\"ISE\",\"ISE\",\"ISE\",\"ISE\",\"ISE\",\"ISE\",\"ISE\",\"ISE\",\"ISE\",\"ISE\",\"ISE\",\"ISE\",\"ISE\",\"ISE\",\"ISE\",\"ISE\",\"ISE\",\"ISE\",\"ISE\",\"ISE\",\"ISE\",\"ISE\",\"ISE\",\"ISE\",\"ISE\",\"ISE\",\"ISE\",\"ISE\",\"ISE\",\"ISE\",\"ISE\",\"ISE\",\"ISE\",\"ISE\",\"ISE\",\"ISE\",\"ISE\",\"ISE\",\"ISE\",\"ISE\",\"ISE\",\"ISE\",\"ISE\",\"ISE\",\"ISE\",\"ISE\",\"ISE\",\"ISE\",\"ISE\",\"ISE\",\"ISE\",\"ISE\",\"ISE\",\"ISE\",\"ISE\",\"ISE\",\"ISE\",\"ISE\",\"ISE\",\"ISE\",\"ISE\",\"ISE\",\"ISE\",\"ISE\",\"ISE\"],\"xaxis\":\"x\",\"yaxis\":\"y\",\"type\":\"histogram\"},{\"alignmentgroup\":\"True\",\"bingroup\":\"x\",\"hovertemplate\":\"Type=%{x}<br>count=%{y}<extra></extra>\",\"legendgroup\":\"ONL\",\"marker\":{\"color\":\"#19d3f3\",\"pattern\":{\"shape\":\"\"},\"line\":{\"color\":\"#000000\",\"width\":2}},\"name\":\"ONL\",\"offsetgroup\":\"ONL\",\"orientation\":\"v\",\"showlegend\":true,\"x\":[\"ONL\",\"ONL\",\"ONL\",\"ONL\",\"ONL\",\"ONL\",\"ONL\",\"ONL\",\"ONL\",\"ONL\",\"ONL\",\"ONL\",\"ONL\",\"ONL\",\"ONL\",\"ONL\",\"ONL\",\"ONL\",\"ONL\",\"ONL\",\"ONL\",\"ONL\",\"ONL\",\"ONL\",\"ONL\",\"ONL\",\"ONL\",\"ONL\",\"ONL\",\"ONL\",\"ONL\",\"ONL\",\"ONL\",\"ONL\",\"ONL\",\"ONL\",\"ONL\",\"ONL\",\"ONL\",\"ONL\",\"ONL\",\"ONL\",\"ONL\",\"ONL\",\"ONL\",\"ONL\",\"ONL\",\"ONL\",\"ONL\",\"ONL\",\"ONL\",\"ONL\",\"ONL\",\"ONL\",\"ONL\",\"ONL\",\"ONL\",\"ONL\",\"ONL\",\"ONL\",\"ONL\",\"ONL\",\"ONL\",\"ONL\",\"ONL\",\"ONL\",\"ONL\",\"ONL\",\"ONL\",\"ONL\",\"ONL\",\"ONL\",\"ONL\",\"ONL\",\"ONL\",\"ONL\",\"ONL\",\"ONL\",\"ONL\",\"ONL\",\"ONL\",\"ONL\",\"ONL\",\"ONL\",\"ONL\",\"ONL\",\"ONL\",\"ONL\",\"ONL\",\"ONL\"],\"xaxis\":\"x\",\"yaxis\":\"y\",\"type\":\"histogram\"},{\"alignmentgroup\":\"True\",\"bingroup\":\"x\",\"hovertemplate\":\"Type=%{x}<br>count=%{y}<extra></extra>\",\"legendgroup\":\"STA\",\"marker\":{\"color\":\"#FF6692\",\"pattern\":{\"shape\":\"\"},\"line\":{\"color\":\"#000000\",\"width\":2}},\"name\":\"STA\",\"offsetgroup\":\"STA\",\"orientation\":\"v\",\"showlegend\":true,\"x\":[\"STA\",\"STA\",\"STA\",\"STA\",\"STA\",\"STA\",\"STA\",\"STA\",\"STA\",\"STA\",\"STA\",\"STA\",\"STA\",\"STA\",\"STA\",\"STA\",\"STA\",\"STA\",\"STA\",\"STA\",\"STA\",\"STA\",\"STA\",\"STA\",\"STA\",\"STA\",\"STA\",\"STA\",\"STA\",\"STA\",\"STA\",\"STA\",\"STA\"],\"xaxis\":\"x\",\"yaxis\":\"y\",\"type\":\"histogram\"},{\"alignmentgroup\":\"True\",\"bingroup\":\"x\",\"hovertemplate\":\"Type=%{x}<br>count=%{y}<extra></extra>\",\"legendgroup\":\"FNC\",\"marker\":{\"color\":\"#B6E880\",\"pattern\":{\"shape\":\"\"},\"line\":{\"color\":\"#000000\",\"width\":2}},\"name\":\"FNC\",\"offsetgroup\":\"FNC\",\"orientation\":\"v\",\"showlegend\":true,\"x\":[\"FNC\",\"FNC\",\"FNC\",\"FNC\",\"FNC\",\"FNC\",\"FNC\",\"FNC\",\"FNC\",\"FNC\",\"FNC\",\"FNC\",\"FNC\",\"FNC\",\"FNC\",\"FNC\",\"FNC\",\"FNC\",\"FNC\",\"FNC\",\"FNC\",\"FNC\",\"FNC\",\"FNC\",\"FNC\",\"FNC\",\"FNC\",\"FNC\",\"FNC\",\"FNC\",\"FNC\",\"FNC\",\"FNC\",\"FNC\",\"FNC\",\"FNC\",\"FNC\",\"FNC\",\"FNC\",\"FNC\",\"FNC\",\"FNC\",\"FNC\",\"FNC\",\"FNC\",\"FNC\",\"FNC\",\"FNC\",\"FNC\",\"FNC\",\"FNC\",\"FNC\",\"FNC\",\"FNC\",\"FNC\",\"FNC\",\"FNC\",\"FNC\",\"FNC\",\"FNC\",\"FNC\",\"FNC\",\"FNC\",\"FNC\",\"FNC\",\"FNC\",\"FNC\",\"FNC\",\"FNC\",\"FNC\",\"FNC\",\"FNC\",\"FNC\",\"FNC\",\"FNC\",\"FNC\",\"FNC\",\"FNC\",\"FNC\",\"FNC\",\"FNC\",\"FNC\",\"FNC\",\"FNC\",\"FNC\",\"FNC\",\"FNC\",\"FNC\",\"FNC\",\"FNC\",\"FNC\",\"FNC\",\"FNC\",\"FNC\",\"FNC\",\"FNC\",\"FNC\",\"FNC\",\"FNC\",\"FNC\",\"FNC\",\"FNC\",\"FNC\",\"FNC\",\"FNC\",\"FNC\",\"FNC\",\"FNC\",\"FNC\",\"FNC\",\"FNC\",\"FNC\",\"FNC\",\"FNC\",\"FNC\",\"FNC\",\"FNC\",\"FNC\",\"FNC\",\"FNC\",\"FNC\",\"FNC\",\"FNC\",\"FNC\",\"FNC\",\"FNC\",\"FNC\",\"FNC\",\"FNC\",\"FNC\",\"FNC\",\"FNC\",\"FNC\",\"FNC\",\"FNC\",\"FNC\",\"FNC\",\"FNC\"],\"xaxis\":\"x\",\"yaxis\":\"y\",\"type\":\"histogram\"},{\"alignmentgroup\":\"True\",\"bingroup\":\"x\",\"hovertemplate\":\"Type=%{x}<br>count=%{y}<extra></extra>\",\"legendgroup\":\"HNT\",\"marker\":{\"color\":\"#FF97FF\",\"pattern\":{\"shape\":\"\"},\"line\":{\"color\":\"#000000\",\"width\":2}},\"name\":\"HNT\",\"offsetgroup\":\"HNT\",\"orientation\":\"v\",\"showlegend\":true,\"x\":[\"HNT\",\"HNT\",\"HNT\",\"HNT\",\"HNT\",\"HNT\",\"HNT\",\"HNT\",\"HNT\",\"HNT\",\"HNT\",\"HNT\",\"HNT\",\"HNT\",\"HNT\",\"HNT\",\"HNT\",\"HNT\",\"HNT\",\"HNT\",\"HNT\",\"HNT\",\"HNT\",\"HNT\",\"HNT\",\"HNT\",\"HNT\",\"HNT\",\"HNT\",\"HNT\",\"HNT\",\"HNT\",\"HNT\",\"HNT\",\"HNT\",\"HNT\",\"HNT\",\"HNT\",\"HNT\",\"HNT\",\"HNT\",\"HNT\",\"HNT\",\"HNT\",\"HNT\",\"HNT\",\"HNT\",\"HNT\",\"HNT\",\"HNT\",\"HNT\",\"HNT\",\"HNT\",\"HNT\",\"HNT\",\"HNT\",\"HNT\",\"HNT\",\"HNT\",\"HNT\",\"HNT\",\"HNT\",\"HNT\",\"HNT\"],\"xaxis\":\"x\",\"yaxis\":\"y\",\"type\":\"histogram\"},{\"alignmentgroup\":\"True\",\"bingroup\":\"x\",\"hovertemplate\":\"Type=%{x}<br>count=%{y}<extra></extra>\",\"legendgroup\":\"HWS\",\"marker\":{\"color\":\"#FECB52\",\"pattern\":{\"shape\":\"\"},\"line\":{\"color\":\"#000000\",\"width\":2}},\"name\":\"HWS\",\"offsetgroup\":\"HWS\",\"orientation\":\"v\",\"showlegend\":true,\"x\":[\"HWS\",\"HWS\",\"HWS\",\"HWS\",\"HWS\",\"HWS\",\"HWS\",\"HWS\",\"HWS\",\"HWS\",\"HWS\",\"HWS\",\"HWS\",\"HWS\",\"HWS\",\"HWS\",\"HWS\",\"HWS\",\"HWS\",\"HWS\",\"HWS\",\"HWS\",\"HWS\",\"HWS\",\"HWS\",\"HWS\",\"HWS\",\"HWS\",\"HWS\",\"HWS\",\"HWS\",\"HWS\",\"HWS\",\"HWS\",\"HWS\",\"HWS\",\"HWS\",\"HWS\",\"HWS\",\"HWS\",\"HWS\",\"HWS\",\"HWS\",\"HWS\",\"HWS\",\"HWS\",\"HWS\",\"HWS\",\"HWS\",\"HWS\",\"HWS\",\"HWS\",\"HWS\"],\"xaxis\":\"x\",\"yaxis\":\"y\",\"type\":\"histogram\"},{\"alignmentgroup\":\"True\",\"bingroup\":\"x\",\"hovertemplate\":\"Type=%{x}<br>count=%{y}<extra></extra>\",\"legendgroup\":\"ANT\",\"marker\":{\"color\":\"#636efa\",\"pattern\":{\"shape\":\"\"},\"line\":{\"color\":\"#000000\",\"width\":2}},\"name\":\"ANT\",\"offsetgroup\":\"ANT\",\"orientation\":\"v\",\"showlegend\":true,\"x\":[\"ANT\",\"ANT\",\"ANT\",\"ANT\",\"ANT\",\"ANT\",\"ANT\",\"ANT\",\"ANT\",\"ANT\",\"ANT\",\"ANT\",\"ANT\",\"ANT\",\"ANT\",\"ANT\",\"ANT\",\"ANT\",\"ANT\",\"ANT\",\"ANT\",\"ANT\",\"ANT\",\"ANT\",\"ANT\",\"ANT\",\"ANT\",\"ANT\",\"ANT\",\"ANT\",\"ANT\",\"ANT\",\"ANT\",\"ANT\",\"ANT\",\"ANT\",\"ANT\",\"ANT\",\"ANT\",\"ANT\"],\"xaxis\":\"x\",\"yaxis\":\"y\",\"type\":\"histogram\"}],                        {\"template\":{\"data\":{\"histogram2dcontour\":[{\"type\":\"histogram2dcontour\",\"colorbar\":{\"outlinewidth\":0,\"ticks\":\"\"},\"colorscale\":[[0.0,\"#0d0887\"],[0.1111111111111111,\"#46039f\"],[0.2222222222222222,\"#7201a8\"],[0.3333333333333333,\"#9c179e\"],[0.4444444444444444,\"#bd3786\"],[0.5555555555555556,\"#d8576b\"],[0.6666666666666666,\"#ed7953\"],[0.7777777777777778,\"#fb9f3a\"],[0.8888888888888888,\"#fdca26\"],[1.0,\"#f0f921\"]]}],\"choropleth\":[{\"type\":\"choropleth\",\"colorbar\":{\"outlinewidth\":0,\"ticks\":\"\"}}],\"histogram2d\":[{\"type\":\"histogram2d\",\"colorbar\":{\"outlinewidth\":0,\"ticks\":\"\"},\"colorscale\":[[0.0,\"#0d0887\"],[0.1111111111111111,\"#46039f\"],[0.2222222222222222,\"#7201a8\"],[0.3333333333333333,\"#9c179e\"],[0.4444444444444444,\"#bd3786\"],[0.5555555555555556,\"#d8576b\"],[0.6666666666666666,\"#ed7953\"],[0.7777777777777778,\"#fb9f3a\"],[0.8888888888888888,\"#fdca26\"],[1.0,\"#f0f921\"]]}],\"heatmap\":[{\"type\":\"heatmap\",\"colorbar\":{\"outlinewidth\":0,\"ticks\":\"\"},\"colorscale\":[[0.0,\"#0d0887\"],[0.1111111111111111,\"#46039f\"],[0.2222222222222222,\"#7201a8\"],[0.3333333333333333,\"#9c179e\"],[0.4444444444444444,\"#bd3786\"],[0.5555555555555556,\"#d8576b\"],[0.6666666666666666,\"#ed7953\"],[0.7777777777777778,\"#fb9f3a\"],[0.8888888888888888,\"#fdca26\"],[1.0,\"#f0f921\"]]}],\"heatmapgl\":[{\"type\":\"heatmapgl\",\"colorbar\":{\"outlinewidth\":0,\"ticks\":\"\"},\"colorscale\":[[0.0,\"#0d0887\"],[0.1111111111111111,\"#46039f\"],[0.2222222222222222,\"#7201a8\"],[0.3333333333333333,\"#9c179e\"],[0.4444444444444444,\"#bd3786\"],[0.5555555555555556,\"#d8576b\"],[0.6666666666666666,\"#ed7953\"],[0.7777777777777778,\"#fb9f3a\"],[0.8888888888888888,\"#fdca26\"],[1.0,\"#f0f921\"]]}],\"contourcarpet\":[{\"type\":\"contourcarpet\",\"colorbar\":{\"outlinewidth\":0,\"ticks\":\"\"}}],\"contour\":[{\"type\":\"contour\",\"colorbar\":{\"outlinewidth\":0,\"ticks\":\"\"},\"colorscale\":[[0.0,\"#0d0887\"],[0.1111111111111111,\"#46039f\"],[0.2222222222222222,\"#7201a8\"],[0.3333333333333333,\"#9c179e\"],[0.4444444444444444,\"#bd3786\"],[0.5555555555555556,\"#d8576b\"],[0.6666666666666666,\"#ed7953\"],[0.7777777777777778,\"#fb9f3a\"],[0.8888888888888888,\"#fdca26\"],[1.0,\"#f0f921\"]]}],\"surface\":[{\"type\":\"surface\",\"colorbar\":{\"outlinewidth\":0,\"ticks\":\"\"},\"colorscale\":[[0.0,\"#0d0887\"],[0.1111111111111111,\"#46039f\"],[0.2222222222222222,\"#7201a8\"],[0.3333333333333333,\"#9c179e\"],[0.4444444444444444,\"#bd3786\"],[0.5555555555555556,\"#d8576b\"],[0.6666666666666666,\"#ed7953\"],[0.7777777777777778,\"#fb9f3a\"],[0.8888888888888888,\"#fdca26\"],[1.0,\"#f0f921\"]]}],\"mesh3d\":[{\"type\":\"mesh3d\",\"colorbar\":{\"outlinewidth\":0,\"ticks\":\"\"}}],\"scatter\":[{\"fillpattern\":{\"fillmode\":\"overlay\",\"size\":10,\"solidity\":0.2},\"type\":\"scatter\"}],\"parcoords\":[{\"type\":\"parcoords\",\"line\":{\"colorbar\":{\"outlinewidth\":0,\"ticks\":\"\"}}}],\"scatterpolargl\":[{\"type\":\"scatterpolargl\",\"marker\":{\"colorbar\":{\"outlinewidth\":0,\"ticks\":\"\"}}}],\"bar\":[{\"error_x\":{\"color\":\"#2a3f5f\"},\"error_y\":{\"color\":\"#2a3f5f\"},\"marker\":{\"line\":{\"color\":\"#E5ECF6\",\"width\":0.5},\"pattern\":{\"fillmode\":\"overlay\",\"size\":10,\"solidity\":0.2}},\"type\":\"bar\"}],\"scattergeo\":[{\"type\":\"scattergeo\",\"marker\":{\"colorbar\":{\"outlinewidth\":0,\"ticks\":\"\"}}}],\"scatterpolar\":[{\"type\":\"scatterpolar\",\"marker\":{\"colorbar\":{\"outlinewidth\":0,\"ticks\":\"\"}}}],\"histogram\":[{\"marker\":{\"pattern\":{\"fillmode\":\"overlay\",\"size\":10,\"solidity\":0.2}},\"type\":\"histogram\"}],\"scattergl\":[{\"type\":\"scattergl\",\"marker\":{\"colorbar\":{\"outlinewidth\":0,\"ticks\":\"\"}}}],\"scatter3d\":[{\"type\":\"scatter3d\",\"line\":{\"colorbar\":{\"outlinewidth\":0,\"ticks\":\"\"}},\"marker\":{\"colorbar\":{\"outlinewidth\":0,\"ticks\":\"\"}}}],\"scattermapbox\":[{\"type\":\"scattermapbox\",\"marker\":{\"colorbar\":{\"outlinewidth\":0,\"ticks\":\"\"}}}],\"scatterternary\":[{\"type\":\"scatterternary\",\"marker\":{\"colorbar\":{\"outlinewidth\":0,\"ticks\":\"\"}}}],\"scattercarpet\":[{\"type\":\"scattercarpet\",\"marker\":{\"colorbar\":{\"outlinewidth\":0,\"ticks\":\"\"}}}],\"carpet\":[{\"aaxis\":{\"endlinecolor\":\"#2a3f5f\",\"gridcolor\":\"white\",\"linecolor\":\"white\",\"minorgridcolor\":\"white\",\"startlinecolor\":\"#2a3f5f\"},\"baxis\":{\"endlinecolor\":\"#2a3f5f\",\"gridcolor\":\"white\",\"linecolor\":\"white\",\"minorgridcolor\":\"white\",\"startlinecolor\":\"#2a3f5f\"},\"type\":\"carpet\"}],\"table\":[{\"cells\":{\"fill\":{\"color\":\"#EBF0F8\"},\"line\":{\"color\":\"white\"}},\"header\":{\"fill\":{\"color\":\"#C8D4E3\"},\"line\":{\"color\":\"white\"}},\"type\":\"table\"}],\"barpolar\":[{\"marker\":{\"line\":{\"color\":\"#E5ECF6\",\"width\":0.5},\"pattern\":{\"fillmode\":\"overlay\",\"size\":10,\"solidity\":0.2}},\"type\":\"barpolar\"}],\"pie\":[{\"automargin\":true,\"type\":\"pie\"}]},\"layout\":{\"autotypenumbers\":\"strict\",\"colorway\":[\"#636efa\",\"#EF553B\",\"#00cc96\",\"#ab63fa\",\"#FFA15A\",\"#19d3f3\",\"#FF6692\",\"#B6E880\",\"#FF97FF\",\"#FECB52\"],\"font\":{\"color\":\"#2a3f5f\"},\"hovermode\":\"closest\",\"hoverlabel\":{\"align\":\"left\"},\"paper_bgcolor\":\"white\",\"plot_bgcolor\":\"#E5ECF6\",\"polar\":{\"bgcolor\":\"#E5ECF6\",\"angularaxis\":{\"gridcolor\":\"white\",\"linecolor\":\"white\",\"ticks\":\"\"},\"radialaxis\":{\"gridcolor\":\"white\",\"linecolor\":\"white\",\"ticks\":\"\"}},\"ternary\":{\"bgcolor\":\"#E5ECF6\",\"aaxis\":{\"gridcolor\":\"white\",\"linecolor\":\"white\",\"ticks\":\"\"},\"baxis\":{\"gridcolor\":\"white\",\"linecolor\":\"white\",\"ticks\":\"\"},\"caxis\":{\"gridcolor\":\"white\",\"linecolor\":\"white\",\"ticks\":\"\"}},\"coloraxis\":{\"colorbar\":{\"outlinewidth\":0,\"ticks\":\"\"}},\"colorscale\":{\"sequential\":[[0.0,\"#0d0887\"],[0.1111111111111111,\"#46039f\"],[0.2222222222222222,\"#7201a8\"],[0.3333333333333333,\"#9c179e\"],[0.4444444444444444,\"#bd3786\"],[0.5555555555555556,\"#d8576b\"],[0.6666666666666666,\"#ed7953\"],[0.7777777777777778,\"#fb9f3a\"],[0.8888888888888888,\"#fdca26\"],[1.0,\"#f0f921\"]],\"sequentialminus\":[[0.0,\"#0d0887\"],[0.1111111111111111,\"#46039f\"],[0.2222222222222222,\"#7201a8\"],[0.3333333333333333,\"#9c179e\"],[0.4444444444444444,\"#bd3786\"],[0.5555555555555556,\"#d8576b\"],[0.6666666666666666,\"#ed7953\"],[0.7777777777777778,\"#fb9f3a\"],[0.8888888888888888,\"#fdca26\"],[1.0,\"#f0f921\"]],\"diverging\":[[0,\"#8e0152\"],[0.1,\"#c51b7d\"],[0.2,\"#de77ae\"],[0.3,\"#f1b6da\"],[0.4,\"#fde0ef\"],[0.5,\"#f7f7f7\"],[0.6,\"#e6f5d0\"],[0.7,\"#b8e186\"],[0.8,\"#7fbc41\"],[0.9,\"#4d9221\"],[1,\"#276419\"]]},\"xaxis\":{\"gridcolor\":\"white\",\"linecolor\":\"white\",\"ticks\":\"\",\"title\":{\"standoff\":15},\"zerolinecolor\":\"white\",\"automargin\":true,\"zerolinewidth\":2},\"yaxis\":{\"gridcolor\":\"white\",\"linecolor\":\"white\",\"ticks\":\"\",\"title\":{\"standoff\":15},\"zerolinecolor\":\"white\",\"automargin\":true,\"zerolinewidth\":2},\"scene\":{\"xaxis\":{\"backgroundcolor\":\"#E5ECF6\",\"gridcolor\":\"white\",\"linecolor\":\"white\",\"showbackground\":true,\"ticks\":\"\",\"zerolinecolor\":\"white\",\"gridwidth\":2},\"yaxis\":{\"backgroundcolor\":\"#E5ECF6\",\"gridcolor\":\"white\",\"linecolor\":\"white\",\"showbackground\":true,\"ticks\":\"\",\"zerolinecolor\":\"white\",\"gridwidth\":2},\"zaxis\":{\"backgroundcolor\":\"#E5ECF6\",\"gridcolor\":\"white\",\"linecolor\":\"white\",\"showbackground\":true,\"ticks\":\"\",\"zerolinecolor\":\"white\",\"gridwidth\":2}},\"shapedefaults\":{\"line\":{\"color\":\"#2a3f5f\"}},\"annotationdefaults\":{\"arrowcolor\":\"#2a3f5f\",\"arrowhead\":0,\"arrowwidth\":1},\"geo\":{\"bgcolor\":\"white\",\"landcolor\":\"#E5ECF6\",\"subunitcolor\":\"white\",\"showland\":true,\"showlakes\":true,\"lakecolor\":\"white\"},\"title\":{\"x\":0.05},\"mapbox\":{\"style\":\"light\"}}},\"xaxis\":{\"anchor\":\"y\",\"domain\":[0.0,1.0],\"title\":{\"text\":\"Type\"}},\"yaxis\":{\"anchor\":\"x\",\"domain\":[0.0,1.0],\"title\":{\"text\":\"count\"}},\"legend\":{\"title\":{\"text\":\"Type\"},\"tracegroupgap\":0},\"margin\":{\"t\":60},\"barmode\":\"relative\",\"bargap\":0.2,\"title\":{\"font\":{\"size\":20},\"text\":\"Distribution of the complaints\",\"x\":0.5}},                        {\"responsive\": true}                    ).then(function(){\n",
              "                            \n",
              "var gd = document.getElementById('ab899215-ac94-4072-bcbf-aa0bbf0b329e');\n",
              "var x = new MutationObserver(function (mutations, observer) {{\n",
              "        var display = window.getComputedStyle(gd).display;\n",
              "        if (!display || display === 'none') {{\n",
              "            console.log([gd, 'removed!']);\n",
              "            Plotly.purge(gd);\n",
              "            observer.disconnect();\n",
              "        }}\n",
              "}});\n",
              "\n",
              "// Listen for the removal of the full notebook cells\n",
              "var notebookContainer = gd.closest('#notebook-container');\n",
              "if (notebookContainer) {{\n",
              "    x.observe(notebookContainer, {childList: true});\n",
              "}}\n",
              "\n",
              "// Listen for the clearing of the current output cell\n",
              "var outputEl = gd.closest('.output');\n",
              "if (outputEl) {{\n",
              "    x.observe(outputEl, {childList: true});\n",
              "}}\n",
              "\n",
              "                        })                };                            </script>        </div>\n",
              "</body>\n",
              "</html>"
            ]
          },
          "metadata": {}
        }
      ]
    },
    {
      "cell_type": "markdown",
      "source": [
        "459 complaints are coming from ASR and FNC"
      ],
      "metadata": {
        "id": "3g2xqWTrMO8X"
      }
    },
    {
      "cell_type": "code",
      "source": [
        "fig = px.histogram(data['status'],\n",
        "                   labels={'value': 'Status',\n",
        "                           'count': 'Frequency',\n",
        "                           'color': 'Status'}, color=data['status'])\n",
        "fig.update_layout(bargap=0.2)\n",
        "fig.update_traces(marker=dict(line=dict(color='#000000', width=2)))\n",
        "fig.update_layout(title_text='Distribution of the complaints',\n",
        "                  title_x=0.5, title_font=dict(size=20))\n",
        "fig.show()"
      ],
      "metadata": {
        "colab": {
          "base_uri": "https://localhost:8080/",
          "height": 542
        },
        "id": "ub-GlCH2MaX2",
        "outputId": "213a10cf-9d47-407c-8f67-092efce4a8f9"
      },
      "execution_count": null,
      "outputs": [
        {
          "output_type": "display_data",
          "data": {
            "text/html": [
              "<html>\n",
              "<head><meta charset=\"utf-8\" /></head>\n",
              "<body>\n",
              "    <div>            <script src=\"https://cdnjs.cloudflare.com/ajax/libs/mathjax/2.7.5/MathJax.js?config=TeX-AMS-MML_SVG\"></script><script type=\"text/javascript\">if (window.MathJax && window.MathJax.Hub && window.MathJax.Hub.Config) {window.MathJax.Hub.Config({SVG: {font: \"STIX-Web\"}});}</script>                <script type=\"text/javascript\">window.PlotlyConfig = {MathJaxConfig: 'local'};</script>\n",
              "        <script src=\"https://cdn.plot.ly/plotly-2.18.2.min.js\"></script>                <div id=\"908df647-34da-4ae5-a651-240451b8823b\" class=\"plotly-graph-div\" style=\"height:525px; width:100%;\"></div>            <script type=\"text/javascript\">                                    window.PLOTLYENV=window.PLOTLYENV || {};                                    if (document.getElementById(\"908df647-34da-4ae5-a651-240451b8823b\")) {                    Plotly.newPlot(                        \"908df647-34da-4ae5-a651-240451b8823b\",                        [{\"alignmentgroup\":\"True\",\"bingroup\":\"x\",\"hovertemplate\":\"Status=%{x}<br>count=%{y}<extra></extra>\",\"legendgroup\":\"OPEN\",\"marker\":{\"color\":\"#636efa\",\"pattern\":{\"shape\":\"\"},\"line\":{\"color\":\"#000000\",\"width\":2}},\"name\":\"OPEN\",\"offsetgroup\":\"OPEN\",\"orientation\":\"v\",\"showlegend\":true,\"x\":[\"OPEN\",\"OPEN\",\"OPEN\",\"OPEN\",\"OPEN\",\"OPEN\",\"OPEN\",\"OPEN\",\"OPEN\",\"OPEN\",\"OPEN\",\"OPEN\",\"OPEN\",\"OPEN\",\"OPEN\",\"OPEN\",\"OPEN\",\"OPEN\",\"OPEN\",\"OPEN\",\"OPEN\",\"OPEN\",\"OPEN\",\"OPEN\",\"OPEN\",\"OPEN\",\"OPEN\",\"OPEN\",\"OPEN\",\"OPEN\",\"OPEN\",\"OPEN\",\"OPEN\",\"OPEN\",\"OPEN\",\"OPEN\",\"OPEN\",\"OPEN\",\"OPEN\",\"OPEN\",\"OPEN\",\"OPEN\",\"OPEN\",\"OPEN\",\"OPEN\",\"OPEN\",\"OPEN\",\"OPEN\",\"OPEN\",\"OPEN\",\"OPEN\",\"OPEN\",\"OPEN\",\"OPEN\",\"OPEN\",\"OPEN\",\"OPEN\",\"OPEN\",\"OPEN\",\"OPEN\",\"OPEN\",\"OPEN\",\"OPEN\",\"OPEN\",\"OPEN\",\"OPEN\",\"OPEN\",\"OPEN\",\"OPEN\",\"OPEN\",\"OPEN\",\"OPEN\",\"OPEN\",\"OPEN\",\"OPEN\",\"OPEN\",\"OPEN\",\"OPEN\",\"OPEN\",\"OPEN\",\"OPEN\",\"OPEN\",\"OPEN\",\"OPEN\",\"OPEN\",\"OPEN\",\"OPEN\",\"OPEN\",\"OPEN\",\"OPEN\",\"OPEN\",\"OPEN\",\"OPEN\",\"OPEN\",\"OPEN\",\"OPEN\",\"OPEN\",\"OPEN\",\"OPEN\",\"OPEN\",\"OPEN\",\"OPEN\",\"OPEN\",\"OPEN\",\"OPEN\",\"OPEN\",\"OPEN\",\"OPEN\",\"OPEN\",\"OPEN\",\"OPEN\",\"OPEN\",\"OPEN\",\"OPEN\",\"OPEN\",\"OPEN\",\"OPEN\",\"OPEN\",\"OPEN\",\"OPEN\",\"OPEN\",\"OPEN\",\"OPEN\",\"OPEN\",\"OPEN\",\"OPEN\",\"OPEN\",\"OPEN\",\"OPEN\",\"OPEN\",\"OPEN\",\"OPEN\",\"OPEN\",\"OPEN\",\"OPEN\",\"OPEN\",\"OPEN\",\"OPEN\",\"OPEN\",\"OPEN\",\"OPEN\",\"OPEN\",\"OPEN\",\"OPEN\",\"OPEN\",\"OPEN\",\"OPEN\",\"OPEN\",\"OPEN\",\"OPEN\",\"OPEN\",\"OPEN\",\"OPEN\",\"OPEN\",\"OPEN\",\"OPEN\",\"OPEN\",\"OPEN\",\"OPEN\",\"OPEN\",\"OPEN\",\"OPEN\",\"OPEN\",\"OPEN\",\"OPEN\",\"OPEN\",\"OPEN\",\"OPEN\",\"OPEN\",\"OPEN\",\"OPEN\",\"OPEN\",\"OPEN\",\"OPEN\",\"OPEN\",\"OPEN\",\"OPEN\",\"OPEN\",\"OPEN\",\"OPEN\",\"OPEN\",\"OPEN\",\"OPEN\",\"OPEN\",\"OPEN\",\"OPEN\",\"OPEN\",\"OPEN\",\"OPEN\",\"OPEN\",\"OPEN\",\"OPEN\",\"OPEN\",\"OPEN\",\"OPEN\",\"OPEN\",\"OPEN\"],\"xaxis\":\"x\",\"yaxis\":\"y\",\"type\":\"histogram\"},{\"alignmentgroup\":\"True\",\"bingroup\":\"x\",\"hovertemplate\":\"Status=%{x}<br>count=%{y}<extra></extra>\",\"legendgroup\":\"CLOSE\",\"marker\":{\"color\":\"#EF553B\",\"pattern\":{\"shape\":\"\"},\"line\":{\"color\":\"#000000\",\"width\":2}},\"name\":\"CLOSE\",\"offsetgroup\":\"CLOSE\",\"orientation\":\"v\",\"showlegend\":true,\"x\":[\"CLOSE\",\"CLOSE\",\"CLOSE\",\"CLOSE\",\"CLOSE\",\"CLOSE\",\"CLOSE\",\"CLOSE\",\"CLOSE\",\"CLOSE\",\"CLOSE\",\"CLOSE\",\"CLOSE\",\"CLOSE\",\"CLOSE\",\"CLOSE\",\"CLOSE\",\"CLOSE\",\"CLOSE\",\"CLOSE\",\"CLOSE\",\"CLOSE\",\"CLOSE\",\"CLOSE\",\"CLOSE\",\"CLOSE\",\"CLOSE\",\"CLOSE\",\"CLOSE\",\"CLOSE\",\"CLOSE\",\"CLOSE\",\"CLOSE\",\"CLOSE\",\"CLOSE\",\"CLOSE\",\"CLOSE\",\"CLOSE\",\"CLOSE\",\"CLOSE\",\"CLOSE\",\"CLOSE\",\"CLOSE\",\"CLOSE\",\"CLOSE\",\"CLOSE\",\"CLOSE\",\"CLOSE\",\"CLOSE\",\"CLOSE\",\"CLOSE\",\"CLOSE\",\"CLOSE\",\"CLOSE\",\"CLOSE\",\"CLOSE\",\"CLOSE\",\"CLOSE\",\"CLOSE\",\"CLOSE\",\"CLOSE\",\"CLOSE\",\"CLOSE\",\"CLOSE\",\"CLOSE\",\"CLOSE\",\"CLOSE\",\"CLOSE\",\"CLOSE\",\"CLOSE\",\"CLOSE\",\"CLOSE\",\"CLOSE\",\"CLOSE\",\"CLOSE\",\"CLOSE\",\"CLOSE\",\"CLOSE\",\"CLOSE\",\"CLOSE\",\"CLOSE\",\"CLOSE\",\"CLOSE\",\"CLOSE\",\"CLOSE\",\"CLOSE\",\"CLOSE\",\"CLOSE\",\"CLOSE\",\"CLOSE\",\"CLOSE\",\"CLOSE\",\"CLOSE\",\"CLOSE\",\"CLOSE\",\"CLOSE\",\"CLOSE\",\"CLOSE\",\"CLOSE\",\"CLOSE\",\"CLOSE\",\"CLOSE\",\"CLOSE\",\"CLOSE\",\"CLOSE\",\"CLOSE\",\"CLOSE\",\"CLOSE\",\"CLOSE\",\"CLOSE\",\"CLOSE\",\"CLOSE\",\"CLOSE\",\"CLOSE\",\"CLOSE\",\"CLOSE\",\"CLOSE\",\"CLOSE\",\"CLOSE\",\"CLOSE\",\"CLOSE\",\"CLOSE\",\"CLOSE\",\"CLOSE\",\"CLOSE\",\"CLOSE\",\"CLOSE\",\"CLOSE\",\"CLOSE\",\"CLOSE\",\"CLOSE\",\"CLOSE\",\"CLOSE\",\"CLOSE\",\"CLOSE\",\"CLOSE\",\"CLOSE\",\"CLOSE\",\"CLOSE\",\"CLOSE\",\"CLOSE\",\"CLOSE\",\"CLOSE\",\"CLOSE\",\"CLOSE\",\"CLOSE\",\"CLOSE\",\"CLOSE\",\"CLOSE\",\"CLOSE\",\"CLOSE\",\"CLOSE\",\"CLOSE\",\"CLOSE\",\"CLOSE\",\"CLOSE\",\"CLOSE\",\"CLOSE\",\"CLOSE\",\"CLOSE\",\"CLOSE\",\"CLOSE\",\"CLOSE\",\"CLOSE\",\"CLOSE\",\"CLOSE\",\"CLOSE\",\"CLOSE\",\"CLOSE\",\"CLOSE\",\"CLOSE\",\"CLOSE\",\"CLOSE\",\"CLOSE\",\"CLOSE\",\"CLOSE\",\"CLOSE\",\"CLOSE\",\"CLOSE\",\"CLOSE\",\"CLOSE\",\"CLOSE\",\"CLOSE\",\"CLOSE\",\"CLOSE\",\"CLOSE\",\"CLOSE\",\"CLOSE\",\"CLOSE\",\"CLOSE\",\"CLOSE\",\"CLOSE\",\"CLOSE\",\"CLOSE\",\"CLOSE\",\"CLOSE\",\"CLOSE\",\"CLOSE\",\"CLOSE\",\"CLOSE\",\"CLOSE\",\"CLOSE\",\"CLOSE\",\"CLOSE\",\"CLOSE\",\"CLOSE\",\"CLOSE\",\"CLOSE\",\"CLOSE\",\"CLOSE\",\"CLOSE\",\"CLOSE\",\"CLOSE\",\"CLOSE\",\"CLOSE\",\"CLOSE\",\"CLOSE\",\"CLOSE\",\"CLOSE\",\"CLOSE\",\"CLOSE\",\"CLOSE\",\"CLOSE\",\"CLOSE\",\"CLOSE\",\"CLOSE\",\"CLOSE\",\"CLOSE\",\"CLOSE\",\"CLOSE\",\"CLOSE\",\"CLOSE\",\"CLOSE\",\"CLOSE\",\"CLOSE\",\"CLOSE\",\"CLOSE\",\"CLOSE\",\"CLOSE\",\"CLOSE\",\"CLOSE\",\"CLOSE\",\"CLOSE\",\"CLOSE\",\"CLOSE\",\"CLOSE\",\"CLOSE\",\"CLOSE\",\"CLOSE\",\"CLOSE\",\"CLOSE\",\"CLOSE\",\"CLOSE\",\"CLOSE\",\"CLOSE\",\"CLOSE\",\"CLOSE\",\"CLOSE\",\"CLOSE\",\"CLOSE\",\"CLOSE\",\"CLOSE\",\"CLOSE\",\"CLOSE\",\"CLOSE\",\"CLOSE\",\"CLOSE\",\"CLOSE\",\"CLOSE\",\"CLOSE\",\"CLOSE\",\"CLOSE\",\"CLOSE\",\"CLOSE\",\"CLOSE\",\"CLOSE\",\"CLOSE\",\"CLOSE\",\"CLOSE\",\"CLOSE\",\"CLOSE\",\"CLOSE\",\"CLOSE\",\"CLOSE\",\"CLOSE\",\"CLOSE\",\"CLOSE\",\"CLOSE\",\"CLOSE\",\"CLOSE\",\"CLOSE\",\"CLOSE\",\"CLOSE\",\"CLOSE\",\"CLOSE\",\"CLOSE\",\"CLOSE\",\"CLOSE\",\"CLOSE\",\"CLOSE\",\"CLOSE\",\"CLOSE\",\"CLOSE\",\"CLOSE\",\"CLOSE\",\"CLOSE\",\"CLOSE\",\"CLOSE\",\"CLOSE\",\"CLOSE\",\"CLOSE\",\"CLOSE\",\"CLOSE\",\"CLOSE\",\"CLOSE\",\"CLOSE\",\"CLOSE\",\"CLOSE\",\"CLOSE\",\"CLOSE\",\"CLOSE\",\"CLOSE\",\"CLOSE\",\"CLOSE\",\"CLOSE\",\"CLOSE\",\"CLOSE\",\"CLOSE\",\"CLOSE\",\"CLOSE\",\"CLOSE\",\"CLOSE\",\"CLOSE\",\"CLOSE\",\"CLOSE\",\"CLOSE\",\"CLOSE\",\"CLOSE\",\"CLOSE\",\"CLOSE\",\"CLOSE\",\"CLOSE\",\"CLOSE\",\"CLOSE\",\"CLOSE\",\"CLOSE\",\"CLOSE\",\"CLOSE\",\"CLOSE\",\"CLOSE\",\"CLOSE\",\"CLOSE\",\"CLOSE\",\"CLOSE\",\"CLOSE\",\"CLOSE\",\"CLOSE\",\"CLOSE\",\"CLOSE\",\"CLOSE\",\"CLOSE\",\"CLOSE\",\"CLOSE\",\"CLOSE\",\"CLOSE\",\"CLOSE\",\"CLOSE\",\"CLOSE\",\"CLOSE\",\"CLOSE\",\"CLOSE\",\"CLOSE\",\"CLOSE\",\"CLOSE\",\"CLOSE\",\"CLOSE\",\"CLOSE\",\"CLOSE\",\"CLOSE\",\"CLOSE\",\"CLOSE\",\"CLOSE\",\"CLOSE\",\"CLOSE\",\"CLOSE\",\"CLOSE\",\"CLOSE\",\"CLOSE\",\"CLOSE\",\"CLOSE\",\"CLOSE\",\"CLOSE\",\"CLOSE\",\"CLOSE\",\"CLOSE\",\"CLOSE\",\"CLOSE\",\"CLOSE\",\"CLOSE\",\"CLOSE\",\"CLOSE\",\"CLOSE\",\"CLOSE\",\"CLOSE\",\"CLOSE\",\"CLOSE\",\"CLOSE\",\"CLOSE\",\"CLOSE\",\"CLOSE\",\"CLOSE\",\"CLOSE\",\"CLOSE\",\"CLOSE\",\"CLOSE\",\"CLOSE\",\"CLOSE\",\"CLOSE\",\"CLOSE\",\"CLOSE\",\"CLOSE\",\"CLOSE\",\"CLOSE\",\"CLOSE\",\"CLOSE\",\"CLOSE\",\"CLOSE\",\"CLOSE\",\"CLOSE\",\"CLOSE\",\"CLOSE\",\"CLOSE\",\"CLOSE\",\"CLOSE\",\"CLOSE\",\"CLOSE\",\"CLOSE\",\"CLOSE\",\"CLOSE\",\"CLOSE\",\"CLOSE\",\"CLOSE\",\"CLOSE\",\"CLOSE\",\"CLOSE\",\"CLOSE\",\"CLOSE\",\"CLOSE\",\"CLOSE\",\"CLOSE\",\"CLOSE\",\"CLOSE\",\"CLOSE\"],\"xaxis\":\"x\",\"yaxis\":\"y\",\"type\":\"histogram\"},{\"alignmentgroup\":\"True\",\"bingroup\":\"x\",\"hovertemplate\":\"Status=%{x}<br>count=%{y}<extra></extra>\",\"legendgroup\":\"PROCESS\",\"marker\":{\"color\":\"#00cc96\",\"pattern\":{\"shape\":\"\"},\"line\":{\"color\":\"#000000\",\"width\":2}},\"name\":\"PROCESS\",\"offsetgroup\":\"PROCESS\",\"orientation\":\"v\",\"showlegend\":true,\"x\":[\"PROCESS\",\"PROCESS\",\"PROCESS\",\"PROCESS\",\"PROCESS\",\"PROCESS\",\"PROCESS\",\"PROCESS\",\"PROCESS\",\"PROCESS\",\"PROCESS\",\"PROCESS\",\"PROCESS\",\"PROCESS\",\"PROCESS\",\"PROCESS\",\"PROCESS\",\"PROCESS\",\"PROCESS\",\"PROCESS\",\"PROCESS\",\"PROCESS\",\"PROCESS\",\"PROCESS\",\"PROCESS\",\"PROCESS\",\"PROCESS\",\"PROCESS\",\"PROCESS\",\"PROCESS\",\"PROCESS\",\"PROCESS\",\"PROCESS\",\"PROCESS\",\"PROCESS\",\"PROCESS\",\"PROCESS\",\"PROCESS\",\"PROCESS\",\"PROCESS\",\"PROCESS\",\"PROCESS\",\"PROCESS\",\"PROCESS\",\"PROCESS\",\"PROCESS\",\"PROCESS\",\"PROCESS\",\"PROCESS\",\"PROCESS\",\"PROCESS\",\"PROCESS\",\"PROCESS\",\"PROCESS\",\"PROCESS\",\"PROCESS\",\"PROCESS\",\"PROCESS\",\"PROCESS\",\"PROCESS\",\"PROCESS\",\"PROCESS\",\"PROCESS\",\"PROCESS\",\"PROCESS\",\"PROCESS\",\"PROCESS\",\"PROCESS\",\"PROCESS\",\"PROCESS\",\"PROCESS\",\"PROCESS\",\"PROCESS\",\"PROCESS\",\"PROCESS\",\"PROCESS\",\"PROCESS\",\"PROCESS\",\"PROCESS\",\"PROCESS\",\"PROCESS\",\"PROCESS\",\"PROCESS\",\"PROCESS\",\"PROCESS\",\"PROCESS\",\"PROCESS\",\"PROCESS\",\"PROCESS\",\"PROCESS\",\"PROCESS\",\"PROCESS\",\"PROCESS\",\"PROCESS\",\"PROCESS\",\"PROCESS\",\"PROCESS\",\"PROCESS\",\"PROCESS\",\"PROCESS\",\"PROCESS\",\"PROCESS\",\"PROCESS\",\"PROCESS\",\"PROCESS\",\"PROCESS\",\"PROCESS\",\"PROCESS\",\"PROCESS\",\"PROCESS\",\"PROCESS\",\"PROCESS\",\"PROCESS\",\"PROCESS\",\"PROCESS\",\"PROCESS\",\"PROCESS\",\"PROCESS\",\"PROCESS\",\"PROCESS\",\"PROCESS\",\"PROCESS\",\"PROCESS\",\"PROCESS\",\"PROCESS\",\"PROCESS\",\"PROCESS\",\"PROCESS\",\"PROCESS\",\"PROCESS\",\"PROCESS\",\"PROCESS\",\"PROCESS\",\"PROCESS\",\"PROCESS\",\"PROCESS\",\"PROCESS\",\"PROCESS\",\"PROCESS\",\"PROCESS\",\"PROCESS\",\"PROCESS\",\"PROCESS\",\"PROCESS\",\"PROCESS\",\"PROCESS\",\"PROCESS\",\"PROCESS\",\"PROCESS\",\"PROCESS\",\"PROCESS\",\"PROCESS\",\"PROCESS\",\"PROCESS\",\"PROCESS\",\"PROCESS\",\"PROCESS\",\"PROCESS\",\"PROCESS\",\"PROCESS\",\"PROCESS\",\"PROCESS\",\"PROCESS\",\"PROCESS\",\"PROCESS\",\"PROCESS\",\"PROCESS\",\"PROCESS\",\"PROCESS\",\"PROCESS\",\"PROCESS\",\"PROCESS\",\"PROCESS\",\"PROCESS\",\"PROCESS\",\"PROCESS\",\"PROCESS\",\"PROCESS\",\"PROCESS\",\"PROCESS\",\"PROCESS\",\"PROCESS\",\"PROCESS\",\"PROCESS\",\"PROCESS\",\"PROCESS\",\"PROCESS\",\"PROCESS\",\"PROCESS\",\"PROCESS\",\"PROCESS\",\"PROCESS\",\"PROCESS\",\"PROCESS\",\"PROCESS\",\"PROCESS\",\"PROCESS\",\"PROCESS\",\"PROCESS\",\"PROCESS\",\"PROCESS\",\"PROCESS\",\"PROCESS\",\"PROCESS\",\"PROCESS\",\"PROCESS\",\"PROCESS\",\"PROCESS\",\"PROCESS\",\"PROCESS\",\"PROCESS\",\"PROCESS\",\"PROCESS\",\"PROCESS\",\"PROCESS\",\"PROCESS\",\"PROCESS\",\"PROCESS\",\"PROCESS\",\"PROCESS\",\"PROCESS\",\"PROCESS\",\"PROCESS\",\"PROCESS\",\"PROCESS\",\"PROCESS\",\"PROCESS\",\"PROCESS\",\"PROCESS\",\"PROCESS\",\"PROCESS\",\"PROCESS\",\"PROCESS\",\"PROCESS\",\"PROCESS\",\"PROCESS\",\"PROCESS\",\"PROCESS\",\"PROCESS\",\"PROCESS\",\"PROCESS\",\"PROCESS\",\"PROCESS\",\"PROCESS\",\"PROCESS\",\"PROCESS\",\"PROCESS\",\"PROCESS\",\"PROCESS\",\"PROCESS\",\"PROCESS\",\"PROCESS\",\"PROCESS\",\"PROCESS\",\"PROCESS\",\"PROCESS\",\"PROCESS\",\"PROCESS\",\"PROCESS\",\"PROCESS\",\"PROCESS\",\"PROCESS\",\"PROCESS\",\"PROCESS\",\"PROCESS\",\"PROCESS\",\"PROCESS\",\"PROCESS\",\"PROCESS\",\"PROCESS\",\"PROCESS\",\"PROCESS\",\"PROCESS\",\"PROCESS\",\"PROCESS\",\"PROCESS\",\"PROCESS\",\"PROCESS\",\"PROCESS\",\"PROCESS\",\"PROCESS\",\"PROCESS\",\"PROCESS\",\"PROCESS\",\"PROCESS\",\"PROCESS\",\"PROCESS\",\"PROCESS\",\"PROCESS\",\"PROCESS\",\"PROCESS\",\"PROCESS\",\"PROCESS\",\"PROCESS\",\"PROCESS\",\"PROCESS\",\"PROCESS\",\"PROCESS\",\"PROCESS\",\"PROCESS\",\"PROCESS\",\"PROCESS\",\"PROCESS\",\"PROCESS\",\"PROCESS\",\"PROCESS\",\"PROCESS\",\"PROCESS\",\"PROCESS\",\"PROCESS\",\"PROCESS\",\"PROCESS\",\"PROCESS\",\"PROCESS\",\"PROCESS\",\"PROCESS\",\"PROCESS\",\"PROCESS\",\"PROCESS\",\"PROCESS\",\"PROCESS\",\"PROCESS\",\"PROCESS\",\"PROCESS\",\"PROCESS\",\"PROCESS\",\"PROCESS\",\"PROCESS\",\"PROCESS\",\"PROCESS\",\"PROCESS\",\"PROCESS\",\"PROCESS\",\"PROCESS\",\"PROCESS\",\"PROCESS\",\"PROCESS\"],\"xaxis\":\"x\",\"yaxis\":\"y\",\"type\":\"histogram\"}],                        {\"template\":{\"data\":{\"histogram2dcontour\":[{\"type\":\"histogram2dcontour\",\"colorbar\":{\"outlinewidth\":0,\"ticks\":\"\"},\"colorscale\":[[0.0,\"#0d0887\"],[0.1111111111111111,\"#46039f\"],[0.2222222222222222,\"#7201a8\"],[0.3333333333333333,\"#9c179e\"],[0.4444444444444444,\"#bd3786\"],[0.5555555555555556,\"#d8576b\"],[0.6666666666666666,\"#ed7953\"],[0.7777777777777778,\"#fb9f3a\"],[0.8888888888888888,\"#fdca26\"],[1.0,\"#f0f921\"]]}],\"choropleth\":[{\"type\":\"choropleth\",\"colorbar\":{\"outlinewidth\":0,\"ticks\":\"\"}}],\"histogram2d\":[{\"type\":\"histogram2d\",\"colorbar\":{\"outlinewidth\":0,\"ticks\":\"\"},\"colorscale\":[[0.0,\"#0d0887\"],[0.1111111111111111,\"#46039f\"],[0.2222222222222222,\"#7201a8\"],[0.3333333333333333,\"#9c179e\"],[0.4444444444444444,\"#bd3786\"],[0.5555555555555556,\"#d8576b\"],[0.6666666666666666,\"#ed7953\"],[0.7777777777777778,\"#fb9f3a\"],[0.8888888888888888,\"#fdca26\"],[1.0,\"#f0f921\"]]}],\"heatmap\":[{\"type\":\"heatmap\",\"colorbar\":{\"outlinewidth\":0,\"ticks\":\"\"},\"colorscale\":[[0.0,\"#0d0887\"],[0.1111111111111111,\"#46039f\"],[0.2222222222222222,\"#7201a8\"],[0.3333333333333333,\"#9c179e\"],[0.4444444444444444,\"#bd3786\"],[0.5555555555555556,\"#d8576b\"],[0.6666666666666666,\"#ed7953\"],[0.7777777777777778,\"#fb9f3a\"],[0.8888888888888888,\"#fdca26\"],[1.0,\"#f0f921\"]]}],\"heatmapgl\":[{\"type\":\"heatmapgl\",\"colorbar\":{\"outlinewidth\":0,\"ticks\":\"\"},\"colorscale\":[[0.0,\"#0d0887\"],[0.1111111111111111,\"#46039f\"],[0.2222222222222222,\"#7201a8\"],[0.3333333333333333,\"#9c179e\"],[0.4444444444444444,\"#bd3786\"],[0.5555555555555556,\"#d8576b\"],[0.6666666666666666,\"#ed7953\"],[0.7777777777777778,\"#fb9f3a\"],[0.8888888888888888,\"#fdca26\"],[1.0,\"#f0f921\"]]}],\"contourcarpet\":[{\"type\":\"contourcarpet\",\"colorbar\":{\"outlinewidth\":0,\"ticks\":\"\"}}],\"contour\":[{\"type\":\"contour\",\"colorbar\":{\"outlinewidth\":0,\"ticks\":\"\"},\"colorscale\":[[0.0,\"#0d0887\"],[0.1111111111111111,\"#46039f\"],[0.2222222222222222,\"#7201a8\"],[0.3333333333333333,\"#9c179e\"],[0.4444444444444444,\"#bd3786\"],[0.5555555555555556,\"#d8576b\"],[0.6666666666666666,\"#ed7953\"],[0.7777777777777778,\"#fb9f3a\"],[0.8888888888888888,\"#fdca26\"],[1.0,\"#f0f921\"]]}],\"surface\":[{\"type\":\"surface\",\"colorbar\":{\"outlinewidth\":0,\"ticks\":\"\"},\"colorscale\":[[0.0,\"#0d0887\"],[0.1111111111111111,\"#46039f\"],[0.2222222222222222,\"#7201a8\"],[0.3333333333333333,\"#9c179e\"],[0.4444444444444444,\"#bd3786\"],[0.5555555555555556,\"#d8576b\"],[0.6666666666666666,\"#ed7953\"],[0.7777777777777778,\"#fb9f3a\"],[0.8888888888888888,\"#fdca26\"],[1.0,\"#f0f921\"]]}],\"mesh3d\":[{\"type\":\"mesh3d\",\"colorbar\":{\"outlinewidth\":0,\"ticks\":\"\"}}],\"scatter\":[{\"fillpattern\":{\"fillmode\":\"overlay\",\"size\":10,\"solidity\":0.2},\"type\":\"scatter\"}],\"parcoords\":[{\"type\":\"parcoords\",\"line\":{\"colorbar\":{\"outlinewidth\":0,\"ticks\":\"\"}}}],\"scatterpolargl\":[{\"type\":\"scatterpolargl\",\"marker\":{\"colorbar\":{\"outlinewidth\":0,\"ticks\":\"\"}}}],\"bar\":[{\"error_x\":{\"color\":\"#2a3f5f\"},\"error_y\":{\"color\":\"#2a3f5f\"},\"marker\":{\"line\":{\"color\":\"#E5ECF6\",\"width\":0.5},\"pattern\":{\"fillmode\":\"overlay\",\"size\":10,\"solidity\":0.2}},\"type\":\"bar\"}],\"scattergeo\":[{\"type\":\"scattergeo\",\"marker\":{\"colorbar\":{\"outlinewidth\":0,\"ticks\":\"\"}}}],\"scatterpolar\":[{\"type\":\"scatterpolar\",\"marker\":{\"colorbar\":{\"outlinewidth\":0,\"ticks\":\"\"}}}],\"histogram\":[{\"marker\":{\"pattern\":{\"fillmode\":\"overlay\",\"size\":10,\"solidity\":0.2}},\"type\":\"histogram\"}],\"scattergl\":[{\"type\":\"scattergl\",\"marker\":{\"colorbar\":{\"outlinewidth\":0,\"ticks\":\"\"}}}],\"scatter3d\":[{\"type\":\"scatter3d\",\"line\":{\"colorbar\":{\"outlinewidth\":0,\"ticks\":\"\"}},\"marker\":{\"colorbar\":{\"outlinewidth\":0,\"ticks\":\"\"}}}],\"scattermapbox\":[{\"type\":\"scattermapbox\",\"marker\":{\"colorbar\":{\"outlinewidth\":0,\"ticks\":\"\"}}}],\"scatterternary\":[{\"type\":\"scatterternary\",\"marker\":{\"colorbar\":{\"outlinewidth\":0,\"ticks\":\"\"}}}],\"scattercarpet\":[{\"type\":\"scattercarpet\",\"marker\":{\"colorbar\":{\"outlinewidth\":0,\"ticks\":\"\"}}}],\"carpet\":[{\"aaxis\":{\"endlinecolor\":\"#2a3f5f\",\"gridcolor\":\"white\",\"linecolor\":\"white\",\"minorgridcolor\":\"white\",\"startlinecolor\":\"#2a3f5f\"},\"baxis\":{\"endlinecolor\":\"#2a3f5f\",\"gridcolor\":\"white\",\"linecolor\":\"white\",\"minorgridcolor\":\"white\",\"startlinecolor\":\"#2a3f5f\"},\"type\":\"carpet\"}],\"table\":[{\"cells\":{\"fill\":{\"color\":\"#EBF0F8\"},\"line\":{\"color\":\"white\"}},\"header\":{\"fill\":{\"color\":\"#C8D4E3\"},\"line\":{\"color\":\"white\"}},\"type\":\"table\"}],\"barpolar\":[{\"marker\":{\"line\":{\"color\":\"#E5ECF6\",\"width\":0.5},\"pattern\":{\"fillmode\":\"overlay\",\"size\":10,\"solidity\":0.2}},\"type\":\"barpolar\"}],\"pie\":[{\"automargin\":true,\"type\":\"pie\"}]},\"layout\":{\"autotypenumbers\":\"strict\",\"colorway\":[\"#636efa\",\"#EF553B\",\"#00cc96\",\"#ab63fa\",\"#FFA15A\",\"#19d3f3\",\"#FF6692\",\"#B6E880\",\"#FF97FF\",\"#FECB52\"],\"font\":{\"color\":\"#2a3f5f\"},\"hovermode\":\"closest\",\"hoverlabel\":{\"align\":\"left\"},\"paper_bgcolor\":\"white\",\"plot_bgcolor\":\"#E5ECF6\",\"polar\":{\"bgcolor\":\"#E5ECF6\",\"angularaxis\":{\"gridcolor\":\"white\",\"linecolor\":\"white\",\"ticks\":\"\"},\"radialaxis\":{\"gridcolor\":\"white\",\"linecolor\":\"white\",\"ticks\":\"\"}},\"ternary\":{\"bgcolor\":\"#E5ECF6\",\"aaxis\":{\"gridcolor\":\"white\",\"linecolor\":\"white\",\"ticks\":\"\"},\"baxis\":{\"gridcolor\":\"white\",\"linecolor\":\"white\",\"ticks\":\"\"},\"caxis\":{\"gridcolor\":\"white\",\"linecolor\":\"white\",\"ticks\":\"\"}},\"coloraxis\":{\"colorbar\":{\"outlinewidth\":0,\"ticks\":\"\"}},\"colorscale\":{\"sequential\":[[0.0,\"#0d0887\"],[0.1111111111111111,\"#46039f\"],[0.2222222222222222,\"#7201a8\"],[0.3333333333333333,\"#9c179e\"],[0.4444444444444444,\"#bd3786\"],[0.5555555555555556,\"#d8576b\"],[0.6666666666666666,\"#ed7953\"],[0.7777777777777778,\"#fb9f3a\"],[0.8888888888888888,\"#fdca26\"],[1.0,\"#f0f921\"]],\"sequentialminus\":[[0.0,\"#0d0887\"],[0.1111111111111111,\"#46039f\"],[0.2222222222222222,\"#7201a8\"],[0.3333333333333333,\"#9c179e\"],[0.4444444444444444,\"#bd3786\"],[0.5555555555555556,\"#d8576b\"],[0.6666666666666666,\"#ed7953\"],[0.7777777777777778,\"#fb9f3a\"],[0.8888888888888888,\"#fdca26\"],[1.0,\"#f0f921\"]],\"diverging\":[[0,\"#8e0152\"],[0.1,\"#c51b7d\"],[0.2,\"#de77ae\"],[0.3,\"#f1b6da\"],[0.4,\"#fde0ef\"],[0.5,\"#f7f7f7\"],[0.6,\"#e6f5d0\"],[0.7,\"#b8e186\"],[0.8,\"#7fbc41\"],[0.9,\"#4d9221\"],[1,\"#276419\"]]},\"xaxis\":{\"gridcolor\":\"white\",\"linecolor\":\"white\",\"ticks\":\"\",\"title\":{\"standoff\":15},\"zerolinecolor\":\"white\",\"automargin\":true,\"zerolinewidth\":2},\"yaxis\":{\"gridcolor\":\"white\",\"linecolor\":\"white\",\"ticks\":\"\",\"title\":{\"standoff\":15},\"zerolinecolor\":\"white\",\"automargin\":true,\"zerolinewidth\":2},\"scene\":{\"xaxis\":{\"backgroundcolor\":\"#E5ECF6\",\"gridcolor\":\"white\",\"linecolor\":\"white\",\"showbackground\":true,\"ticks\":\"\",\"zerolinecolor\":\"white\",\"gridwidth\":2},\"yaxis\":{\"backgroundcolor\":\"#E5ECF6\",\"gridcolor\":\"white\",\"linecolor\":\"white\",\"showbackground\":true,\"ticks\":\"\",\"zerolinecolor\":\"white\",\"gridwidth\":2},\"zaxis\":{\"backgroundcolor\":\"#E5ECF6\",\"gridcolor\":\"white\",\"linecolor\":\"white\",\"showbackground\":true,\"ticks\":\"\",\"zerolinecolor\":\"white\",\"gridwidth\":2}},\"shapedefaults\":{\"line\":{\"color\":\"#2a3f5f\"}},\"annotationdefaults\":{\"arrowcolor\":\"#2a3f5f\",\"arrowhead\":0,\"arrowwidth\":1},\"geo\":{\"bgcolor\":\"white\",\"landcolor\":\"#E5ECF6\",\"subunitcolor\":\"white\",\"showland\":true,\"showlakes\":true,\"lakecolor\":\"white\"},\"title\":{\"x\":0.05},\"mapbox\":{\"style\":\"light\"}}},\"xaxis\":{\"anchor\":\"y\",\"domain\":[0.0,1.0],\"title\":{\"text\":\"Status\"}},\"yaxis\":{\"anchor\":\"x\",\"domain\":[0.0,1.0],\"title\":{\"text\":\"count\"}},\"legend\":{\"title\":{\"text\":\"Status\"},\"tracegroupgap\":0},\"margin\":{\"t\":60},\"barmode\":\"relative\",\"bargap\":0.2,\"title\":{\"font\":{\"size\":20},\"text\":\"Distribution of the complaints\",\"x\":0.5}},                        {\"responsive\": true}                    ).then(function(){\n",
              "                            \n",
              "var gd = document.getElementById('908df647-34da-4ae5-a651-240451b8823b');\n",
              "var x = new MutationObserver(function (mutations, observer) {{\n",
              "        var display = window.getComputedStyle(gd).display;\n",
              "        if (!display || display === 'none') {{\n",
              "            console.log([gd, 'removed!']);\n",
              "            Plotly.purge(gd);\n",
              "            observer.disconnect();\n",
              "        }}\n",
              "}});\n",
              "\n",
              "// Listen for the removal of the full notebook cells\n",
              "var notebookContainer = gd.closest('#notebook-container');\n",
              "if (notebookContainer) {{\n",
              "    x.observe(notebookContainer, {childList: true});\n",
              "}}\n",
              "\n",
              "// Listen for the clearing of the current output cell\n",
              "var outputEl = gd.closest('.output');\n",
              "if (outputEl) {{\n",
              "    x.observe(outputEl, {childList: true});\n",
              "}}\n",
              "\n",
              "                        })                };                            </script>        </div>\n",
              "</body>\n",
              "</html>"
            ]
          },
          "metadata": {}
        }
      ]
    },
    {
      "cell_type": "code",
      "source": [
        "fig = px.histogram(data['type_complaint_code'],\n",
        "                   labels={'value': 'complaint code',\n",
        "                           'count': 'Frequency',\n",
        "                           'color': 'Status'}, color=data['status'])\n",
        "fig.update_layout(bargap=0.2)\n",
        "fig.update_traces(marker=dict(line=dict(color='#000000', width=2)))\n",
        "fig.update_layout(title_text='Distribution of Complaints and its status',\n",
        "                  title_x=0.5, title_font=dict(size=20))\n",
        "fig.show()"
      ],
      "metadata": {
        "colab": {
          "base_uri": "https://localhost:8080/",
          "height": 542
        },
        "id": "Lh-dtblISkY7",
        "outputId": "4fe96b0e-74a3-425b-f4af-757c0d8449d4"
      },
      "execution_count": null,
      "outputs": [
        {
          "output_type": "display_data",
          "data": {
            "text/html": [
              "<html>\n",
              "<head><meta charset=\"utf-8\" /></head>\n",
              "<body>\n",
              "    <div>            <script src=\"https://cdnjs.cloudflare.com/ajax/libs/mathjax/2.7.5/MathJax.js?config=TeX-AMS-MML_SVG\"></script><script type=\"text/javascript\">if (window.MathJax && window.MathJax.Hub && window.MathJax.Hub.Config) {window.MathJax.Hub.Config({SVG: {font: \"STIX-Web\"}});}</script>                <script type=\"text/javascript\">window.PlotlyConfig = {MathJaxConfig: 'local'};</script>\n",
              "        <script src=\"https://cdn.plot.ly/plotly-2.18.2.min.js\"></script>                <div id=\"acf760d9-c84a-45e7-b884-574d35cd7522\" class=\"plotly-graph-div\" style=\"height:525px; width:100%;\"></div>            <script type=\"text/javascript\">                                    window.PLOTLYENV=window.PLOTLYENV || {};                                    if (document.getElementById(\"acf760d9-c84a-45e7-b884-574d35cd7522\")) {                    Plotly.newPlot(                        \"acf760d9-c84a-45e7-b884-574d35cd7522\",                        [{\"alignmentgroup\":\"True\",\"bingroup\":\"x\",\"hovertemplate\":\"Status=OPEN<br>complaint code=%{x}<br>count=%{y}<extra></extra>\",\"legendgroup\":\"OPEN\",\"marker\":{\"color\":\"#636efa\",\"pattern\":{\"shape\":\"\"},\"line\":{\"color\":\"#000000\",\"width\":2}},\"name\":\"OPEN\",\"offsetgroup\":\"OPEN\",\"orientation\":\"v\",\"showlegend\":true,\"x\":[\"ASR\",\"ASR\",\"ASR\",\"ASR\",\"ANS\",\"ANS\",\"ANS\",\"ANS\",\"CRO\",\"CRO\",\"FNS\",\"FNS\",\"FNS\",\"FNS\",\"ISE\",\"ISE\",\"ISE\",\"ONL\",\"STA\",\"FNC\",\"FNC\",\"FNC\",\"ASR\",\"ISE\",\"ONL\",\"HNT\",\"FNC\",\"ASR\",\"ASR\",\"ASR\",\"ANS\",\"ANS\",\"CRO\",\"HWS\",\"HWS\",\"HWS\",\"ISE\",\"ISE\",\"ISE\",\"ISE\",\"ISE\",\"ONL\",\"ONL\",\"ONL\",\"ONL\",\"STA\",\"STA\",\"HNT\",\"HNT\",\"HNT\",\"FNC\",\"ASR\",\"HWS\",\"HNT\",\"ASR\",\"ASR\",\"ASR\",\"ANS\",\"ANS\",\"CRO\",\"CRO\",\"FNS\",\"FNS\",\"FNS\",\"ISE\",\"ISE\",\"STA\",\"HNT\",\"HNT\",\"FNC\",\"FNC\",\"FNC\",\"FNC\",\"FNC\",\"ASR\",\"CRO\",\"FNS\",\"ASR\",\"ASR\",\"ASR\",\"ASR\",\"ANS\",\"CRO\",\"FNS\",\"FNS\",\"FNS\",\"ISE\",\"ISE\",\"ONL\",\"ONL\",\"STA\",\"STA\",\"ANT\",\"FNC\",\"FNC\",\"ASR\",\"STA\",\"HNT\",\"FNC\",\"FNC\",\"ASR\",\"ASR\",\"ASR\",\"ASR\",\"ASR\",\"ANS\",\"CRO\",\"CRO\",\"CRO\",\"FNS\",\"FNS\",\"FNS\",\"FNS\",\"HWS\",\"ISE\",\"ISE\",\"ISE\",\"ONL\",\"HNT\",\"FNC\",\"FNC\",\"FNC\",\"FNC\",\"FNC\",\"ASR\",\"ASR\",\"CRO\",\"STA\",\"CRO\",\"ASR\",\"ASR\",\"ANS\",\"ANS\",\"CRO\",\"CRO\",\"FNS\",\"FNS\",\"HWS\",\"ISE\",\"ISE\",\"ISE\",\"ISE\",\"ONL\",\"ONL\",\"HNT\",\"HNT\",\"ANT\",\"FNC\",\"FNC\",\"FNC\",\"FNC\",\"ASR\",\"ASR\",\"ANS\",\"CRO\",\"ISE\",\"ONL\",\"FNC\",\"ANS\",\"FNS\",\"HWS\",\"ASR\",\"ASR\",\"ASR\",\"ASR\",\"ASR\",\"ASR\",\"ASR\",\"ASR\",\"ASR\",\"ANS\",\"CRO\",\"FNS\",\"ONL\",\"ONL\",\"ONL\",\"ONL\",\"HNT\",\"ANT\",\"FNC\",\"FNC\",\"ASR\",\"FNC\",\"ASR\",\"ASR\",\"ASR\",\"ANS\",\"ANS\",\"ANS\",\"ANS\",\"CRO\",\"HWS\",\"HWS\",\"FNC\",\"ASR\",\"CRO\",\"ANS\"],\"xaxis\":\"x\",\"yaxis\":\"y\",\"type\":\"histogram\"},{\"alignmentgroup\":\"True\",\"bingroup\":\"x\",\"hovertemplate\":\"Status=CLOSE<br>complaint code=%{x}<br>count=%{y}<extra></extra>\",\"legendgroup\":\"CLOSE\",\"marker\":{\"color\":\"#EF553B\",\"pattern\":{\"shape\":\"\"},\"line\":{\"color\":\"#000000\",\"width\":2}},\"name\":\"CLOSE\",\"offsetgroup\":\"CLOSE\",\"orientation\":\"v\",\"showlegend\":true,\"x\":[\"ASR\",\"ASR\",\"ASR\",\"ASR\",\"ASR\",\"ASR\",\"ASR\",\"ASR\",\"ASR\",\"ASR\",\"ASR\",\"ASR\",\"ASR\",\"ASR\",\"ANS\",\"ANS\",\"CRO\",\"CRO\",\"CRO\",\"CRO\",\"CRO\",\"CRO\",\"CRO\",\"CRO\",\"CRO\",\"CRO\",\"CRO\",\"CRO\",\"FNS\",\"FNS\",\"FNS\",\"FNS\",\"FNS\",\"FNS\",\"HWS\",\"HWS\",\"HWS\",\"ISE\",\"ISE\",\"ISE\",\"ISE\",\"ISE\",\"ONL\",\"ONL\",\"ONL\",\"HNT\",\"ANT\",\"FNC\",\"FNC\",\"FNC\",\"FNC\",\"FNC\",\"ASR\",\"ASR\",\"ASR\",\"ANS\",\"CRO\",\"HWS\",\"ONL\",\"ONL\",\"ONL\",\"HNT\",\"ANT\",\"FNC\",\"ASR\",\"ASR\",\"ASR\",\"ASR\",\"ASR\",\"ASR\",\"ASR\",\"ASR\",\"ANS\",\"ANS\",\"ANS\",\"CRO\",\"CRO\",\"FNS\",\"FNS\",\"FNS\",\"FNS\",\"FNS\",\"FNS\",\"HWS\",\"ISE\",\"ISE\",\"ISE\",\"ONL\",\"ONL\",\"ONL\",\"ONL\",\"ONL\",\"ONL\",\"STA\",\"STA\",\"HNT\",\"ANT\",\"FNC\",\"FNC\",\"FNC\",\"FNC\",\"FNC\",\"FNC\",\"FNC\",\"FNC\",\"ASR\",\"ASR\",\"ASR\",\"ASR\",\"ANS\",\"ANS\",\"ANS\",\"CRO\",\"CRO\",\"ONL\",\"ONL\",\"STA\",\"HNT\",\"FNC\",\"ISE\",\"ASR\",\"ASR\",\"ASR\",\"ASR\",\"ASR\",\"ASR\",\"ASR\",\"ASR\",\"ANS\",\"ANS\",\"ANS\",\"ANS\",\"CRO\",\"CRO\",\"CRO\",\"CRO\",\"FNS\",\"FNS\",\"FNS\",\"FNS\",\"FNS\",\"FNS\",\"FNS\",\"FNS\",\"HWS\",\"ISE\",\"ISE\",\"ONL\",\"ONL\",\"STA\",\"STA\",\"HNT\",\"FNC\",\"FNC\",\"FNC\",\"FNC\",\"FNC\",\"FNC\",\"FNC\",\"ASR\",\"ASR\",\"ANS\",\"ANS\",\"ISE\",\"FNC\",\"FNC\",\"HWS\",\"ONL\",\"HNT\",\"FNC\",\"ASR\",\"ASR\",\"ASR\",\"ASR\",\"ASR\",\"ASR\",\"ASR\",\"ANS\",\"CRO\",\"CRO\",\"CRO\",\"CRO\",\"CRO\",\"FNS\",\"FNS\",\"FNS\",\"HWS\",\"HWS\",\"HWS\",\"ONL\",\"ONL\",\"ONL\",\"ONL\",\"HNT\",\"HNT\",\"HNT\",\"ANT\",\"FNC\",\"FNC\",\"FNC\",\"FNC\",\"FNC\",\"FNC\",\"FNC\",\"FNC\",\"FNC\",\"FNC\",\"ASR\",\"ANS\",\"ANS\",\"ANS\",\"CRO\",\"HWS\",\"ISE\",\"ISE\",\"ONL\",\"STA\",\"STA\",\"HNT\",\"ASR\",\"ASR\",\"ASR\",\"ASR\",\"ASR\",\"ASR\",\"ASR\",\"ANS\",\"ANS\",\"ANS\",\"ANS\",\"ANS\",\"CRO\",\"CRO\",\"FNS\",\"FNS\",\"FNS\",\"FNS\",\"HWS\",\"ISE\",\"ISE\",\"ISE\",\"ONL\",\"ONL\",\"ONL\",\"ONL\",\"ONL\",\"ONL\",\"HNT\",\"HNT\",\"HNT\",\"HNT\",\"HNT\",\"ANT\",\"ANT\",\"FNC\",\"FNC\",\"FNC\",\"FNC\",\"FNC\",\"FNC\",\"ASR\",\"ASR\",\"ASR\",\"ASR\",\"ANS\",\"FNS\",\"FNS\",\"FNS\",\"HWS\",\"HWS\",\"ISE\",\"ONL\",\"ONL\",\"STA\",\"ANT\",\"FNC\",\"FNC\",\"ISE\",\"ASR\",\"ASR\",\"ASR\",\"ASR\",\"ASR\",\"ASR\",\"ASR\",\"ANS\",\"CRO\",\"CRO\",\"CRO\",\"CRO\",\"FNS\",\"FNS\",\"FNS\",\"FNS\",\"FNS\",\"FNS\",\"HWS\",\"HWS\",\"HWS\",\"HWS\",\"ISE\",\"ISE\",\"ISE\",\"ISE\",\"ISE\",\"ONL\",\"ONL\",\"ONL\",\"STA\",\"STA\",\"STA\",\"HNT\",\"HNT\",\"HNT\",\"HNT\",\"HNT\",\"HNT\",\"ANT\",\"ANT\",\"ANT\",\"FNC\",\"FNC\",\"FNC\",\"ASR\",\"ASR\",\"CRO\",\"FNS\",\"FNS\",\"ISE\",\"ONL\",\"ONL\",\"ONL\",\"HNT\",\"ANT\",\"FNC\",\"FNC\",\"HNT\",\"ASR\",\"ASR\",\"ASR\",\"ASR\",\"ASR\",\"ASR\",\"ASR\",\"ASR\",\"ASR\",\"ASR\",\"ASR\",\"ANS\",\"ANS\",\"CRO\",\"CRO\",\"CRO\",\"CRO\",\"CRO\",\"CRO\",\"CRO\",\"FNS\",\"FNS\",\"ISE\",\"ISE\",\"ISE\",\"ISE\",\"ONL\",\"ONL\",\"ONL\",\"ONL\",\"ONL\",\"STA\",\"STA\",\"HNT\",\"HNT\",\"HNT\",\"HNT\",\"HNT\",\"ANT\",\"ANT\",\"ANT\",\"ANT\",\"FNC\",\"FNC\",\"FNC\",\"FNC\",\"FNC\",\"FNC\",\"FNC\",\"FNC\",\"FNC\",\"ANS\",\"CRO\",\"FNS\",\"HWS\",\"ISE\",\"HNT\",\"ONL\",\"ASR\",\"ASR\",\"ASR\",\"ASR\",\"ASR\",\"ASR\",\"ANS\",\"ANS\",\"ANS\",\"ANS\",\"ANS\",\"ANS\",\"CRO\",\"CRO\",\"CRO\",\"FNS\",\"FNS\",\"ISE\",\"ISE\",\"ISE\",\"ISE\",\"ONL\",\"ONL\",\"HNT\",\"HNT\",\"HNT\",\"HNT\",\"HNT\",\"ANT\",\"ANT\",\"FNC\",\"FNC\",\"FNC\",\"FNC\",\"ASR\",\"ASR\",\"ANS\",\"ANS\",\"ANS\",\"CRO\",\"CRO\",\"CRO\",\"FNS\",\"FNS\",\"FNS\",\"ISE\",\"ISE\",\"ISE\",\"ONL\",\"ONL\",\"ONL\",\"STA\",\"HNT\",\"ANT\",\"FNC\",\"FNC\",\"FNC\",\"FNS\"],\"xaxis\":\"x\",\"yaxis\":\"y\",\"type\":\"histogram\"},{\"alignmentgroup\":\"True\",\"bingroup\":\"x\",\"hovertemplate\":\"Status=PROCESS<br>complaint code=%{x}<br>count=%{y}<extra></extra>\",\"legendgroup\":\"PROCESS\",\"marker\":{\"color\":\"#00cc96\",\"pattern\":{\"shape\":\"\"},\"line\":{\"color\":\"#000000\",\"width\":2}},\"name\":\"PROCESS\",\"offsetgroup\":\"PROCESS\",\"orientation\":\"v\",\"showlegend\":true,\"x\":[\"ASR\",\"ASR\",\"ASR\",\"ASR\",\"ASR\",\"ASR\",\"ASR\",\"ASR\",\"ASR\",\"ASR\",\"ASR\",\"ASR\",\"ASR\",\"ASR\",\"ASR\",\"ASR\",\"ANS\",\"ANS\",\"ANS\",\"ANS\",\"CRO\",\"CRO\",\"CRO\",\"FNS\",\"HWS\",\"HWS\",\"HWS\",\"ISE\",\"ISE\",\"ISE\",\"ISE\",\"ISE\",\"ONL\",\"ONL\",\"ONL\",\"ONL\",\"STA\",\"STA\",\"HNT\",\"HNT\",\"HNT\",\"HNT\",\"ANT\",\"FNC\",\"FNC\",\"FNC\",\"FNC\",\"ASR\",\"ASR\",\"ASR\",\"ANS\",\"CRO\",\"ONL\",\"ONL\",\"STA\",\"ANT\",\"CRO\",\"ASR\",\"ASR\",\"ASR\",\"ASR\",\"ASR\",\"ASR\",\"ASR\",\"ANS\",\"ANS\",\"FNS\",\"FNS\",\"FNS\",\"ISE\",\"ONL\",\"ONL\",\"STA\",\"FNC\",\"FNC\",\"ASR\",\"ASR\",\"ASR\",\"ANS\",\"FNS\",\"ISE\",\"ISE\",\"ONL\",\"ANT\",\"ANT\",\"ASR\",\"ASR\",\"ASR\",\"ASR\",\"ASR\",\"ASR\",\"ASR\",\"CRO\",\"FNS\",\"HWS\",\"HWS\",\"ISE\",\"ISE\",\"ISE\",\"ISE\",\"ONL\",\"STA\",\"STA\",\"HNT\",\"HNT\",\"ASR\",\"CRO\",\"HWS\",\"HWS\",\"HNT\",\"ANT\",\"FNC\",\"FNC\",\"ASR\",\"ASR\",\"ASR\",\"ASR\",\"ASR\",\"ANS\",\"ANS\",\"CRO\",\"CRO\",\"CRO\",\"CRO\",\"FNS\",\"FNS\",\"FNS\",\"FNS\",\"HWS\",\"ISE\",\"ISE\",\"ISE\",\"ONL\",\"ONL\",\"ONL\",\"HNT\",\"ANT\",\"ANT\",\"FNC\",\"FNC\",\"FNC\",\"ASR\",\"ASR\",\"ASR\",\"CRO\",\"FNS\",\"FNS\",\"ISE\",\"ONL\",\"ANT\",\"FNC\",\"FNC\",\"ASR\",\"ASR\",\"ASR\",\"ASR\",\"ASR\",\"ASR\",\"ASR\",\"ASR\",\"ASR\",\"ASR\",\"ASR\",\"ASR\",\"ANS\",\"ANS\",\"CRO\",\"CRO\",\"CRO\",\"FNS\",\"FNS\",\"FNS\",\"FNS\",\"FNS\",\"FNS\",\"FNS\",\"HWS\",\"HWS\",\"HWS\",\"HWS\",\"HWS\",\"HWS\",\"ISE\",\"ISE\",\"ISE\",\"ONL\",\"ONL\",\"ONL\",\"HNT\",\"ANT\",\"ANT\",\"ANT\",\"ANT\",\"ANT\",\"ANT\",\"FNC\",\"FNC\",\"FNC\",\"FNC\",\"FNC\",\"FNC\",\"ASR\",\"ASR\",\"ASR\",\"ASR\",\"ASR\",\"ISE\",\"FNC\",\"ASR\",\"ASR\",\"ASR\",\"ASR\",\"ASR\",\"ASR\",\"ASR\",\"ANS\",\"ANS\",\"ANS\",\"CRO\",\"FNS\",\"FNS\",\"FNS\",\"HWS\",\"HWS\",\"HWS\",\"ISE\",\"ONL\",\"ONL\",\"ONL\",\"STA\",\"HNT\",\"HNT\",\"ANT\",\"FNC\",\"FNC\",\"FNC\",\"FNC\",\"FNC\",\"ASR\",\"ASR\",\"ASR\",\"ASR\",\"CRO\",\"STA\",\"FNC\",\"ASR\",\"ANS\",\"ANS\",\"ANT\",\"FNC\",\"ASR\",\"ASR\",\"ASR\",\"ASR\",\"ASR\",\"ASR\",\"ASR\",\"ASR\",\"ASR\",\"ASR\",\"ASR\",\"ASR\",\"ASR\",\"ANS\",\"CRO\",\"CRO\",\"FNS\",\"FNS\",\"HWS\",\"HWS\",\"ISE\",\"ISE\",\"ONL\",\"ONL\",\"STA\",\"HNT\",\"ANT\",\"FNC\",\"FNC\",\"FNC\",\"FNC\",\"FNC\",\"FNC\",\"FNC\",\"ASR\",\"ASR\",\"ASR\",\"ANS\",\"HWS\",\"ONL\",\"HNT\",\"HNT\",\"FNC\",\"STA\",\"ASR\",\"ASR\",\"ASR\",\"ASR\",\"ASR\",\"ASR\",\"CRO\",\"CRO\",\"CRO\",\"HWS\",\"HWS\",\"HWS\",\"HWS\",\"HWS\",\"ISE\",\"ISE\",\"ISE\",\"ISE\",\"ONL\",\"ONL\",\"ONL\",\"ONL\",\"HNT\",\"HNT\",\"HNT\",\"ANT\",\"ANT\",\"FNC\",\"FNC\",\"FNC\",\"FNC\",\"FNC\",\"FNC\",\"FNC\",\"FNC\",\"FNC\",\"ASR\",\"CRO\",\"FNS\",\"ISE\",\"FNC\",\"FNC\",\"STA\"],\"xaxis\":\"x\",\"yaxis\":\"y\",\"type\":\"histogram\"}],                        {\"template\":{\"data\":{\"histogram2dcontour\":[{\"type\":\"histogram2dcontour\",\"colorbar\":{\"outlinewidth\":0,\"ticks\":\"\"},\"colorscale\":[[0.0,\"#0d0887\"],[0.1111111111111111,\"#46039f\"],[0.2222222222222222,\"#7201a8\"],[0.3333333333333333,\"#9c179e\"],[0.4444444444444444,\"#bd3786\"],[0.5555555555555556,\"#d8576b\"],[0.6666666666666666,\"#ed7953\"],[0.7777777777777778,\"#fb9f3a\"],[0.8888888888888888,\"#fdca26\"],[1.0,\"#f0f921\"]]}],\"choropleth\":[{\"type\":\"choropleth\",\"colorbar\":{\"outlinewidth\":0,\"ticks\":\"\"}}],\"histogram2d\":[{\"type\":\"histogram2d\",\"colorbar\":{\"outlinewidth\":0,\"ticks\":\"\"},\"colorscale\":[[0.0,\"#0d0887\"],[0.1111111111111111,\"#46039f\"],[0.2222222222222222,\"#7201a8\"],[0.3333333333333333,\"#9c179e\"],[0.4444444444444444,\"#bd3786\"],[0.5555555555555556,\"#d8576b\"],[0.6666666666666666,\"#ed7953\"],[0.7777777777777778,\"#fb9f3a\"],[0.8888888888888888,\"#fdca26\"],[1.0,\"#f0f921\"]]}],\"heatmap\":[{\"type\":\"heatmap\",\"colorbar\":{\"outlinewidth\":0,\"ticks\":\"\"},\"colorscale\":[[0.0,\"#0d0887\"],[0.1111111111111111,\"#46039f\"],[0.2222222222222222,\"#7201a8\"],[0.3333333333333333,\"#9c179e\"],[0.4444444444444444,\"#bd3786\"],[0.5555555555555556,\"#d8576b\"],[0.6666666666666666,\"#ed7953\"],[0.7777777777777778,\"#fb9f3a\"],[0.8888888888888888,\"#fdca26\"],[1.0,\"#f0f921\"]]}],\"heatmapgl\":[{\"type\":\"heatmapgl\",\"colorbar\":{\"outlinewidth\":0,\"ticks\":\"\"},\"colorscale\":[[0.0,\"#0d0887\"],[0.1111111111111111,\"#46039f\"],[0.2222222222222222,\"#7201a8\"],[0.3333333333333333,\"#9c179e\"],[0.4444444444444444,\"#bd3786\"],[0.5555555555555556,\"#d8576b\"],[0.6666666666666666,\"#ed7953\"],[0.7777777777777778,\"#fb9f3a\"],[0.8888888888888888,\"#fdca26\"],[1.0,\"#f0f921\"]]}],\"contourcarpet\":[{\"type\":\"contourcarpet\",\"colorbar\":{\"outlinewidth\":0,\"ticks\":\"\"}}],\"contour\":[{\"type\":\"contour\",\"colorbar\":{\"outlinewidth\":0,\"ticks\":\"\"},\"colorscale\":[[0.0,\"#0d0887\"],[0.1111111111111111,\"#46039f\"],[0.2222222222222222,\"#7201a8\"],[0.3333333333333333,\"#9c179e\"],[0.4444444444444444,\"#bd3786\"],[0.5555555555555556,\"#d8576b\"],[0.6666666666666666,\"#ed7953\"],[0.7777777777777778,\"#fb9f3a\"],[0.8888888888888888,\"#fdca26\"],[1.0,\"#f0f921\"]]}],\"surface\":[{\"type\":\"surface\",\"colorbar\":{\"outlinewidth\":0,\"ticks\":\"\"},\"colorscale\":[[0.0,\"#0d0887\"],[0.1111111111111111,\"#46039f\"],[0.2222222222222222,\"#7201a8\"],[0.3333333333333333,\"#9c179e\"],[0.4444444444444444,\"#bd3786\"],[0.5555555555555556,\"#d8576b\"],[0.6666666666666666,\"#ed7953\"],[0.7777777777777778,\"#fb9f3a\"],[0.8888888888888888,\"#fdca26\"],[1.0,\"#f0f921\"]]}],\"mesh3d\":[{\"type\":\"mesh3d\",\"colorbar\":{\"outlinewidth\":0,\"ticks\":\"\"}}],\"scatter\":[{\"fillpattern\":{\"fillmode\":\"overlay\",\"size\":10,\"solidity\":0.2},\"type\":\"scatter\"}],\"parcoords\":[{\"type\":\"parcoords\",\"line\":{\"colorbar\":{\"outlinewidth\":0,\"ticks\":\"\"}}}],\"scatterpolargl\":[{\"type\":\"scatterpolargl\",\"marker\":{\"colorbar\":{\"outlinewidth\":0,\"ticks\":\"\"}}}],\"bar\":[{\"error_x\":{\"color\":\"#2a3f5f\"},\"error_y\":{\"color\":\"#2a3f5f\"},\"marker\":{\"line\":{\"color\":\"#E5ECF6\",\"width\":0.5},\"pattern\":{\"fillmode\":\"overlay\",\"size\":10,\"solidity\":0.2}},\"type\":\"bar\"}],\"scattergeo\":[{\"type\":\"scattergeo\",\"marker\":{\"colorbar\":{\"outlinewidth\":0,\"ticks\":\"\"}}}],\"scatterpolar\":[{\"type\":\"scatterpolar\",\"marker\":{\"colorbar\":{\"outlinewidth\":0,\"ticks\":\"\"}}}],\"histogram\":[{\"marker\":{\"pattern\":{\"fillmode\":\"overlay\",\"size\":10,\"solidity\":0.2}},\"type\":\"histogram\"}],\"scattergl\":[{\"type\":\"scattergl\",\"marker\":{\"colorbar\":{\"outlinewidth\":0,\"ticks\":\"\"}}}],\"scatter3d\":[{\"type\":\"scatter3d\",\"line\":{\"colorbar\":{\"outlinewidth\":0,\"ticks\":\"\"}},\"marker\":{\"colorbar\":{\"outlinewidth\":0,\"ticks\":\"\"}}}],\"scattermapbox\":[{\"type\":\"scattermapbox\",\"marker\":{\"colorbar\":{\"outlinewidth\":0,\"ticks\":\"\"}}}],\"scatterternary\":[{\"type\":\"scatterternary\",\"marker\":{\"colorbar\":{\"outlinewidth\":0,\"ticks\":\"\"}}}],\"scattercarpet\":[{\"type\":\"scattercarpet\",\"marker\":{\"colorbar\":{\"outlinewidth\":0,\"ticks\":\"\"}}}],\"carpet\":[{\"aaxis\":{\"endlinecolor\":\"#2a3f5f\",\"gridcolor\":\"white\",\"linecolor\":\"white\",\"minorgridcolor\":\"white\",\"startlinecolor\":\"#2a3f5f\"},\"baxis\":{\"endlinecolor\":\"#2a3f5f\",\"gridcolor\":\"white\",\"linecolor\":\"white\",\"minorgridcolor\":\"white\",\"startlinecolor\":\"#2a3f5f\"},\"type\":\"carpet\"}],\"table\":[{\"cells\":{\"fill\":{\"color\":\"#EBF0F8\"},\"line\":{\"color\":\"white\"}},\"header\":{\"fill\":{\"color\":\"#C8D4E3\"},\"line\":{\"color\":\"white\"}},\"type\":\"table\"}],\"barpolar\":[{\"marker\":{\"line\":{\"color\":\"#E5ECF6\",\"width\":0.5},\"pattern\":{\"fillmode\":\"overlay\",\"size\":10,\"solidity\":0.2}},\"type\":\"barpolar\"}],\"pie\":[{\"automargin\":true,\"type\":\"pie\"}]},\"layout\":{\"autotypenumbers\":\"strict\",\"colorway\":[\"#636efa\",\"#EF553B\",\"#00cc96\",\"#ab63fa\",\"#FFA15A\",\"#19d3f3\",\"#FF6692\",\"#B6E880\",\"#FF97FF\",\"#FECB52\"],\"font\":{\"color\":\"#2a3f5f\"},\"hovermode\":\"closest\",\"hoverlabel\":{\"align\":\"left\"},\"paper_bgcolor\":\"white\",\"plot_bgcolor\":\"#E5ECF6\",\"polar\":{\"bgcolor\":\"#E5ECF6\",\"angularaxis\":{\"gridcolor\":\"white\",\"linecolor\":\"white\",\"ticks\":\"\"},\"radialaxis\":{\"gridcolor\":\"white\",\"linecolor\":\"white\",\"ticks\":\"\"}},\"ternary\":{\"bgcolor\":\"#E5ECF6\",\"aaxis\":{\"gridcolor\":\"white\",\"linecolor\":\"white\",\"ticks\":\"\"},\"baxis\":{\"gridcolor\":\"white\",\"linecolor\":\"white\",\"ticks\":\"\"},\"caxis\":{\"gridcolor\":\"white\",\"linecolor\":\"white\",\"ticks\":\"\"}},\"coloraxis\":{\"colorbar\":{\"outlinewidth\":0,\"ticks\":\"\"}},\"colorscale\":{\"sequential\":[[0.0,\"#0d0887\"],[0.1111111111111111,\"#46039f\"],[0.2222222222222222,\"#7201a8\"],[0.3333333333333333,\"#9c179e\"],[0.4444444444444444,\"#bd3786\"],[0.5555555555555556,\"#d8576b\"],[0.6666666666666666,\"#ed7953\"],[0.7777777777777778,\"#fb9f3a\"],[0.8888888888888888,\"#fdca26\"],[1.0,\"#f0f921\"]],\"sequentialminus\":[[0.0,\"#0d0887\"],[0.1111111111111111,\"#46039f\"],[0.2222222222222222,\"#7201a8\"],[0.3333333333333333,\"#9c179e\"],[0.4444444444444444,\"#bd3786\"],[0.5555555555555556,\"#d8576b\"],[0.6666666666666666,\"#ed7953\"],[0.7777777777777778,\"#fb9f3a\"],[0.8888888888888888,\"#fdca26\"],[1.0,\"#f0f921\"]],\"diverging\":[[0,\"#8e0152\"],[0.1,\"#c51b7d\"],[0.2,\"#de77ae\"],[0.3,\"#f1b6da\"],[0.4,\"#fde0ef\"],[0.5,\"#f7f7f7\"],[0.6,\"#e6f5d0\"],[0.7,\"#b8e186\"],[0.8,\"#7fbc41\"],[0.9,\"#4d9221\"],[1,\"#276419\"]]},\"xaxis\":{\"gridcolor\":\"white\",\"linecolor\":\"white\",\"ticks\":\"\",\"title\":{\"standoff\":15},\"zerolinecolor\":\"white\",\"automargin\":true,\"zerolinewidth\":2},\"yaxis\":{\"gridcolor\":\"white\",\"linecolor\":\"white\",\"ticks\":\"\",\"title\":{\"standoff\":15},\"zerolinecolor\":\"white\",\"automargin\":true,\"zerolinewidth\":2},\"scene\":{\"xaxis\":{\"backgroundcolor\":\"#E5ECF6\",\"gridcolor\":\"white\",\"linecolor\":\"white\",\"showbackground\":true,\"ticks\":\"\",\"zerolinecolor\":\"white\",\"gridwidth\":2},\"yaxis\":{\"backgroundcolor\":\"#E5ECF6\",\"gridcolor\":\"white\",\"linecolor\":\"white\",\"showbackground\":true,\"ticks\":\"\",\"zerolinecolor\":\"white\",\"gridwidth\":2},\"zaxis\":{\"backgroundcolor\":\"#E5ECF6\",\"gridcolor\":\"white\",\"linecolor\":\"white\",\"showbackground\":true,\"ticks\":\"\",\"zerolinecolor\":\"white\",\"gridwidth\":2}},\"shapedefaults\":{\"line\":{\"color\":\"#2a3f5f\"}},\"annotationdefaults\":{\"arrowcolor\":\"#2a3f5f\",\"arrowhead\":0,\"arrowwidth\":1},\"geo\":{\"bgcolor\":\"white\",\"landcolor\":\"#E5ECF6\",\"subunitcolor\":\"white\",\"showland\":true,\"showlakes\":true,\"lakecolor\":\"white\"},\"title\":{\"x\":0.05},\"mapbox\":{\"style\":\"light\"}}},\"xaxis\":{\"anchor\":\"y\",\"domain\":[0.0,1.0],\"title\":{\"text\":\"complaint code\"}},\"yaxis\":{\"anchor\":\"x\",\"domain\":[0.0,1.0],\"title\":{\"text\":\"count\"}},\"legend\":{\"title\":{\"text\":\"Status\"},\"tracegroupgap\":0},\"margin\":{\"t\":60},\"barmode\":\"relative\",\"bargap\":0.2,\"title\":{\"font\":{\"size\":20},\"text\":\"Distribution of Complaints and its status\",\"x\":0.5}},                        {\"responsive\": true}                    ).then(function(){\n",
              "                            \n",
              "var gd = document.getElementById('acf760d9-c84a-45e7-b884-574d35cd7522');\n",
              "var x = new MutationObserver(function (mutations, observer) {{\n",
              "        var display = window.getComputedStyle(gd).display;\n",
              "        if (!display || display === 'none') {{\n",
              "            console.log([gd, 'removed!']);\n",
              "            Plotly.purge(gd);\n",
              "            observer.disconnect();\n",
              "        }}\n",
              "}});\n",
              "\n",
              "// Listen for the removal of the full notebook cells\n",
              "var notebookContainer = gd.closest('#notebook-container');\n",
              "if (notebookContainer) {{\n",
              "    x.observe(notebookContainer, {childList: true});\n",
              "}}\n",
              "\n",
              "// Listen for the clearing of the current output cell\n",
              "var outputEl = gd.closest('.output');\n",
              "if (outputEl) {{\n",
              "    x.observe(outputEl, {childList: true});\n",
              "}}\n",
              "\n",
              "                        })                };                            </script>        </div>\n",
              "</body>\n",
              "</html>"
            ]
          },
          "metadata": {}
        }
      ]
    },
    {
      "cell_type": "code",
      "source": [
        "df = data.groupby('type_complaint_code').agg({'complaint_ID': 'count', 'age': 'mean', 'year': 'mean'}).sort_values(by='complaint_ID', ascending=False)\n",
        "df"
      ],
      "metadata": {
        "colab": {
          "base_uri": "https://localhost:8080/",
          "height": 426
        },
        "id": "80NwMi2JN2bf",
        "outputId": "47860e10-fde4-41db-b729-7e29332231b9"
      },
      "execution_count": null,
      "outputs": [
        {
          "output_type": "execute_result",
          "data": {
            "text/plain": [
              "                     complaint_ID        age      year\n",
              "type_complaint_code                                   \n",
              "ASR                           226  21.371681  1.296460\n",
              "FNC                           138  20.413043  2.927536\n",
              "FNS                            91  21.637363  2.945055\n",
              "ONL                            90  21.744444  2.900000\n",
              "CRO                            89  20.865169  4.426966\n",
              "ISE                            86  21.302326  2.825581\n",
              "ANS                            77  21.415584  2.857143\n",
              "HNT                            64  21.859375  2.890625\n",
              "HWS                            53  21.716981  2.924528\n",
              "ANT                            40  21.175000  3.175000\n",
              "STA                            33  21.242424  3.181818"
            ],
            "text/html": [
              "\n",
              "  <div id=\"df-0ac9a482-3b52-4892-aa8b-484cd329264a\">\n",
              "    <div class=\"colab-df-container\">\n",
              "      <div>\n",
              "<style scoped>\n",
              "    .dataframe tbody tr th:only-of-type {\n",
              "        vertical-align: middle;\n",
              "    }\n",
              "\n",
              "    .dataframe tbody tr th {\n",
              "        vertical-align: top;\n",
              "    }\n",
              "\n",
              "    .dataframe thead th {\n",
              "        text-align: right;\n",
              "    }\n",
              "</style>\n",
              "<table border=\"1\" class=\"dataframe\">\n",
              "  <thead>\n",
              "    <tr style=\"text-align: right;\">\n",
              "      <th></th>\n",
              "      <th>complaint_ID</th>\n",
              "      <th>age</th>\n",
              "      <th>year</th>\n",
              "    </tr>\n",
              "    <tr>\n",
              "      <th>type_complaint_code</th>\n",
              "      <th></th>\n",
              "      <th></th>\n",
              "      <th></th>\n",
              "    </tr>\n",
              "  </thead>\n",
              "  <tbody>\n",
              "    <tr>\n",
              "      <th>ASR</th>\n",
              "      <td>226</td>\n",
              "      <td>21.371681</td>\n",
              "      <td>1.296460</td>\n",
              "    </tr>\n",
              "    <tr>\n",
              "      <th>FNC</th>\n",
              "      <td>138</td>\n",
              "      <td>20.413043</td>\n",
              "      <td>2.927536</td>\n",
              "    </tr>\n",
              "    <tr>\n",
              "      <th>FNS</th>\n",
              "      <td>91</td>\n",
              "      <td>21.637363</td>\n",
              "      <td>2.945055</td>\n",
              "    </tr>\n",
              "    <tr>\n",
              "      <th>ONL</th>\n",
              "      <td>90</td>\n",
              "      <td>21.744444</td>\n",
              "      <td>2.900000</td>\n",
              "    </tr>\n",
              "    <tr>\n",
              "      <th>CRO</th>\n",
              "      <td>89</td>\n",
              "      <td>20.865169</td>\n",
              "      <td>4.426966</td>\n",
              "    </tr>\n",
              "    <tr>\n",
              "      <th>ISE</th>\n",
              "      <td>86</td>\n",
              "      <td>21.302326</td>\n",
              "      <td>2.825581</td>\n",
              "    </tr>\n",
              "    <tr>\n",
              "      <th>ANS</th>\n",
              "      <td>77</td>\n",
              "      <td>21.415584</td>\n",
              "      <td>2.857143</td>\n",
              "    </tr>\n",
              "    <tr>\n",
              "      <th>HNT</th>\n",
              "      <td>64</td>\n",
              "      <td>21.859375</td>\n",
              "      <td>2.890625</td>\n",
              "    </tr>\n",
              "    <tr>\n",
              "      <th>HWS</th>\n",
              "      <td>53</td>\n",
              "      <td>21.716981</td>\n",
              "      <td>2.924528</td>\n",
              "    </tr>\n",
              "    <tr>\n",
              "      <th>ANT</th>\n",
              "      <td>40</td>\n",
              "      <td>21.175000</td>\n",
              "      <td>3.175000</td>\n",
              "    </tr>\n",
              "    <tr>\n",
              "      <th>STA</th>\n",
              "      <td>33</td>\n",
              "      <td>21.242424</td>\n",
              "      <td>3.181818</td>\n",
              "    </tr>\n",
              "  </tbody>\n",
              "</table>\n",
              "</div>\n",
              "      <button class=\"colab-df-convert\" onclick=\"convertToInteractive('df-0ac9a482-3b52-4892-aa8b-484cd329264a')\"\n",
              "              title=\"Convert this dataframe to an interactive table.\"\n",
              "              style=\"display:none;\">\n",
              "        \n",
              "  <svg xmlns=\"http://www.w3.org/2000/svg\" height=\"24px\"viewBox=\"0 0 24 24\"\n",
              "       width=\"24px\">\n",
              "    <path d=\"M0 0h24v24H0V0z\" fill=\"none\"/>\n",
              "    <path d=\"M18.56 5.44l.94 2.06.94-2.06 2.06-.94-2.06-.94-.94-2.06-.94 2.06-2.06.94zm-11 1L8.5 8.5l.94-2.06 2.06-.94-2.06-.94L8.5 2.5l-.94 2.06-2.06.94zm10 10l.94 2.06.94-2.06 2.06-.94-2.06-.94-.94-2.06-.94 2.06-2.06.94z\"/><path d=\"M17.41 7.96l-1.37-1.37c-.4-.4-.92-.59-1.43-.59-.52 0-1.04.2-1.43.59L10.3 9.45l-7.72 7.72c-.78.78-.78 2.05 0 2.83L4 21.41c.39.39.9.59 1.41.59.51 0 1.02-.2 1.41-.59l7.78-7.78 2.81-2.81c.8-.78.8-2.07 0-2.86zM5.41 20L4 18.59l7.72-7.72 1.47 1.35L5.41 20z\"/>\n",
              "  </svg>\n",
              "      </button>\n",
              "      \n",
              "  <style>\n",
              "    .colab-df-container {\n",
              "      display:flex;\n",
              "      flex-wrap:wrap;\n",
              "      gap: 12px;\n",
              "    }\n",
              "\n",
              "    .colab-df-convert {\n",
              "      background-color: #E8F0FE;\n",
              "      border: none;\n",
              "      border-radius: 50%;\n",
              "      cursor: pointer;\n",
              "      display: none;\n",
              "      fill: #1967D2;\n",
              "      height: 32px;\n",
              "      padding: 0 0 0 0;\n",
              "      width: 32px;\n",
              "    }\n",
              "\n",
              "    .colab-df-convert:hover {\n",
              "      background-color: #E2EBFA;\n",
              "      box-shadow: 0px 1px 2px rgba(60, 64, 67, 0.3), 0px 1px 3px 1px rgba(60, 64, 67, 0.15);\n",
              "      fill: #174EA6;\n",
              "    }\n",
              "\n",
              "    [theme=dark] .colab-df-convert {\n",
              "      background-color: #3B4455;\n",
              "      fill: #D2E3FC;\n",
              "    }\n",
              "\n",
              "    [theme=dark] .colab-df-convert:hover {\n",
              "      background-color: #434B5C;\n",
              "      box-shadow: 0px 1px 3px 1px rgba(0, 0, 0, 0.15);\n",
              "      filter: drop-shadow(0px 1px 2px rgba(0, 0, 0, 0.3));\n",
              "      fill: #FFFFFF;\n",
              "    }\n",
              "  </style>\n",
              "\n",
              "      <script>\n",
              "        const buttonEl =\n",
              "          document.querySelector('#df-0ac9a482-3b52-4892-aa8b-484cd329264a button.colab-df-convert');\n",
              "        buttonEl.style.display =\n",
              "          google.colab.kernel.accessAllowed ? 'block' : 'none';\n",
              "\n",
              "        async function convertToInteractive(key) {\n",
              "          const element = document.querySelector('#df-0ac9a482-3b52-4892-aa8b-484cd329264a');\n",
              "          const dataTable =\n",
              "            await google.colab.kernel.invokeFunction('convertToInteractive',\n",
              "                                                     [key], {});\n",
              "          if (!dataTable) return;\n",
              "\n",
              "          const docLinkHtml = 'Like what you see? Visit the ' +\n",
              "            '<a target=\"_blank\" href=https://colab.research.google.com/notebooks/data_table.ipynb>data table notebook</a>'\n",
              "            + ' to learn more about interactive tables.';\n",
              "          element.innerHTML = '';\n",
              "          dataTable['output_type'] = 'display_data';\n",
              "          await google.colab.output.renderOutput(dataTable, element);\n",
              "          const docLink = document.createElement('div');\n",
              "          docLink.innerHTML = docLinkHtml;\n",
              "          element.appendChild(docLink);\n",
              "        }\n",
              "      </script>\n",
              "    </div>\n",
              "  </div>\n",
              "  "
            ]
          },
          "metadata": {},
          "execution_count": 54
        }
      ]
    },
    {
      "cell_type": "code",
      "source": [
        "fig = px.histogram(data['year'], color=data['type_complaint_code'],\n",
        "                   labels={'value': 'Year',\n",
        "                           'color': 'Type'})\n",
        "fig.update_layout(bargap=0.2)\n",
        "fig.update_traces(marker=dict(line=dict(color='#000000', width=2)))\n",
        "fig.update_layout(title_text='Relationship between Year and Type of Complaint',\n",
        "                  title_x=0.5, title_font=dict(size=20))\n",
        "fig.update_layout(barmode='group')\n",
        "fig.show()"
      ],
      "metadata": {
        "colab": {
          "base_uri": "https://localhost:8080/",
          "height": 542
        },
        "id": "hpRV6wsCOAc3",
        "outputId": "b6474c48-7582-47bf-f219-1f2478cfc0ba"
      },
      "execution_count": null,
      "outputs": [
        {
          "output_type": "display_data",
          "data": {
            "text/html": [
              "<html>\n",
              "<head><meta charset=\"utf-8\" /></head>\n",
              "<body>\n",
              "    <div>            <script src=\"https://cdnjs.cloudflare.com/ajax/libs/mathjax/2.7.5/MathJax.js?config=TeX-AMS-MML_SVG\"></script><script type=\"text/javascript\">if (window.MathJax && window.MathJax.Hub && window.MathJax.Hub.Config) {window.MathJax.Hub.Config({SVG: {font: \"STIX-Web\"}});}</script>                <script type=\"text/javascript\">window.PlotlyConfig = {MathJaxConfig: 'local'};</script>\n",
              "        <script src=\"https://cdn.plot.ly/plotly-2.18.2.min.js\"></script>                <div id=\"b478d1f6-dc65-4672-92ad-8e403ce05b2e\" class=\"plotly-graph-div\" style=\"height:525px; width:100%;\"></div>            <script type=\"text/javascript\">                                    window.PLOTLYENV=window.PLOTLYENV || {};                                    if (document.getElementById(\"b478d1f6-dc65-4672-92ad-8e403ce05b2e\")) {                    Plotly.newPlot(                        \"b478d1f6-dc65-4672-92ad-8e403ce05b2e\",                        [{\"alignmentgroup\":\"True\",\"bingroup\":\"x\",\"hovertemplate\":\"Type=ASR<br>Year=%{x}<br>count=%{y}<extra></extra>\",\"legendgroup\":\"ASR\",\"marker\":{\"color\":\"#636efa\",\"pattern\":{\"shape\":\"\"},\"line\":{\"color\":\"#000000\",\"width\":2}},\"name\":\"ASR\",\"offsetgroup\":\"ASR\",\"orientation\":\"v\",\"showlegend\":true,\"x\":[2,2,1,1,1,2,1,1,2,2,1,1,1,2,2,1,1,1,1,1,1,1,1,1,1,1,1,2,1,2,2,1,1,1,1,1,1,1,1,2,1,1,1,2,2,2,2,1,1,1,1,1,1,1,1,1,1,2,1,1,2,2,2,2,1,1,1,1,1,1,1,1,2,2,1,1,1,1,1,1,1,1,2,2,1,1,1,1,1,1,2,2,1,1,1,1,1,2,2,1,1,2,2,2,1,1,1,1,2,1,2,2,2,2,1,1,1,1,1,1,1,2,2,2,1,1,1,1,1,2,2,2,2,2,2,1,1,1,1,1,1,1,1,1,1,1,1,1,2,2,1,1,1,1,1,1,1,1,2,2,2,1,1,1,1,2,2,1,1,1,1,1,1,1,2,2,1,1,1,1,1,1,1,1,1,1,2,2,1,1,1,2,2,2,1,1,1,1,1,1,1,1,1,2,2,2,2,2,2,1,1,1,1,1,1,1,2,1,1,2,1,1,1,1,1,1],\"xaxis\":\"x\",\"yaxis\":\"y\",\"type\":\"histogram\"},{\"alignmentgroup\":\"True\",\"bingroup\":\"x\",\"hovertemplate\":\"Type=ANS<br>Year=%{x}<br>count=%{y}<extra></extra>\",\"legendgroup\":\"ANS\",\"marker\":{\"color\":\"#EF553B\",\"pattern\":{\"shape\":\"\"},\"line\":{\"color\":\"#000000\",\"width\":2}},\"name\":\"ANS\",\"offsetgroup\":\"ANS\",\"orientation\":\"v\",\"showlegend\":true,\"x\":[1,1,4,2,1,2,2,2,5,2,4,5,5,5,5,2,1,2,1,2,4,2,5,2,4,5,3,5,2,4,1,3,2,1,2,3,1,2,2,3,1,5,5,5,1,1,5,3,3,4,1,3,2,5,2,1,5,5,4,1,3,3,4,5,3,3,4,3,1,1,2,4,1,3,2,4,2],\"xaxis\":\"x\",\"yaxis\":\"y\",\"type\":\"histogram\"},{\"alignmentgroup\":\"True\",\"bingroup\":\"x\",\"hovertemplate\":\"Type=CRO<br>Year=%{x}<br>count=%{y}<extra></extra>\",\"legendgroup\":\"CRO\",\"marker\":{\"color\":\"#00cc96\",\"pattern\":{\"shape\":\"\"},\"line\":{\"color\":\"#000000\",\"width\":2}},\"name\":\"CRO\",\"offsetgroup\":\"CRO\",\"orientation\":\"v\",\"showlegend\":true,\"x\":[4,5,5,4,5,4,5,5,5,4,5,5,5,4,5,4,4,4,4,4,4,4,4,5,4,4,4,4,5,4,5,4,4,4,5,5,4,4,5,5,4,4,4,4,5,5,5,4,5,4,4,4,4,4,4,5,5,5,5,4,5,4,5,5,4,4,5,5,4,4,5,5,5,4,5,5,5,4,5,4,4,4,5,2,4,5,4,5,4],\"xaxis\":\"x\",\"yaxis\":\"y\",\"type\":\"histogram\"},{\"alignmentgroup\":\"True\",\"bingroup\":\"x\",\"hovertemplate\":\"Type=FNS<br>Year=%{x}<br>count=%{y}<extra></extra>\",\"legendgroup\":\"FNS\",\"marker\":{\"color\":\"#ab63fa\",\"pattern\":{\"shape\":\"\"},\"line\":{\"color\":\"#000000\",\"width\":2}},\"name\":\"FNS\",\"offsetgroup\":\"FNS\",\"orientation\":\"v\",\"showlegend\":true,\"x\":[2,4,4,1,1,1,5,4,2,3,4,5,4,2,5,3,2,3,2,5,2,5,3,4,2,3,5,5,2,2,4,3,4,1,1,1,3,1,2,1,3,5,4,2,3,3,5,2,1,5,2,2,3,5,4,2,4,5,3,2,2,4,3,3,1,4,4,1,3,2,2,2,3,3,1,4,2,1,2,1,5,1,4,5,3,2,5,5,5,1,3],\"xaxis\":\"x\",\"yaxis\":\"y\",\"type\":\"histogram\"},{\"alignmentgroup\":\"True\",\"bingroup\":\"x\",\"hovertemplate\":\"Type=ISE<br>Year=%{x}<br>count=%{y}<extra></extra>\",\"legendgroup\":\"ISE\",\"marker\":{\"color\":\"#FFA15A\",\"pattern\":{\"shape\":\"\"},\"line\":{\"color\":\"#000000\",\"width\":2}},\"name\":\"ISE\",\"offsetgroup\":\"ISE\",\"orientation\":\"v\",\"showlegend\":true,\"x\":[5,4,2,5,3,3,3,1,2,2,4,2,2,3,2,5,4,4,5,1,2,1,1,4,2,2,3,3,1,4,3,1,1,4,3,5,3,5,4,3,1,4,2,3,1,1,3,2,1,3,1,2,2,2,2,3,1,2,5,1,4,3,1,2,2,4,5,1,2,3,4,3,1,3,4,2,4,4,5,2,4,5,4,4,5,3],\"xaxis\":\"x\",\"yaxis\":\"y\",\"type\":\"histogram\"},{\"alignmentgroup\":\"True\",\"bingroup\":\"x\",\"hovertemplate\":\"Type=ONL<br>Year=%{x}<br>count=%{y}<extra></extra>\",\"legendgroup\":\"ONL\",\"marker\":{\"color\":\"#19d3f3\",\"pattern\":{\"shape\":\"\"},\"line\":{\"color\":\"#000000\",\"width\":2}},\"name\":\"ONL\",\"offsetgroup\":\"ONL\",\"orientation\":\"v\",\"showlegend\":true,\"x\":[5,1,5,5,1,2,3,4,1,2,1,4,2,3,1,5,4,2,1,2,5,4,3,1,3,5,2,2,4,3,1,4,5,4,1,4,3,5,3,5,2,5,2,2,5,2,5,4,5,3,3,1,2,1,3,3,2,2,5,4,2,1,2,1,3,3,5,1,5,1,2,1,3,1,3,2,5,5,2,1,1,1,4,5,2,5,1,2,4,5],\"xaxis\":\"x\",\"yaxis\":\"y\",\"type\":\"histogram\"},{\"alignmentgroup\":\"True\",\"bingroup\":\"x\",\"hovertemplate\":\"Type=STA<br>Year=%{x}<br>count=%{y}<extra></extra>\",\"legendgroup\":\"STA\",\"marker\":{\"color\":\"#FF6692\",\"pattern\":{\"shape\":\"\"},\"line\":{\"color\":\"#000000\",\"width\":2}},\"name\":\"STA\",\"offsetgroup\":\"STA\",\"orientation\":\"v\",\"showlegend\":true,\"x\":[5,5,2,4,2,2,5,4,4,1,3,3,4,2,1,2,2,3,3,4,1,4,4,3,5,5,3,1,5,1,5,4,3],\"xaxis\":\"x\",\"yaxis\":\"y\",\"type\":\"histogram\"},{\"alignmentgroup\":\"True\",\"bingroup\":\"x\",\"hovertemplate\":\"Type=FNC<br>Year=%{x}<br>count=%{y}<extra></extra>\",\"legendgroup\":\"FNC\",\"marker\":{\"color\":\"#B6E880\",\"pattern\":{\"shape\":\"\"},\"line\":{\"color\":\"#000000\",\"width\":2}},\"name\":\"FNC\",\"offsetgroup\":\"FNC\",\"orientation\":\"v\",\"showlegend\":true,\"x\":[4,3,1,1,1,2,5,4,3,3,5,5,2,3,2,2,1,5,5,1,2,1,1,5,4,4,4,3,3,3,3,5,2,5,2,2,5,3,5,2,5,5,1,4,3,1,3,4,2,5,1,4,1,3,3,3,5,1,1,2,3,3,2,4,4,2,1,3,4,2,5,1,5,3,2,2,2,3,2,5,1,5,3,1,1,5,2,4,2,5,3,2,2,4,4,5,3,3,4,2,3,2,2,3,4,1,3,5,2,3,4,3,5,4,4,5,1,1,4,2,4,3,5,3,4,3,3,1,5,1,1,1,3,1,1,1,3,2],\"xaxis\":\"x\",\"yaxis\":\"y\",\"type\":\"histogram\"},{\"alignmentgroup\":\"True\",\"bingroup\":\"x\",\"hovertemplate\":\"Type=HNT<br>Year=%{x}<br>count=%{y}<extra></extra>\",\"legendgroup\":\"HNT\",\"marker\":{\"color\":\"#FF97FF\",\"pattern\":{\"shape\":\"\"},\"line\":{\"color\":\"#000000\",\"width\":2}},\"name\":\"HNT\",\"offsetgroup\":\"HNT\",\"orientation\":\"v\",\"showlegend\":true,\"x\":[1,4,4,4,2,4,3,2,5,3,3,5,2,3,2,2,5,5,5,2,4,3,3,2,3,3,5,2,4,1,4,5,1,1,4,1,2,5,1,2,3,2,3,2,2,2,1,1,4,4,3,4,2,4,4,2,4,5,2,1,1,3,3,1],\"xaxis\":\"x\",\"yaxis\":\"y\",\"type\":\"histogram\"},{\"alignmentgroup\":\"True\",\"bingroup\":\"x\",\"hovertemplate\":\"Type=HWS<br>Year=%{x}<br>count=%{y}<extra></extra>\",\"legendgroup\":\"HWS\",\"marker\":{\"color\":\"#FECB52\",\"pattern\":{\"shape\":\"\"},\"line\":{\"color\":\"#000000\",\"width\":2}},\"name\":\"HWS\",\"offsetgroup\":\"HWS\",\"orientation\":\"v\",\"showlegend\":true,\"x\":[4,3,2,2,1,2,1,1,5,3,3,5,5,2,4,4,4,1,4,4,2,1,1,5,3,1,2,2,4,4,1,2,3,1,2,5,1,4,4,4,3,3,4,1,4,5,3,2,4,3,4,3,4],\"xaxis\":\"x\",\"yaxis\":\"y\",\"type\":\"histogram\"},{\"alignmentgroup\":\"True\",\"bingroup\":\"x\",\"hovertemplate\":\"Type=ANT<br>Year=%{x}<br>count=%{y}<extra></extra>\",\"legendgroup\":\"ANT\",\"marker\":{\"color\":\"#636efa\",\"pattern\":{\"shape\":\"\"},\"line\":{\"color\":\"#000000\",\"width\":2}},\"name\":\"ANT\",\"offsetgroup\":\"ANT\",\"orientation\":\"v\",\"showlegend\":true,\"x\":[3,5,4,4,3,1,5,1,4,5,4,3,2,5,5,2,1,4,1,3,3,4,3,1,5,2,3,2,2,4,3,2,5,1,3,5,3,5,2,4],\"xaxis\":\"x\",\"yaxis\":\"y\",\"type\":\"histogram\"}],                        {\"template\":{\"data\":{\"histogram2dcontour\":[{\"type\":\"histogram2dcontour\",\"colorbar\":{\"outlinewidth\":0,\"ticks\":\"\"},\"colorscale\":[[0.0,\"#0d0887\"],[0.1111111111111111,\"#46039f\"],[0.2222222222222222,\"#7201a8\"],[0.3333333333333333,\"#9c179e\"],[0.4444444444444444,\"#bd3786\"],[0.5555555555555556,\"#d8576b\"],[0.6666666666666666,\"#ed7953\"],[0.7777777777777778,\"#fb9f3a\"],[0.8888888888888888,\"#fdca26\"],[1.0,\"#f0f921\"]]}],\"choropleth\":[{\"type\":\"choropleth\",\"colorbar\":{\"outlinewidth\":0,\"ticks\":\"\"}}],\"histogram2d\":[{\"type\":\"histogram2d\",\"colorbar\":{\"outlinewidth\":0,\"ticks\":\"\"},\"colorscale\":[[0.0,\"#0d0887\"],[0.1111111111111111,\"#46039f\"],[0.2222222222222222,\"#7201a8\"],[0.3333333333333333,\"#9c179e\"],[0.4444444444444444,\"#bd3786\"],[0.5555555555555556,\"#d8576b\"],[0.6666666666666666,\"#ed7953\"],[0.7777777777777778,\"#fb9f3a\"],[0.8888888888888888,\"#fdca26\"],[1.0,\"#f0f921\"]]}],\"heatmap\":[{\"type\":\"heatmap\",\"colorbar\":{\"outlinewidth\":0,\"ticks\":\"\"},\"colorscale\":[[0.0,\"#0d0887\"],[0.1111111111111111,\"#46039f\"],[0.2222222222222222,\"#7201a8\"],[0.3333333333333333,\"#9c179e\"],[0.4444444444444444,\"#bd3786\"],[0.5555555555555556,\"#d8576b\"],[0.6666666666666666,\"#ed7953\"],[0.7777777777777778,\"#fb9f3a\"],[0.8888888888888888,\"#fdca26\"],[1.0,\"#f0f921\"]]}],\"heatmapgl\":[{\"type\":\"heatmapgl\",\"colorbar\":{\"outlinewidth\":0,\"ticks\":\"\"},\"colorscale\":[[0.0,\"#0d0887\"],[0.1111111111111111,\"#46039f\"],[0.2222222222222222,\"#7201a8\"],[0.3333333333333333,\"#9c179e\"],[0.4444444444444444,\"#bd3786\"],[0.5555555555555556,\"#d8576b\"],[0.6666666666666666,\"#ed7953\"],[0.7777777777777778,\"#fb9f3a\"],[0.8888888888888888,\"#fdca26\"],[1.0,\"#f0f921\"]]}],\"contourcarpet\":[{\"type\":\"contourcarpet\",\"colorbar\":{\"outlinewidth\":0,\"ticks\":\"\"}}],\"contour\":[{\"type\":\"contour\",\"colorbar\":{\"outlinewidth\":0,\"ticks\":\"\"},\"colorscale\":[[0.0,\"#0d0887\"],[0.1111111111111111,\"#46039f\"],[0.2222222222222222,\"#7201a8\"],[0.3333333333333333,\"#9c179e\"],[0.4444444444444444,\"#bd3786\"],[0.5555555555555556,\"#d8576b\"],[0.6666666666666666,\"#ed7953\"],[0.7777777777777778,\"#fb9f3a\"],[0.8888888888888888,\"#fdca26\"],[1.0,\"#f0f921\"]]}],\"surface\":[{\"type\":\"surface\",\"colorbar\":{\"outlinewidth\":0,\"ticks\":\"\"},\"colorscale\":[[0.0,\"#0d0887\"],[0.1111111111111111,\"#46039f\"],[0.2222222222222222,\"#7201a8\"],[0.3333333333333333,\"#9c179e\"],[0.4444444444444444,\"#bd3786\"],[0.5555555555555556,\"#d8576b\"],[0.6666666666666666,\"#ed7953\"],[0.7777777777777778,\"#fb9f3a\"],[0.8888888888888888,\"#fdca26\"],[1.0,\"#f0f921\"]]}],\"mesh3d\":[{\"type\":\"mesh3d\",\"colorbar\":{\"outlinewidth\":0,\"ticks\":\"\"}}],\"scatter\":[{\"fillpattern\":{\"fillmode\":\"overlay\",\"size\":10,\"solidity\":0.2},\"type\":\"scatter\"}],\"parcoords\":[{\"type\":\"parcoords\",\"line\":{\"colorbar\":{\"outlinewidth\":0,\"ticks\":\"\"}}}],\"scatterpolargl\":[{\"type\":\"scatterpolargl\",\"marker\":{\"colorbar\":{\"outlinewidth\":0,\"ticks\":\"\"}}}],\"bar\":[{\"error_x\":{\"color\":\"#2a3f5f\"},\"error_y\":{\"color\":\"#2a3f5f\"},\"marker\":{\"line\":{\"color\":\"#E5ECF6\",\"width\":0.5},\"pattern\":{\"fillmode\":\"overlay\",\"size\":10,\"solidity\":0.2}},\"type\":\"bar\"}],\"scattergeo\":[{\"type\":\"scattergeo\",\"marker\":{\"colorbar\":{\"outlinewidth\":0,\"ticks\":\"\"}}}],\"scatterpolar\":[{\"type\":\"scatterpolar\",\"marker\":{\"colorbar\":{\"outlinewidth\":0,\"ticks\":\"\"}}}],\"histogram\":[{\"marker\":{\"pattern\":{\"fillmode\":\"overlay\",\"size\":10,\"solidity\":0.2}},\"type\":\"histogram\"}],\"scattergl\":[{\"type\":\"scattergl\",\"marker\":{\"colorbar\":{\"outlinewidth\":0,\"ticks\":\"\"}}}],\"scatter3d\":[{\"type\":\"scatter3d\",\"line\":{\"colorbar\":{\"outlinewidth\":0,\"ticks\":\"\"}},\"marker\":{\"colorbar\":{\"outlinewidth\":0,\"ticks\":\"\"}}}],\"scattermapbox\":[{\"type\":\"scattermapbox\",\"marker\":{\"colorbar\":{\"outlinewidth\":0,\"ticks\":\"\"}}}],\"scatterternary\":[{\"type\":\"scatterternary\",\"marker\":{\"colorbar\":{\"outlinewidth\":0,\"ticks\":\"\"}}}],\"scattercarpet\":[{\"type\":\"scattercarpet\",\"marker\":{\"colorbar\":{\"outlinewidth\":0,\"ticks\":\"\"}}}],\"carpet\":[{\"aaxis\":{\"endlinecolor\":\"#2a3f5f\",\"gridcolor\":\"white\",\"linecolor\":\"white\",\"minorgridcolor\":\"white\",\"startlinecolor\":\"#2a3f5f\"},\"baxis\":{\"endlinecolor\":\"#2a3f5f\",\"gridcolor\":\"white\",\"linecolor\":\"white\",\"minorgridcolor\":\"white\",\"startlinecolor\":\"#2a3f5f\"},\"type\":\"carpet\"}],\"table\":[{\"cells\":{\"fill\":{\"color\":\"#EBF0F8\"},\"line\":{\"color\":\"white\"}},\"header\":{\"fill\":{\"color\":\"#C8D4E3\"},\"line\":{\"color\":\"white\"}},\"type\":\"table\"}],\"barpolar\":[{\"marker\":{\"line\":{\"color\":\"#E5ECF6\",\"width\":0.5},\"pattern\":{\"fillmode\":\"overlay\",\"size\":10,\"solidity\":0.2}},\"type\":\"barpolar\"}],\"pie\":[{\"automargin\":true,\"type\":\"pie\"}]},\"layout\":{\"autotypenumbers\":\"strict\",\"colorway\":[\"#636efa\",\"#EF553B\",\"#00cc96\",\"#ab63fa\",\"#FFA15A\",\"#19d3f3\",\"#FF6692\",\"#B6E880\",\"#FF97FF\",\"#FECB52\"],\"font\":{\"color\":\"#2a3f5f\"},\"hovermode\":\"closest\",\"hoverlabel\":{\"align\":\"left\"},\"paper_bgcolor\":\"white\",\"plot_bgcolor\":\"#E5ECF6\",\"polar\":{\"bgcolor\":\"#E5ECF6\",\"angularaxis\":{\"gridcolor\":\"white\",\"linecolor\":\"white\",\"ticks\":\"\"},\"radialaxis\":{\"gridcolor\":\"white\",\"linecolor\":\"white\",\"ticks\":\"\"}},\"ternary\":{\"bgcolor\":\"#E5ECF6\",\"aaxis\":{\"gridcolor\":\"white\",\"linecolor\":\"white\",\"ticks\":\"\"},\"baxis\":{\"gridcolor\":\"white\",\"linecolor\":\"white\",\"ticks\":\"\"},\"caxis\":{\"gridcolor\":\"white\",\"linecolor\":\"white\",\"ticks\":\"\"}},\"coloraxis\":{\"colorbar\":{\"outlinewidth\":0,\"ticks\":\"\"}},\"colorscale\":{\"sequential\":[[0.0,\"#0d0887\"],[0.1111111111111111,\"#46039f\"],[0.2222222222222222,\"#7201a8\"],[0.3333333333333333,\"#9c179e\"],[0.4444444444444444,\"#bd3786\"],[0.5555555555555556,\"#d8576b\"],[0.6666666666666666,\"#ed7953\"],[0.7777777777777778,\"#fb9f3a\"],[0.8888888888888888,\"#fdca26\"],[1.0,\"#f0f921\"]],\"sequentialminus\":[[0.0,\"#0d0887\"],[0.1111111111111111,\"#46039f\"],[0.2222222222222222,\"#7201a8\"],[0.3333333333333333,\"#9c179e\"],[0.4444444444444444,\"#bd3786\"],[0.5555555555555556,\"#d8576b\"],[0.6666666666666666,\"#ed7953\"],[0.7777777777777778,\"#fb9f3a\"],[0.8888888888888888,\"#fdca26\"],[1.0,\"#f0f921\"]],\"diverging\":[[0,\"#8e0152\"],[0.1,\"#c51b7d\"],[0.2,\"#de77ae\"],[0.3,\"#f1b6da\"],[0.4,\"#fde0ef\"],[0.5,\"#f7f7f7\"],[0.6,\"#e6f5d0\"],[0.7,\"#b8e186\"],[0.8,\"#7fbc41\"],[0.9,\"#4d9221\"],[1,\"#276419\"]]},\"xaxis\":{\"gridcolor\":\"white\",\"linecolor\":\"white\",\"ticks\":\"\",\"title\":{\"standoff\":15},\"zerolinecolor\":\"white\",\"automargin\":true,\"zerolinewidth\":2},\"yaxis\":{\"gridcolor\":\"white\",\"linecolor\":\"white\",\"ticks\":\"\",\"title\":{\"standoff\":15},\"zerolinecolor\":\"white\",\"automargin\":true,\"zerolinewidth\":2},\"scene\":{\"xaxis\":{\"backgroundcolor\":\"#E5ECF6\",\"gridcolor\":\"white\",\"linecolor\":\"white\",\"showbackground\":true,\"ticks\":\"\",\"zerolinecolor\":\"white\",\"gridwidth\":2},\"yaxis\":{\"backgroundcolor\":\"#E5ECF6\",\"gridcolor\":\"white\",\"linecolor\":\"white\",\"showbackground\":true,\"ticks\":\"\",\"zerolinecolor\":\"white\",\"gridwidth\":2},\"zaxis\":{\"backgroundcolor\":\"#E5ECF6\",\"gridcolor\":\"white\",\"linecolor\":\"white\",\"showbackground\":true,\"ticks\":\"\",\"zerolinecolor\":\"white\",\"gridwidth\":2}},\"shapedefaults\":{\"line\":{\"color\":\"#2a3f5f\"}},\"annotationdefaults\":{\"arrowcolor\":\"#2a3f5f\",\"arrowhead\":0,\"arrowwidth\":1},\"geo\":{\"bgcolor\":\"white\",\"landcolor\":\"#E5ECF6\",\"subunitcolor\":\"white\",\"showland\":true,\"showlakes\":true,\"lakecolor\":\"white\"},\"title\":{\"x\":0.05},\"mapbox\":{\"style\":\"light\"}}},\"xaxis\":{\"anchor\":\"y\",\"domain\":[0.0,1.0],\"title\":{\"text\":\"Year\"}},\"yaxis\":{\"anchor\":\"x\",\"domain\":[0.0,1.0],\"title\":{\"text\":\"count\"}},\"legend\":{\"title\":{\"text\":\"Type\"},\"tracegroupgap\":0},\"margin\":{\"t\":60},\"barmode\":\"group\",\"bargap\":0.2,\"title\":{\"font\":{\"size\":20},\"text\":\"Relationship between Year and Type of Complaint\",\"x\":0.5}},                        {\"responsive\": true}                    ).then(function(){\n",
              "                            \n",
              "var gd = document.getElementById('b478d1f6-dc65-4672-92ad-8e403ce05b2e');\n",
              "var x = new MutationObserver(function (mutations, observer) {{\n",
              "        var display = window.getComputedStyle(gd).display;\n",
              "        if (!display || display === 'none') {{\n",
              "            console.log([gd, 'removed!']);\n",
              "            Plotly.purge(gd);\n",
              "            observer.disconnect();\n",
              "        }}\n",
              "}});\n",
              "\n",
              "// Listen for the removal of the full notebook cells\n",
              "var notebookContainer = gd.closest('#notebook-container');\n",
              "if (notebookContainer) {{\n",
              "    x.observe(notebookContainer, {childList: true});\n",
              "}}\n",
              "\n",
              "// Listen for the clearing of the current output cell\n",
              "var outputEl = gd.closest('.output');\n",
              "if (outputEl) {{\n",
              "    x.observe(outputEl, {childList: true});\n",
              "}}\n",
              "\n",
              "                        })                };                            </script>        </div>\n",
              "</body>\n",
              "</html>"
            ]
          },
          "metadata": {}
        }
      ]
    },
    {
      "cell_type": "code",
      "source": [
        "fig = px.histogram(data['type_complaint_code'], color=data['status'],\n",
        "                   labels={'value': 'Type of Complaint',\n",
        "                           'color': 'Status'})\n",
        "fig.update_layout(bargap=0.2)\n",
        "fig.update_traces(marker=dict(line=dict(color='#000000', width=2)))\n",
        "fig.update_layout(title_text='Relationship between Type of Complaint and Status',\n",
        "                  title_x=0.5, title_font=dict(size=20))\n",
        "fig.update_layout(barmode='group')\n",
        "fig.show()"
      ],
      "metadata": {
        "colab": {
          "base_uri": "https://localhost:8080/",
          "height": 542
        },
        "id": "Tg59HWNZPtSD",
        "outputId": "2ed13627-d31a-4234-ad86-4134fd47d7cc"
      },
      "execution_count": null,
      "outputs": [
        {
          "output_type": "display_data",
          "data": {
            "text/html": [
              "<html>\n",
              "<head><meta charset=\"utf-8\" /></head>\n",
              "<body>\n",
              "    <div>            <script src=\"https://cdnjs.cloudflare.com/ajax/libs/mathjax/2.7.5/MathJax.js?config=TeX-AMS-MML_SVG\"></script><script type=\"text/javascript\">if (window.MathJax && window.MathJax.Hub && window.MathJax.Hub.Config) {window.MathJax.Hub.Config({SVG: {font: \"STIX-Web\"}});}</script>                <script type=\"text/javascript\">window.PlotlyConfig = {MathJaxConfig: 'local'};</script>\n",
              "        <script src=\"https://cdn.plot.ly/plotly-2.18.2.min.js\"></script>                <div id=\"153b047b-0c0e-4efc-9e32-43d29cf12409\" class=\"plotly-graph-div\" style=\"height:525px; width:100%;\"></div>            <script type=\"text/javascript\">                                    window.PLOTLYENV=window.PLOTLYENV || {};                                    if (document.getElementById(\"153b047b-0c0e-4efc-9e32-43d29cf12409\")) {                    Plotly.newPlot(                        \"153b047b-0c0e-4efc-9e32-43d29cf12409\",                        [{\"alignmentgroup\":\"True\",\"bingroup\":\"x\",\"hovertemplate\":\"Status=OPEN<br>Type of Complaint=%{x}<br>count=%{y}<extra></extra>\",\"legendgroup\":\"OPEN\",\"marker\":{\"color\":\"#636efa\",\"pattern\":{\"shape\":\"\"},\"line\":{\"color\":\"#000000\",\"width\":2}},\"name\":\"OPEN\",\"offsetgroup\":\"OPEN\",\"orientation\":\"v\",\"showlegend\":true,\"x\":[\"ASR\",\"ASR\",\"ASR\",\"ASR\",\"ANS\",\"ANS\",\"ANS\",\"ANS\",\"CRO\",\"CRO\",\"FNS\",\"FNS\",\"FNS\",\"FNS\",\"ISE\",\"ISE\",\"ISE\",\"ONL\",\"STA\",\"FNC\",\"FNC\",\"FNC\",\"ASR\",\"ISE\",\"ONL\",\"HNT\",\"FNC\",\"ASR\",\"ASR\",\"ASR\",\"ANS\",\"ANS\",\"CRO\",\"HWS\",\"HWS\",\"HWS\",\"ISE\",\"ISE\",\"ISE\",\"ISE\",\"ISE\",\"ONL\",\"ONL\",\"ONL\",\"ONL\",\"STA\",\"STA\",\"HNT\",\"HNT\",\"HNT\",\"FNC\",\"ASR\",\"HWS\",\"HNT\",\"ASR\",\"ASR\",\"ASR\",\"ANS\",\"ANS\",\"CRO\",\"CRO\",\"FNS\",\"FNS\",\"FNS\",\"ISE\",\"ISE\",\"STA\",\"HNT\",\"HNT\",\"FNC\",\"FNC\",\"FNC\",\"FNC\",\"FNC\",\"ASR\",\"CRO\",\"FNS\",\"ASR\",\"ASR\",\"ASR\",\"ASR\",\"ANS\",\"CRO\",\"FNS\",\"FNS\",\"FNS\",\"ISE\",\"ISE\",\"ONL\",\"ONL\",\"STA\",\"STA\",\"ANT\",\"FNC\",\"FNC\",\"ASR\",\"STA\",\"HNT\",\"FNC\",\"FNC\",\"ASR\",\"ASR\",\"ASR\",\"ASR\",\"ASR\",\"ANS\",\"CRO\",\"CRO\",\"CRO\",\"FNS\",\"FNS\",\"FNS\",\"FNS\",\"HWS\",\"ISE\",\"ISE\",\"ISE\",\"ONL\",\"HNT\",\"FNC\",\"FNC\",\"FNC\",\"FNC\",\"FNC\",\"ASR\",\"ASR\",\"CRO\",\"STA\",\"CRO\",\"ASR\",\"ASR\",\"ANS\",\"ANS\",\"CRO\",\"CRO\",\"FNS\",\"FNS\",\"HWS\",\"ISE\",\"ISE\",\"ISE\",\"ISE\",\"ONL\",\"ONL\",\"HNT\",\"HNT\",\"ANT\",\"FNC\",\"FNC\",\"FNC\",\"FNC\",\"ASR\",\"ASR\",\"ANS\",\"CRO\",\"ISE\",\"ONL\",\"FNC\",\"ANS\",\"FNS\",\"HWS\",\"ASR\",\"ASR\",\"ASR\",\"ASR\",\"ASR\",\"ASR\",\"ASR\",\"ASR\",\"ASR\",\"ANS\",\"CRO\",\"FNS\",\"ONL\",\"ONL\",\"ONL\",\"ONL\",\"HNT\",\"ANT\",\"FNC\",\"FNC\",\"ASR\",\"FNC\",\"ASR\",\"ASR\",\"ASR\",\"ANS\",\"ANS\",\"ANS\",\"ANS\",\"CRO\",\"HWS\",\"HWS\",\"FNC\",\"ASR\",\"CRO\",\"ANS\"],\"xaxis\":\"x\",\"yaxis\":\"y\",\"type\":\"histogram\"},{\"alignmentgroup\":\"True\",\"bingroup\":\"x\",\"hovertemplate\":\"Status=CLOSE<br>Type of Complaint=%{x}<br>count=%{y}<extra></extra>\",\"legendgroup\":\"CLOSE\",\"marker\":{\"color\":\"#EF553B\",\"pattern\":{\"shape\":\"\"},\"line\":{\"color\":\"#000000\",\"width\":2}},\"name\":\"CLOSE\",\"offsetgroup\":\"CLOSE\",\"orientation\":\"v\",\"showlegend\":true,\"x\":[\"ASR\",\"ASR\",\"ASR\",\"ASR\",\"ASR\",\"ASR\",\"ASR\",\"ASR\",\"ASR\",\"ASR\",\"ASR\",\"ASR\",\"ASR\",\"ASR\",\"ANS\",\"ANS\",\"CRO\",\"CRO\",\"CRO\",\"CRO\",\"CRO\",\"CRO\",\"CRO\",\"CRO\",\"CRO\",\"CRO\",\"CRO\",\"CRO\",\"FNS\",\"FNS\",\"FNS\",\"FNS\",\"FNS\",\"FNS\",\"HWS\",\"HWS\",\"HWS\",\"ISE\",\"ISE\",\"ISE\",\"ISE\",\"ISE\",\"ONL\",\"ONL\",\"ONL\",\"HNT\",\"ANT\",\"FNC\",\"FNC\",\"FNC\",\"FNC\",\"FNC\",\"ASR\",\"ASR\",\"ASR\",\"ANS\",\"CRO\",\"HWS\",\"ONL\",\"ONL\",\"ONL\",\"HNT\",\"ANT\",\"FNC\",\"ASR\",\"ASR\",\"ASR\",\"ASR\",\"ASR\",\"ASR\",\"ASR\",\"ASR\",\"ANS\",\"ANS\",\"ANS\",\"CRO\",\"CRO\",\"FNS\",\"FNS\",\"FNS\",\"FNS\",\"FNS\",\"FNS\",\"HWS\",\"ISE\",\"ISE\",\"ISE\",\"ONL\",\"ONL\",\"ONL\",\"ONL\",\"ONL\",\"ONL\",\"STA\",\"STA\",\"HNT\",\"ANT\",\"FNC\",\"FNC\",\"FNC\",\"FNC\",\"FNC\",\"FNC\",\"FNC\",\"FNC\",\"ASR\",\"ASR\",\"ASR\",\"ASR\",\"ANS\",\"ANS\",\"ANS\",\"CRO\",\"CRO\",\"ONL\",\"ONL\",\"STA\",\"HNT\",\"FNC\",\"ISE\",\"ASR\",\"ASR\",\"ASR\",\"ASR\",\"ASR\",\"ASR\",\"ASR\",\"ASR\",\"ANS\",\"ANS\",\"ANS\",\"ANS\",\"CRO\",\"CRO\",\"CRO\",\"CRO\",\"FNS\",\"FNS\",\"FNS\",\"FNS\",\"FNS\",\"FNS\",\"FNS\",\"FNS\",\"HWS\",\"ISE\",\"ISE\",\"ONL\",\"ONL\",\"STA\",\"STA\",\"HNT\",\"FNC\",\"FNC\",\"FNC\",\"FNC\",\"FNC\",\"FNC\",\"FNC\",\"ASR\",\"ASR\",\"ANS\",\"ANS\",\"ISE\",\"FNC\",\"FNC\",\"HWS\",\"ONL\",\"HNT\",\"FNC\",\"ASR\",\"ASR\",\"ASR\",\"ASR\",\"ASR\",\"ASR\",\"ASR\",\"ANS\",\"CRO\",\"CRO\",\"CRO\",\"CRO\",\"CRO\",\"FNS\",\"FNS\",\"FNS\",\"HWS\",\"HWS\",\"HWS\",\"ONL\",\"ONL\",\"ONL\",\"ONL\",\"HNT\",\"HNT\",\"HNT\",\"ANT\",\"FNC\",\"FNC\",\"FNC\",\"FNC\",\"FNC\",\"FNC\",\"FNC\",\"FNC\",\"FNC\",\"FNC\",\"ASR\",\"ANS\",\"ANS\",\"ANS\",\"CRO\",\"HWS\",\"ISE\",\"ISE\",\"ONL\",\"STA\",\"STA\",\"HNT\",\"ASR\",\"ASR\",\"ASR\",\"ASR\",\"ASR\",\"ASR\",\"ASR\",\"ANS\",\"ANS\",\"ANS\",\"ANS\",\"ANS\",\"CRO\",\"CRO\",\"FNS\",\"FNS\",\"FNS\",\"FNS\",\"HWS\",\"ISE\",\"ISE\",\"ISE\",\"ONL\",\"ONL\",\"ONL\",\"ONL\",\"ONL\",\"ONL\",\"HNT\",\"HNT\",\"HNT\",\"HNT\",\"HNT\",\"ANT\",\"ANT\",\"FNC\",\"FNC\",\"FNC\",\"FNC\",\"FNC\",\"FNC\",\"ASR\",\"ASR\",\"ASR\",\"ASR\",\"ANS\",\"FNS\",\"FNS\",\"FNS\",\"HWS\",\"HWS\",\"ISE\",\"ONL\",\"ONL\",\"STA\",\"ANT\",\"FNC\",\"FNC\",\"ISE\",\"ASR\",\"ASR\",\"ASR\",\"ASR\",\"ASR\",\"ASR\",\"ASR\",\"ANS\",\"CRO\",\"CRO\",\"CRO\",\"CRO\",\"FNS\",\"FNS\",\"FNS\",\"FNS\",\"FNS\",\"FNS\",\"HWS\",\"HWS\",\"HWS\",\"HWS\",\"ISE\",\"ISE\",\"ISE\",\"ISE\",\"ISE\",\"ONL\",\"ONL\",\"ONL\",\"STA\",\"STA\",\"STA\",\"HNT\",\"HNT\",\"HNT\",\"HNT\",\"HNT\",\"HNT\",\"ANT\",\"ANT\",\"ANT\",\"FNC\",\"FNC\",\"FNC\",\"ASR\",\"ASR\",\"CRO\",\"FNS\",\"FNS\",\"ISE\",\"ONL\",\"ONL\",\"ONL\",\"HNT\",\"ANT\",\"FNC\",\"FNC\",\"HNT\",\"ASR\",\"ASR\",\"ASR\",\"ASR\",\"ASR\",\"ASR\",\"ASR\",\"ASR\",\"ASR\",\"ASR\",\"ASR\",\"ANS\",\"ANS\",\"CRO\",\"CRO\",\"CRO\",\"CRO\",\"CRO\",\"CRO\",\"CRO\",\"FNS\",\"FNS\",\"ISE\",\"ISE\",\"ISE\",\"ISE\",\"ONL\",\"ONL\",\"ONL\",\"ONL\",\"ONL\",\"STA\",\"STA\",\"HNT\",\"HNT\",\"HNT\",\"HNT\",\"HNT\",\"ANT\",\"ANT\",\"ANT\",\"ANT\",\"FNC\",\"FNC\",\"FNC\",\"FNC\",\"FNC\",\"FNC\",\"FNC\",\"FNC\",\"FNC\",\"ANS\",\"CRO\",\"FNS\",\"HWS\",\"ISE\",\"HNT\",\"ONL\",\"ASR\",\"ASR\",\"ASR\",\"ASR\",\"ASR\",\"ASR\",\"ANS\",\"ANS\",\"ANS\",\"ANS\",\"ANS\",\"ANS\",\"CRO\",\"CRO\",\"CRO\",\"FNS\",\"FNS\",\"ISE\",\"ISE\",\"ISE\",\"ISE\",\"ONL\",\"ONL\",\"HNT\",\"HNT\",\"HNT\",\"HNT\",\"HNT\",\"ANT\",\"ANT\",\"FNC\",\"FNC\",\"FNC\",\"FNC\",\"ASR\",\"ASR\",\"ANS\",\"ANS\",\"ANS\",\"CRO\",\"CRO\",\"CRO\",\"FNS\",\"FNS\",\"FNS\",\"ISE\",\"ISE\",\"ISE\",\"ONL\",\"ONL\",\"ONL\",\"STA\",\"HNT\",\"ANT\",\"FNC\",\"FNC\",\"FNC\",\"FNS\"],\"xaxis\":\"x\",\"yaxis\":\"y\",\"type\":\"histogram\"},{\"alignmentgroup\":\"True\",\"bingroup\":\"x\",\"hovertemplate\":\"Status=PROCESS<br>Type of Complaint=%{x}<br>count=%{y}<extra></extra>\",\"legendgroup\":\"PROCESS\",\"marker\":{\"color\":\"#00cc96\",\"pattern\":{\"shape\":\"\"},\"line\":{\"color\":\"#000000\",\"width\":2}},\"name\":\"PROCESS\",\"offsetgroup\":\"PROCESS\",\"orientation\":\"v\",\"showlegend\":true,\"x\":[\"ASR\",\"ASR\",\"ASR\",\"ASR\",\"ASR\",\"ASR\",\"ASR\",\"ASR\",\"ASR\",\"ASR\",\"ASR\",\"ASR\",\"ASR\",\"ASR\",\"ASR\",\"ASR\",\"ANS\",\"ANS\",\"ANS\",\"ANS\",\"CRO\",\"CRO\",\"CRO\",\"FNS\",\"HWS\",\"HWS\",\"HWS\",\"ISE\",\"ISE\",\"ISE\",\"ISE\",\"ISE\",\"ONL\",\"ONL\",\"ONL\",\"ONL\",\"STA\",\"STA\",\"HNT\",\"HNT\",\"HNT\",\"HNT\",\"ANT\",\"FNC\",\"FNC\",\"FNC\",\"FNC\",\"ASR\",\"ASR\",\"ASR\",\"ANS\",\"CRO\",\"ONL\",\"ONL\",\"STA\",\"ANT\",\"CRO\",\"ASR\",\"ASR\",\"ASR\",\"ASR\",\"ASR\",\"ASR\",\"ASR\",\"ANS\",\"ANS\",\"FNS\",\"FNS\",\"FNS\",\"ISE\",\"ONL\",\"ONL\",\"STA\",\"FNC\",\"FNC\",\"ASR\",\"ASR\",\"ASR\",\"ANS\",\"FNS\",\"ISE\",\"ISE\",\"ONL\",\"ANT\",\"ANT\",\"ASR\",\"ASR\",\"ASR\",\"ASR\",\"ASR\",\"ASR\",\"ASR\",\"CRO\",\"FNS\",\"HWS\",\"HWS\",\"ISE\",\"ISE\",\"ISE\",\"ISE\",\"ONL\",\"STA\",\"STA\",\"HNT\",\"HNT\",\"ASR\",\"CRO\",\"HWS\",\"HWS\",\"HNT\",\"ANT\",\"FNC\",\"FNC\",\"ASR\",\"ASR\",\"ASR\",\"ASR\",\"ASR\",\"ANS\",\"ANS\",\"CRO\",\"CRO\",\"CRO\",\"CRO\",\"FNS\",\"FNS\",\"FNS\",\"FNS\",\"HWS\",\"ISE\",\"ISE\",\"ISE\",\"ONL\",\"ONL\",\"ONL\",\"HNT\",\"ANT\",\"ANT\",\"FNC\",\"FNC\",\"FNC\",\"ASR\",\"ASR\",\"ASR\",\"CRO\",\"FNS\",\"FNS\",\"ISE\",\"ONL\",\"ANT\",\"FNC\",\"FNC\",\"ASR\",\"ASR\",\"ASR\",\"ASR\",\"ASR\",\"ASR\",\"ASR\",\"ASR\",\"ASR\",\"ASR\",\"ASR\",\"ASR\",\"ANS\",\"ANS\",\"CRO\",\"CRO\",\"CRO\",\"FNS\",\"FNS\",\"FNS\",\"FNS\",\"FNS\",\"FNS\",\"FNS\",\"HWS\",\"HWS\",\"HWS\",\"HWS\",\"HWS\",\"HWS\",\"ISE\",\"ISE\",\"ISE\",\"ONL\",\"ONL\",\"ONL\",\"HNT\",\"ANT\",\"ANT\",\"ANT\",\"ANT\",\"ANT\",\"ANT\",\"FNC\",\"FNC\",\"FNC\",\"FNC\",\"FNC\",\"FNC\",\"ASR\",\"ASR\",\"ASR\",\"ASR\",\"ASR\",\"ISE\",\"FNC\",\"ASR\",\"ASR\",\"ASR\",\"ASR\",\"ASR\",\"ASR\",\"ASR\",\"ANS\",\"ANS\",\"ANS\",\"CRO\",\"FNS\",\"FNS\",\"FNS\",\"HWS\",\"HWS\",\"HWS\",\"ISE\",\"ONL\",\"ONL\",\"ONL\",\"STA\",\"HNT\",\"HNT\",\"ANT\",\"FNC\",\"FNC\",\"FNC\",\"FNC\",\"FNC\",\"ASR\",\"ASR\",\"ASR\",\"ASR\",\"CRO\",\"STA\",\"FNC\",\"ASR\",\"ANS\",\"ANS\",\"ANT\",\"FNC\",\"ASR\",\"ASR\",\"ASR\",\"ASR\",\"ASR\",\"ASR\",\"ASR\",\"ASR\",\"ASR\",\"ASR\",\"ASR\",\"ASR\",\"ASR\",\"ANS\",\"CRO\",\"CRO\",\"FNS\",\"FNS\",\"HWS\",\"HWS\",\"ISE\",\"ISE\",\"ONL\",\"ONL\",\"STA\",\"HNT\",\"ANT\",\"FNC\",\"FNC\",\"FNC\",\"FNC\",\"FNC\",\"FNC\",\"FNC\",\"ASR\",\"ASR\",\"ASR\",\"ANS\",\"HWS\",\"ONL\",\"HNT\",\"HNT\",\"FNC\",\"STA\",\"ASR\",\"ASR\",\"ASR\",\"ASR\",\"ASR\",\"ASR\",\"CRO\",\"CRO\",\"CRO\",\"HWS\",\"HWS\",\"HWS\",\"HWS\",\"HWS\",\"ISE\",\"ISE\",\"ISE\",\"ISE\",\"ONL\",\"ONL\",\"ONL\",\"ONL\",\"HNT\",\"HNT\",\"HNT\",\"ANT\",\"ANT\",\"FNC\",\"FNC\",\"FNC\",\"FNC\",\"FNC\",\"FNC\",\"FNC\",\"FNC\",\"FNC\",\"ASR\",\"CRO\",\"FNS\",\"ISE\",\"FNC\",\"FNC\",\"STA\"],\"xaxis\":\"x\",\"yaxis\":\"y\",\"type\":\"histogram\"}],                        {\"template\":{\"data\":{\"histogram2dcontour\":[{\"type\":\"histogram2dcontour\",\"colorbar\":{\"outlinewidth\":0,\"ticks\":\"\"},\"colorscale\":[[0.0,\"#0d0887\"],[0.1111111111111111,\"#46039f\"],[0.2222222222222222,\"#7201a8\"],[0.3333333333333333,\"#9c179e\"],[0.4444444444444444,\"#bd3786\"],[0.5555555555555556,\"#d8576b\"],[0.6666666666666666,\"#ed7953\"],[0.7777777777777778,\"#fb9f3a\"],[0.8888888888888888,\"#fdca26\"],[1.0,\"#f0f921\"]]}],\"choropleth\":[{\"type\":\"choropleth\",\"colorbar\":{\"outlinewidth\":0,\"ticks\":\"\"}}],\"histogram2d\":[{\"type\":\"histogram2d\",\"colorbar\":{\"outlinewidth\":0,\"ticks\":\"\"},\"colorscale\":[[0.0,\"#0d0887\"],[0.1111111111111111,\"#46039f\"],[0.2222222222222222,\"#7201a8\"],[0.3333333333333333,\"#9c179e\"],[0.4444444444444444,\"#bd3786\"],[0.5555555555555556,\"#d8576b\"],[0.6666666666666666,\"#ed7953\"],[0.7777777777777778,\"#fb9f3a\"],[0.8888888888888888,\"#fdca26\"],[1.0,\"#f0f921\"]]}],\"heatmap\":[{\"type\":\"heatmap\",\"colorbar\":{\"outlinewidth\":0,\"ticks\":\"\"},\"colorscale\":[[0.0,\"#0d0887\"],[0.1111111111111111,\"#46039f\"],[0.2222222222222222,\"#7201a8\"],[0.3333333333333333,\"#9c179e\"],[0.4444444444444444,\"#bd3786\"],[0.5555555555555556,\"#d8576b\"],[0.6666666666666666,\"#ed7953\"],[0.7777777777777778,\"#fb9f3a\"],[0.8888888888888888,\"#fdca26\"],[1.0,\"#f0f921\"]]}],\"heatmapgl\":[{\"type\":\"heatmapgl\",\"colorbar\":{\"outlinewidth\":0,\"ticks\":\"\"},\"colorscale\":[[0.0,\"#0d0887\"],[0.1111111111111111,\"#46039f\"],[0.2222222222222222,\"#7201a8\"],[0.3333333333333333,\"#9c179e\"],[0.4444444444444444,\"#bd3786\"],[0.5555555555555556,\"#d8576b\"],[0.6666666666666666,\"#ed7953\"],[0.7777777777777778,\"#fb9f3a\"],[0.8888888888888888,\"#fdca26\"],[1.0,\"#f0f921\"]]}],\"contourcarpet\":[{\"type\":\"contourcarpet\",\"colorbar\":{\"outlinewidth\":0,\"ticks\":\"\"}}],\"contour\":[{\"type\":\"contour\",\"colorbar\":{\"outlinewidth\":0,\"ticks\":\"\"},\"colorscale\":[[0.0,\"#0d0887\"],[0.1111111111111111,\"#46039f\"],[0.2222222222222222,\"#7201a8\"],[0.3333333333333333,\"#9c179e\"],[0.4444444444444444,\"#bd3786\"],[0.5555555555555556,\"#d8576b\"],[0.6666666666666666,\"#ed7953\"],[0.7777777777777778,\"#fb9f3a\"],[0.8888888888888888,\"#fdca26\"],[1.0,\"#f0f921\"]]}],\"surface\":[{\"type\":\"surface\",\"colorbar\":{\"outlinewidth\":0,\"ticks\":\"\"},\"colorscale\":[[0.0,\"#0d0887\"],[0.1111111111111111,\"#46039f\"],[0.2222222222222222,\"#7201a8\"],[0.3333333333333333,\"#9c179e\"],[0.4444444444444444,\"#bd3786\"],[0.5555555555555556,\"#d8576b\"],[0.6666666666666666,\"#ed7953\"],[0.7777777777777778,\"#fb9f3a\"],[0.8888888888888888,\"#fdca26\"],[1.0,\"#f0f921\"]]}],\"mesh3d\":[{\"type\":\"mesh3d\",\"colorbar\":{\"outlinewidth\":0,\"ticks\":\"\"}}],\"scatter\":[{\"fillpattern\":{\"fillmode\":\"overlay\",\"size\":10,\"solidity\":0.2},\"type\":\"scatter\"}],\"parcoords\":[{\"type\":\"parcoords\",\"line\":{\"colorbar\":{\"outlinewidth\":0,\"ticks\":\"\"}}}],\"scatterpolargl\":[{\"type\":\"scatterpolargl\",\"marker\":{\"colorbar\":{\"outlinewidth\":0,\"ticks\":\"\"}}}],\"bar\":[{\"error_x\":{\"color\":\"#2a3f5f\"},\"error_y\":{\"color\":\"#2a3f5f\"},\"marker\":{\"line\":{\"color\":\"#E5ECF6\",\"width\":0.5},\"pattern\":{\"fillmode\":\"overlay\",\"size\":10,\"solidity\":0.2}},\"type\":\"bar\"}],\"scattergeo\":[{\"type\":\"scattergeo\",\"marker\":{\"colorbar\":{\"outlinewidth\":0,\"ticks\":\"\"}}}],\"scatterpolar\":[{\"type\":\"scatterpolar\",\"marker\":{\"colorbar\":{\"outlinewidth\":0,\"ticks\":\"\"}}}],\"histogram\":[{\"marker\":{\"pattern\":{\"fillmode\":\"overlay\",\"size\":10,\"solidity\":0.2}},\"type\":\"histogram\"}],\"scattergl\":[{\"type\":\"scattergl\",\"marker\":{\"colorbar\":{\"outlinewidth\":0,\"ticks\":\"\"}}}],\"scatter3d\":[{\"type\":\"scatter3d\",\"line\":{\"colorbar\":{\"outlinewidth\":0,\"ticks\":\"\"}},\"marker\":{\"colorbar\":{\"outlinewidth\":0,\"ticks\":\"\"}}}],\"scattermapbox\":[{\"type\":\"scattermapbox\",\"marker\":{\"colorbar\":{\"outlinewidth\":0,\"ticks\":\"\"}}}],\"scatterternary\":[{\"type\":\"scatterternary\",\"marker\":{\"colorbar\":{\"outlinewidth\":0,\"ticks\":\"\"}}}],\"scattercarpet\":[{\"type\":\"scattercarpet\",\"marker\":{\"colorbar\":{\"outlinewidth\":0,\"ticks\":\"\"}}}],\"carpet\":[{\"aaxis\":{\"endlinecolor\":\"#2a3f5f\",\"gridcolor\":\"white\",\"linecolor\":\"white\",\"minorgridcolor\":\"white\",\"startlinecolor\":\"#2a3f5f\"},\"baxis\":{\"endlinecolor\":\"#2a3f5f\",\"gridcolor\":\"white\",\"linecolor\":\"white\",\"minorgridcolor\":\"white\",\"startlinecolor\":\"#2a3f5f\"},\"type\":\"carpet\"}],\"table\":[{\"cells\":{\"fill\":{\"color\":\"#EBF0F8\"},\"line\":{\"color\":\"white\"}},\"header\":{\"fill\":{\"color\":\"#C8D4E3\"},\"line\":{\"color\":\"white\"}},\"type\":\"table\"}],\"barpolar\":[{\"marker\":{\"line\":{\"color\":\"#E5ECF6\",\"width\":0.5},\"pattern\":{\"fillmode\":\"overlay\",\"size\":10,\"solidity\":0.2}},\"type\":\"barpolar\"}],\"pie\":[{\"automargin\":true,\"type\":\"pie\"}]},\"layout\":{\"autotypenumbers\":\"strict\",\"colorway\":[\"#636efa\",\"#EF553B\",\"#00cc96\",\"#ab63fa\",\"#FFA15A\",\"#19d3f3\",\"#FF6692\",\"#B6E880\",\"#FF97FF\",\"#FECB52\"],\"font\":{\"color\":\"#2a3f5f\"},\"hovermode\":\"closest\",\"hoverlabel\":{\"align\":\"left\"},\"paper_bgcolor\":\"white\",\"plot_bgcolor\":\"#E5ECF6\",\"polar\":{\"bgcolor\":\"#E5ECF6\",\"angularaxis\":{\"gridcolor\":\"white\",\"linecolor\":\"white\",\"ticks\":\"\"},\"radialaxis\":{\"gridcolor\":\"white\",\"linecolor\":\"white\",\"ticks\":\"\"}},\"ternary\":{\"bgcolor\":\"#E5ECF6\",\"aaxis\":{\"gridcolor\":\"white\",\"linecolor\":\"white\",\"ticks\":\"\"},\"baxis\":{\"gridcolor\":\"white\",\"linecolor\":\"white\",\"ticks\":\"\"},\"caxis\":{\"gridcolor\":\"white\",\"linecolor\":\"white\",\"ticks\":\"\"}},\"coloraxis\":{\"colorbar\":{\"outlinewidth\":0,\"ticks\":\"\"}},\"colorscale\":{\"sequential\":[[0.0,\"#0d0887\"],[0.1111111111111111,\"#46039f\"],[0.2222222222222222,\"#7201a8\"],[0.3333333333333333,\"#9c179e\"],[0.4444444444444444,\"#bd3786\"],[0.5555555555555556,\"#d8576b\"],[0.6666666666666666,\"#ed7953\"],[0.7777777777777778,\"#fb9f3a\"],[0.8888888888888888,\"#fdca26\"],[1.0,\"#f0f921\"]],\"sequentialminus\":[[0.0,\"#0d0887\"],[0.1111111111111111,\"#46039f\"],[0.2222222222222222,\"#7201a8\"],[0.3333333333333333,\"#9c179e\"],[0.4444444444444444,\"#bd3786\"],[0.5555555555555556,\"#d8576b\"],[0.6666666666666666,\"#ed7953\"],[0.7777777777777778,\"#fb9f3a\"],[0.8888888888888888,\"#fdca26\"],[1.0,\"#f0f921\"]],\"diverging\":[[0,\"#8e0152\"],[0.1,\"#c51b7d\"],[0.2,\"#de77ae\"],[0.3,\"#f1b6da\"],[0.4,\"#fde0ef\"],[0.5,\"#f7f7f7\"],[0.6,\"#e6f5d0\"],[0.7,\"#b8e186\"],[0.8,\"#7fbc41\"],[0.9,\"#4d9221\"],[1,\"#276419\"]]},\"xaxis\":{\"gridcolor\":\"white\",\"linecolor\":\"white\",\"ticks\":\"\",\"title\":{\"standoff\":15},\"zerolinecolor\":\"white\",\"automargin\":true,\"zerolinewidth\":2},\"yaxis\":{\"gridcolor\":\"white\",\"linecolor\":\"white\",\"ticks\":\"\",\"title\":{\"standoff\":15},\"zerolinecolor\":\"white\",\"automargin\":true,\"zerolinewidth\":2},\"scene\":{\"xaxis\":{\"backgroundcolor\":\"#E5ECF6\",\"gridcolor\":\"white\",\"linecolor\":\"white\",\"showbackground\":true,\"ticks\":\"\",\"zerolinecolor\":\"white\",\"gridwidth\":2},\"yaxis\":{\"backgroundcolor\":\"#E5ECF6\",\"gridcolor\":\"white\",\"linecolor\":\"white\",\"showbackground\":true,\"ticks\":\"\",\"zerolinecolor\":\"white\",\"gridwidth\":2},\"zaxis\":{\"backgroundcolor\":\"#E5ECF6\",\"gridcolor\":\"white\",\"linecolor\":\"white\",\"showbackground\":true,\"ticks\":\"\",\"zerolinecolor\":\"white\",\"gridwidth\":2}},\"shapedefaults\":{\"line\":{\"color\":\"#2a3f5f\"}},\"annotationdefaults\":{\"arrowcolor\":\"#2a3f5f\",\"arrowhead\":0,\"arrowwidth\":1},\"geo\":{\"bgcolor\":\"white\",\"landcolor\":\"#E5ECF6\",\"subunitcolor\":\"white\",\"showland\":true,\"showlakes\":true,\"lakecolor\":\"white\"},\"title\":{\"x\":0.05},\"mapbox\":{\"style\":\"light\"}}},\"xaxis\":{\"anchor\":\"y\",\"domain\":[0.0,1.0],\"title\":{\"text\":\"Type of Complaint\"}},\"yaxis\":{\"anchor\":\"x\",\"domain\":[0.0,1.0],\"title\":{\"text\":\"count\"}},\"legend\":{\"title\":{\"text\":\"Status\"},\"tracegroupgap\":0},\"margin\":{\"t\":60},\"barmode\":\"group\",\"bargap\":0.2,\"title\":{\"font\":{\"size\":20},\"text\":\"Relationship between Type of Complaint and Status\",\"x\":0.5}},                        {\"responsive\": true}                    ).then(function(){\n",
              "                            \n",
              "var gd = document.getElementById('153b047b-0c0e-4efc-9e32-43d29cf12409');\n",
              "var x = new MutationObserver(function (mutations, observer) {{\n",
              "        var display = window.getComputedStyle(gd).display;\n",
              "        if (!display || display === 'none') {{\n",
              "            console.log([gd, 'removed!']);\n",
              "            Plotly.purge(gd);\n",
              "            observer.disconnect();\n",
              "        }}\n",
              "}});\n",
              "\n",
              "// Listen for the removal of the full notebook cells\n",
              "var notebookContainer = gd.closest('#notebook-container');\n",
              "if (notebookContainer) {{\n",
              "    x.observe(notebookContainer, {childList: true});\n",
              "}}\n",
              "\n",
              "// Listen for the clearing of the current output cell\n",
              "var outputEl = gd.closest('.output');\n",
              "if (outputEl) {{\n",
              "    x.observe(outputEl, {childList: true});\n",
              "}}\n",
              "\n",
              "                        })                };                            </script>        </div>\n",
              "</body>\n",
              "</html>"
            ]
          },
          "metadata": {}
        }
      ]
    },
    {
      "cell_type": "markdown",
      "source": [
        "Looking at the status, we can see that ASR and FNC are still processing, meaning the campus is relatively slow in solving the problems"
      ],
      "metadata": {
        "id": "6sqtY3ZEQK-t"
      }
    },
    {
      "cell_type": "markdown",
      "source": [
        "From the data, we can get that the complaints are mostly coming from 1st and 2nd year student, in which most of them are complaining about academic and financial services in campus. It means that they are struggling to grasp all the administration flow"
      ],
      "metadata": {
        "id": "z-9TdzoLTbds"
      }
    },
    {
      "cell_type": "code",
      "source": [
        "data.info()"
      ],
      "metadata": {
        "colab": {
          "base_uri": "https://localhost:8080/"
        },
        "id": "mWOIppbfQog6",
        "outputId": "08d825e6-bc41-4e2c-80cf-882951e32fb0"
      },
      "execution_count": null,
      "outputs": [
        {
          "output_type": "stream",
          "name": "stdout",
          "text": [
            "<class 'pandas.core.frame.DataFrame'>\n",
            "Int64Index: 987 entries, 18 to 1008\n",
            "Data columns (total 10 columns):\n",
            " #   Column               Non-Null Count  Dtype  \n",
            "---  ------               --------------  -----  \n",
            " 0   status               987 non-null    object \n",
            " 1   complaint_ID         987 non-null    object \n",
            " 2   type_complaint_code  987 non-null    object \n",
            " 3   reports              987 non-null    object \n",
            " 4   age                  987 non-null    int64  \n",
            " 5   gpa                  987 non-null    float64\n",
            " 6   year                 987 non-null    int64  \n",
            " 7   count                987 non-null    object \n",
            " 8   gender               987 non-null    object \n",
            " 9   type_complaint       987 non-null    object \n",
            "dtypes: float64(1), int64(2), object(7)\n",
            "memory usage: 84.8+ KB\n"
          ]
        }
      ]
    },
    {
      "cell_type": "code",
      "source": [
        "data['reports'] = data['reports'].str.lower()\n",
        "data['reports'].head()"
      ],
      "metadata": {
        "colab": {
          "base_uri": "https://localhost:8080/"
        },
        "id": "W18p3iaMQyVe",
        "outputId": "13d8071a-3c9f-4822-edb0-857813d96d57"
      },
      "execution_count": null,
      "outputs": [
        {
          "output_type": "execute_result",
          "data": {
            "text/plain": [
              "18    -i-am-really-struggling-with-understanding-the...\n",
              "19    the limited access to research databases and m...\n",
              "20    limited access to academic advisors is causing...\n",
              "21    i have been finding it difficult to balance my...\n",
              "22    the athletic eligibility requirements are too ...\n",
              "Name: reports, dtype: object"
            ]
          },
          "metadata": {},
          "execution_count": 58
        }
      ]
    },
    {
      "cell_type": "markdown",
      "source": [
        "Eventhough it is not as advance as NLP, seeing frequent words can help in deducting the roots problems, especially if we already know that most of the complaints are coming from 1st and 2nd year students with the type of ASR and FNC. By this knowledge, we can connect the frequent words with the root problems"
      ],
      "metadata": {
        "id": "RzPOKpXqUcRP"
      }
    },
    {
      "cell_type": "code",
      "source": [
        "freq_df = data['reports'].str.split(expand=True).stack().value_counts()\n",
        "freq_df = freq_df[:200]\n",
        "\n",
        "fig = px.treemap(freq_df, path=[freq_df.index], values=0)\n",
        "fig.update_layout(title_text='Top Frequent 200 Words in the Dataset',\n",
        "                  title_x=0.5, title_font=dict(size=20)\n",
        "                  )\n",
        "fig.update_traces(textinfo=\"label+value\")\n",
        "fig.show()"
      ],
      "metadata": {
        "colab": {
          "base_uri": "https://localhost:8080/",
          "height": 542
        },
        "id": "Rs-koqPCQrqK",
        "outputId": "17b2b6d1-1414-4c43-dfc5-f4a394abe725"
      },
      "execution_count": null,
      "outputs": [
        {
          "output_type": "display_data",
          "data": {
            "text/html": [
              "<html>\n",
              "<head><meta charset=\"utf-8\" /></head>\n",
              "<body>\n",
              "    <div>            <script src=\"https://cdnjs.cloudflare.com/ajax/libs/mathjax/2.7.5/MathJax.js?config=TeX-AMS-MML_SVG\"></script><script type=\"text/javascript\">if (window.MathJax && window.MathJax.Hub && window.MathJax.Hub.Config) {window.MathJax.Hub.Config({SVG: {font: \"STIX-Web\"}});}</script>                <script type=\"text/javascript\">window.PlotlyConfig = {MathJaxConfig: 'local'};</script>\n",
              "        <script src=\"https://cdn.plot.ly/plotly-2.18.2.min.js\"></script>                <div id=\"ef5b6c4d-cb2c-4d5c-98a3-a6aaa1774e61\" class=\"plotly-graph-div\" style=\"height:525px; width:100%;\"></div>            <script type=\"text/javascript\">                                    window.PLOTLYENV=window.PLOTLYENV || {};                                    if (document.getElementById(\"ef5b6c4d-cb2c-4d5c-98a3-a6aaa1774e61\")) {                    Plotly.newPlot(                        \"ef5b6c4d-cb2c-4d5c-98a3-a6aaa1774e61\",                        [{\"branchvalues\":\"total\",\"domain\":{\"x\":[0.0,1.0],\"y\":[0.0,1.0]},\"hovertemplate\":\"labels=%{label}<br>0=%{value}<br>parent=%{parent}<br>id=%{id}<extra></extra>\",\"ids\":[\"\\\"i\",\"\\\"i'm\",\"\\\"i've\",\"\\\"the\",\"a\",\"ability\",\"able\",\"about\",\"academic\",\"access\",\"accessing\",\"affairs\",\"affecting\",\"afford\",\"affordable\",\"aid\",\"all\",\"always\",\"am\",\"an\",\"and\",\"are\",\"as\",\"assignments\",\"at\",\"athletic\",\"availability\",\"available\",\"balance\",\"balancing\",\"be\",\"because\",\"been\",\"being\",\"but\",\"by\",\"cafeteria\",\"campus\",\"campus.\",\"can\",\"can't\",\"cantine\",\"care\",\"career\",\"causing\",\"challenging\",\"classes\",\"complete\",\"conflicts\",\"connect\",\"constantly\",\"cost\",\"could\",\"course\",\"coursework.\",\"cultural\",\"databases\",\"different\",\"difficult\",\"difficulty\",\"dining\",\"do\",\"don't\",\"due\",\"during\",\"enough\",\"especially\",\"even\",\"feel\",\"feeling\",\"financial\",\"find\",\"finding\",\"focus\",\"food\",\"for\",\"from\",\"frustrating\",\"get\",\"getting\",\"going\",\"great\",\"had\",\"hard\",\"has\",\"have\",\"having\",\"health\",\"help\",\"housing\",\"how\",\"i\",\"i'm\",\"i've\",\"if\",\"important\",\"in\",\"international\",\"internships\",\"is\",\"it\",\"it's\",\"job\",\"just\",\"keep\",\"lack\",\"language\",\"learn\",\"like\",\"limited\",\"lot\",\"made\",\"major\",\"make\",\"makes\",\"making\",\"material\",\"materials\",\"me\",\"medical\",\"mental\",\"more\",\"much\",\"my\",\"need\",\"needs\",\"new\",\"not\",\"of\",\"offer\",\"offered\",\"office\",\"often\",\"on\",\"online\",\"opportunities\",\"options\",\"options.\\\"\",\"or\",\"other\",\"our\",\"out\",\"pay\",\"prioritize\",\"programs\",\"provide\",\"quality\",\"really\",\"research\",\"resources\",\"responsibilities\",\"same\",\"should\",\"skills\",\"so\",\"software\",\"some\",\"sometimes\",\"sports\",\"stay\",\"still\",\"stress\",\"struggle\",\"struggling\",\"student\",\"students\",\"students,\",\"students.\",\"study\",\"support\",\"take\",\"technology\",\"than\",\"that\",\"the\",\"their\",\"there\",\"they\",\"this\",\"time\",\"to\",\"too\",\"transportation\",\"trying\",\"university\",\"up\",\"very\",\"was\",\"way\",\"we\",\"were\",\"when\",\"which\",\"who\",\"wish\",\"with\",\"work\",\"workload\",\"worried\",\"would\"],\"labels\":[\"\\\"i\",\"\\\"i'm\",\"\\\"i've\",\"\\\"the\",\"a\",\"ability\",\"able\",\"about\",\"academic\",\"access\",\"accessing\",\"affairs\",\"affecting\",\"afford\",\"affordable\",\"aid\",\"all\",\"always\",\"am\",\"an\",\"and\",\"are\",\"as\",\"assignments\",\"at\",\"athletic\",\"availability\",\"available\",\"balance\",\"balancing\",\"be\",\"because\",\"been\",\"being\",\"but\",\"by\",\"cafeteria\",\"campus\",\"campus.\",\"can\",\"can't\",\"cantine\",\"care\",\"career\",\"causing\",\"challenging\",\"classes\",\"complete\",\"conflicts\",\"connect\",\"constantly\",\"cost\",\"could\",\"course\",\"coursework.\",\"cultural\",\"databases\",\"different\",\"difficult\",\"difficulty\",\"dining\",\"do\",\"don't\",\"due\",\"during\",\"enough\",\"especially\",\"even\",\"feel\",\"feeling\",\"financial\",\"find\",\"finding\",\"focus\",\"food\",\"for\",\"from\",\"frustrating\",\"get\",\"getting\",\"going\",\"great\",\"had\",\"hard\",\"has\",\"have\",\"having\",\"health\",\"help\",\"housing\",\"how\",\"i\",\"i'm\",\"i've\",\"if\",\"important\",\"in\",\"international\",\"internships\",\"is\",\"it\",\"it's\",\"job\",\"just\",\"keep\",\"lack\",\"language\",\"learn\",\"like\",\"limited\",\"lot\",\"made\",\"major\",\"make\",\"makes\",\"making\",\"material\",\"materials\",\"me\",\"medical\",\"mental\",\"more\",\"much\",\"my\",\"need\",\"needs\",\"new\",\"not\",\"of\",\"offer\",\"offered\",\"office\",\"often\",\"on\",\"online\",\"opportunities\",\"options\",\"options.\\\"\",\"or\",\"other\",\"our\",\"out\",\"pay\",\"prioritize\",\"programs\",\"provide\",\"quality\",\"really\",\"research\",\"resources\",\"responsibilities\",\"same\",\"should\",\"skills\",\"so\",\"software\",\"some\",\"sometimes\",\"sports\",\"stay\",\"still\",\"stress\",\"struggle\",\"struggling\",\"student\",\"students\",\"students,\",\"students.\",\"study\",\"support\",\"take\",\"technology\",\"than\",\"that\",\"the\",\"their\",\"there\",\"they\",\"this\",\"time\",\"to\",\"too\",\"transportation\",\"trying\",\"university\",\"up\",\"very\",\"was\",\"way\",\"we\",\"were\",\"when\",\"which\",\"who\",\"wish\",\"with\",\"work\",\"workload\",\"worried\",\"would\"],\"name\":\"\",\"parents\":[\"\",\"\",\"\",\"\",\"\",\"\",\"\",\"\",\"\",\"\",\"\",\"\",\"\",\"\",\"\",\"\",\"\",\"\",\"\",\"\",\"\",\"\",\"\",\"\",\"\",\"\",\"\",\"\",\"\",\"\",\"\",\"\",\"\",\"\",\"\",\"\",\"\",\"\",\"\",\"\",\"\",\"\",\"\",\"\",\"\",\"\",\"\",\"\",\"\",\"\",\"\",\"\",\"\",\"\",\"\",\"\",\"\",\"\",\"\",\"\",\"\",\"\",\"\",\"\",\"\",\"\",\"\",\"\",\"\",\"\",\"\",\"\",\"\",\"\",\"\",\"\",\"\",\"\",\"\",\"\",\"\",\"\",\"\",\"\",\"\",\"\",\"\",\"\",\"\",\"\",\"\",\"\",\"\",\"\",\"\",\"\",\"\",\"\",\"\",\"\",\"\",\"\",\"\",\"\",\"\",\"\",\"\",\"\",\"\",\"\",\"\",\"\",\"\",\"\",\"\",\"\",\"\",\"\",\"\",\"\",\"\",\"\",\"\",\"\",\"\",\"\",\"\",\"\",\"\",\"\",\"\",\"\",\"\",\"\",\"\",\"\",\"\",\"\",\"\",\"\",\"\",\"\",\"\",\"\",\"\",\"\",\"\",\"\",\"\",\"\",\"\",\"\",\"\",\"\",\"\",\"\",\"\",\"\",\"\",\"\",\"\",\"\",\"\",\"\",\"\",\"\",\"\",\"\",\"\",\"\",\"\",\"\",\"\",\"\",\"\",\"\",\"\",\"\",\"\",\"\",\"\",\"\",\"\",\"\",\"\",\"\",\"\",\"\",\"\",\"\",\"\",\"\",\"\",\"\",\"\",\"\",\"\",\"\",\"\",\"\"],\"values\":[97,15,26,130,288,17,29,57,107,92,15,21,20,30,30,17,38,41,49,29,835,129,47,16,27,25,21,60,24,16,120,47,101,18,83,16,28,67,18,56,27,21,19,22,46,21,57,18,16,18,19,17,17,71,17,25,20,19,81,16,18,28,43,24,21,29,23,22,111,17,35,68,43,18,45,331,62,58,49,18,18,33,39,99,37,143,22,48,37,19,21,392,209,34,27,26,239,42,18,279,230,249,82,27,24,62,26,20,111,104,39,33,18,48,20,50,24,32,100,27,54,217,17,402,49,41,20,111,314,48,16,26,56,166,83,92,75,16,81,47,24,41,29,16,18,29,16,65,26,66,18,19,82,16,52,17,23,17,33,27,16,33,15,55,61,141,17,35,15,48,26,22,19,132,791,33,104,19,49,78,1029,32,21,25,128,33,18,20,20,43,74,50,27,53,83,220,43,18,25,45],\"type\":\"treemap\",\"textinfo\":\"label+value\"}],                        {\"template\":{\"data\":{\"histogram2dcontour\":[{\"type\":\"histogram2dcontour\",\"colorbar\":{\"outlinewidth\":0,\"ticks\":\"\"},\"colorscale\":[[0.0,\"#0d0887\"],[0.1111111111111111,\"#46039f\"],[0.2222222222222222,\"#7201a8\"],[0.3333333333333333,\"#9c179e\"],[0.4444444444444444,\"#bd3786\"],[0.5555555555555556,\"#d8576b\"],[0.6666666666666666,\"#ed7953\"],[0.7777777777777778,\"#fb9f3a\"],[0.8888888888888888,\"#fdca26\"],[1.0,\"#f0f921\"]]}],\"choropleth\":[{\"type\":\"choropleth\",\"colorbar\":{\"outlinewidth\":0,\"ticks\":\"\"}}],\"histogram2d\":[{\"type\":\"histogram2d\",\"colorbar\":{\"outlinewidth\":0,\"ticks\":\"\"},\"colorscale\":[[0.0,\"#0d0887\"],[0.1111111111111111,\"#46039f\"],[0.2222222222222222,\"#7201a8\"],[0.3333333333333333,\"#9c179e\"],[0.4444444444444444,\"#bd3786\"],[0.5555555555555556,\"#d8576b\"],[0.6666666666666666,\"#ed7953\"],[0.7777777777777778,\"#fb9f3a\"],[0.8888888888888888,\"#fdca26\"],[1.0,\"#f0f921\"]]}],\"heatmap\":[{\"type\":\"heatmap\",\"colorbar\":{\"outlinewidth\":0,\"ticks\":\"\"},\"colorscale\":[[0.0,\"#0d0887\"],[0.1111111111111111,\"#46039f\"],[0.2222222222222222,\"#7201a8\"],[0.3333333333333333,\"#9c179e\"],[0.4444444444444444,\"#bd3786\"],[0.5555555555555556,\"#d8576b\"],[0.6666666666666666,\"#ed7953\"],[0.7777777777777778,\"#fb9f3a\"],[0.8888888888888888,\"#fdca26\"],[1.0,\"#f0f921\"]]}],\"heatmapgl\":[{\"type\":\"heatmapgl\",\"colorbar\":{\"outlinewidth\":0,\"ticks\":\"\"},\"colorscale\":[[0.0,\"#0d0887\"],[0.1111111111111111,\"#46039f\"],[0.2222222222222222,\"#7201a8\"],[0.3333333333333333,\"#9c179e\"],[0.4444444444444444,\"#bd3786\"],[0.5555555555555556,\"#d8576b\"],[0.6666666666666666,\"#ed7953\"],[0.7777777777777778,\"#fb9f3a\"],[0.8888888888888888,\"#fdca26\"],[1.0,\"#f0f921\"]]}],\"contourcarpet\":[{\"type\":\"contourcarpet\",\"colorbar\":{\"outlinewidth\":0,\"ticks\":\"\"}}],\"contour\":[{\"type\":\"contour\",\"colorbar\":{\"outlinewidth\":0,\"ticks\":\"\"},\"colorscale\":[[0.0,\"#0d0887\"],[0.1111111111111111,\"#46039f\"],[0.2222222222222222,\"#7201a8\"],[0.3333333333333333,\"#9c179e\"],[0.4444444444444444,\"#bd3786\"],[0.5555555555555556,\"#d8576b\"],[0.6666666666666666,\"#ed7953\"],[0.7777777777777778,\"#fb9f3a\"],[0.8888888888888888,\"#fdca26\"],[1.0,\"#f0f921\"]]}],\"surface\":[{\"type\":\"surface\",\"colorbar\":{\"outlinewidth\":0,\"ticks\":\"\"},\"colorscale\":[[0.0,\"#0d0887\"],[0.1111111111111111,\"#46039f\"],[0.2222222222222222,\"#7201a8\"],[0.3333333333333333,\"#9c179e\"],[0.4444444444444444,\"#bd3786\"],[0.5555555555555556,\"#d8576b\"],[0.6666666666666666,\"#ed7953\"],[0.7777777777777778,\"#fb9f3a\"],[0.8888888888888888,\"#fdca26\"],[1.0,\"#f0f921\"]]}],\"mesh3d\":[{\"type\":\"mesh3d\",\"colorbar\":{\"outlinewidth\":0,\"ticks\":\"\"}}],\"scatter\":[{\"fillpattern\":{\"fillmode\":\"overlay\",\"size\":10,\"solidity\":0.2},\"type\":\"scatter\"}],\"parcoords\":[{\"type\":\"parcoords\",\"line\":{\"colorbar\":{\"outlinewidth\":0,\"ticks\":\"\"}}}],\"scatterpolargl\":[{\"type\":\"scatterpolargl\",\"marker\":{\"colorbar\":{\"outlinewidth\":0,\"ticks\":\"\"}}}],\"bar\":[{\"error_x\":{\"color\":\"#2a3f5f\"},\"error_y\":{\"color\":\"#2a3f5f\"},\"marker\":{\"line\":{\"color\":\"#E5ECF6\",\"width\":0.5},\"pattern\":{\"fillmode\":\"overlay\",\"size\":10,\"solidity\":0.2}},\"type\":\"bar\"}],\"scattergeo\":[{\"type\":\"scattergeo\",\"marker\":{\"colorbar\":{\"outlinewidth\":0,\"ticks\":\"\"}}}],\"scatterpolar\":[{\"type\":\"scatterpolar\",\"marker\":{\"colorbar\":{\"outlinewidth\":0,\"ticks\":\"\"}}}],\"histogram\":[{\"marker\":{\"pattern\":{\"fillmode\":\"overlay\",\"size\":10,\"solidity\":0.2}},\"type\":\"histogram\"}],\"scattergl\":[{\"type\":\"scattergl\",\"marker\":{\"colorbar\":{\"outlinewidth\":0,\"ticks\":\"\"}}}],\"scatter3d\":[{\"type\":\"scatter3d\",\"line\":{\"colorbar\":{\"outlinewidth\":0,\"ticks\":\"\"}},\"marker\":{\"colorbar\":{\"outlinewidth\":0,\"ticks\":\"\"}}}],\"scattermapbox\":[{\"type\":\"scattermapbox\",\"marker\":{\"colorbar\":{\"outlinewidth\":0,\"ticks\":\"\"}}}],\"scatterternary\":[{\"type\":\"scatterternary\",\"marker\":{\"colorbar\":{\"outlinewidth\":0,\"ticks\":\"\"}}}],\"scattercarpet\":[{\"type\":\"scattercarpet\",\"marker\":{\"colorbar\":{\"outlinewidth\":0,\"ticks\":\"\"}}}],\"carpet\":[{\"aaxis\":{\"endlinecolor\":\"#2a3f5f\",\"gridcolor\":\"white\",\"linecolor\":\"white\",\"minorgridcolor\":\"white\",\"startlinecolor\":\"#2a3f5f\"},\"baxis\":{\"endlinecolor\":\"#2a3f5f\",\"gridcolor\":\"white\",\"linecolor\":\"white\",\"minorgridcolor\":\"white\",\"startlinecolor\":\"#2a3f5f\"},\"type\":\"carpet\"}],\"table\":[{\"cells\":{\"fill\":{\"color\":\"#EBF0F8\"},\"line\":{\"color\":\"white\"}},\"header\":{\"fill\":{\"color\":\"#C8D4E3\"},\"line\":{\"color\":\"white\"}},\"type\":\"table\"}],\"barpolar\":[{\"marker\":{\"line\":{\"color\":\"#E5ECF6\",\"width\":0.5},\"pattern\":{\"fillmode\":\"overlay\",\"size\":10,\"solidity\":0.2}},\"type\":\"barpolar\"}],\"pie\":[{\"automargin\":true,\"type\":\"pie\"}]},\"layout\":{\"autotypenumbers\":\"strict\",\"colorway\":[\"#636efa\",\"#EF553B\",\"#00cc96\",\"#ab63fa\",\"#FFA15A\",\"#19d3f3\",\"#FF6692\",\"#B6E880\",\"#FF97FF\",\"#FECB52\"],\"font\":{\"color\":\"#2a3f5f\"},\"hovermode\":\"closest\",\"hoverlabel\":{\"align\":\"left\"},\"paper_bgcolor\":\"white\",\"plot_bgcolor\":\"#E5ECF6\",\"polar\":{\"bgcolor\":\"#E5ECF6\",\"angularaxis\":{\"gridcolor\":\"white\",\"linecolor\":\"white\",\"ticks\":\"\"},\"radialaxis\":{\"gridcolor\":\"white\",\"linecolor\":\"white\",\"ticks\":\"\"}},\"ternary\":{\"bgcolor\":\"#E5ECF6\",\"aaxis\":{\"gridcolor\":\"white\",\"linecolor\":\"white\",\"ticks\":\"\"},\"baxis\":{\"gridcolor\":\"white\",\"linecolor\":\"white\",\"ticks\":\"\"},\"caxis\":{\"gridcolor\":\"white\",\"linecolor\":\"white\",\"ticks\":\"\"}},\"coloraxis\":{\"colorbar\":{\"outlinewidth\":0,\"ticks\":\"\"}},\"colorscale\":{\"sequential\":[[0.0,\"#0d0887\"],[0.1111111111111111,\"#46039f\"],[0.2222222222222222,\"#7201a8\"],[0.3333333333333333,\"#9c179e\"],[0.4444444444444444,\"#bd3786\"],[0.5555555555555556,\"#d8576b\"],[0.6666666666666666,\"#ed7953\"],[0.7777777777777778,\"#fb9f3a\"],[0.8888888888888888,\"#fdca26\"],[1.0,\"#f0f921\"]],\"sequentialminus\":[[0.0,\"#0d0887\"],[0.1111111111111111,\"#46039f\"],[0.2222222222222222,\"#7201a8\"],[0.3333333333333333,\"#9c179e\"],[0.4444444444444444,\"#bd3786\"],[0.5555555555555556,\"#d8576b\"],[0.6666666666666666,\"#ed7953\"],[0.7777777777777778,\"#fb9f3a\"],[0.8888888888888888,\"#fdca26\"],[1.0,\"#f0f921\"]],\"diverging\":[[0,\"#8e0152\"],[0.1,\"#c51b7d\"],[0.2,\"#de77ae\"],[0.3,\"#f1b6da\"],[0.4,\"#fde0ef\"],[0.5,\"#f7f7f7\"],[0.6,\"#e6f5d0\"],[0.7,\"#b8e186\"],[0.8,\"#7fbc41\"],[0.9,\"#4d9221\"],[1,\"#276419\"]]},\"xaxis\":{\"gridcolor\":\"white\",\"linecolor\":\"white\",\"ticks\":\"\",\"title\":{\"standoff\":15},\"zerolinecolor\":\"white\",\"automargin\":true,\"zerolinewidth\":2},\"yaxis\":{\"gridcolor\":\"white\",\"linecolor\":\"white\",\"ticks\":\"\",\"title\":{\"standoff\":15},\"zerolinecolor\":\"white\",\"automargin\":true,\"zerolinewidth\":2},\"scene\":{\"xaxis\":{\"backgroundcolor\":\"#E5ECF6\",\"gridcolor\":\"white\",\"linecolor\":\"white\",\"showbackground\":true,\"ticks\":\"\",\"zerolinecolor\":\"white\",\"gridwidth\":2},\"yaxis\":{\"backgroundcolor\":\"#E5ECF6\",\"gridcolor\":\"white\",\"linecolor\":\"white\",\"showbackground\":true,\"ticks\":\"\",\"zerolinecolor\":\"white\",\"gridwidth\":2},\"zaxis\":{\"backgroundcolor\":\"#E5ECF6\",\"gridcolor\":\"white\",\"linecolor\":\"white\",\"showbackground\":true,\"ticks\":\"\",\"zerolinecolor\":\"white\",\"gridwidth\":2}},\"shapedefaults\":{\"line\":{\"color\":\"#2a3f5f\"}},\"annotationdefaults\":{\"arrowcolor\":\"#2a3f5f\",\"arrowhead\":0,\"arrowwidth\":1},\"geo\":{\"bgcolor\":\"white\",\"landcolor\":\"#E5ECF6\",\"subunitcolor\":\"white\",\"showland\":true,\"showlakes\":true,\"lakecolor\":\"white\"},\"title\":{\"x\":0.05},\"mapbox\":{\"style\":\"light\"}}},\"legend\":{\"tracegroupgap\":0},\"margin\":{\"t\":60},\"title\":{\"font\":{\"size\":20},\"text\":\"Top Frequent 200 Words in the Dataset\",\"x\":0.5}},                        {\"responsive\": true}                    ).then(function(){\n",
              "                            \n",
              "var gd = document.getElementById('ef5b6c4d-cb2c-4d5c-98a3-a6aaa1774e61');\n",
              "var x = new MutationObserver(function (mutations, observer) {{\n",
              "        var display = window.getComputedStyle(gd).display;\n",
              "        if (!display || display === 'none') {{\n",
              "            console.log([gd, 'removed!']);\n",
              "            Plotly.purge(gd);\n",
              "            observer.disconnect();\n",
              "        }}\n",
              "}});\n",
              "\n",
              "// Listen for the removal of the full notebook cells\n",
              "var notebookContainer = gd.closest('#notebook-container');\n",
              "if (notebookContainer) {{\n",
              "    x.observe(notebookContainer, {childList: true});\n",
              "}}\n",
              "\n",
              "// Listen for the clearing of the current output cell\n",
              "var outputEl = gd.closest('.output');\n",
              "if (outputEl) {{\n",
              "    x.observe(outputEl, {childList: true});\n",
              "}}\n",
              "\n",
              "                        })                };                            </script>        </div>\n",
              "</body>\n",
              "</html>"
            ]
          },
          "metadata": {}
        }
      ]
    },
    {
      "cell_type": "markdown",
      "source": [
        "some key words: **limited, sources, hard, afford, access, opportunities, classes,resources, academic.** They feel struggling and find it frustating to adapt in campus especially with the current services."
      ],
      "metadata": {
        "id": "X2AIfx3VR1lz"
      }
    },
    {
      "cell_type": "markdown",
      "source": [
        "# Saving files to CSV for data viz"
      ],
      "metadata": {
        "id": "V949cNKmgXf5"
      }
    },
    {
      "cell_type": "code",
      "source": [
        "freq_df = data['reports'].str.split(expand=True).stack().value_counts()\n",
        "\n",
        "file_path = 'data.csv'\n",
        "\n",
        "freq_df.to_csv(file_path, index=False)\n",
        "\n",
        "from google.colab import files\n",
        "\n",
        "# Download the CSV file\n",
        "files.download(file_path)"
      ],
      "metadata": {
        "colab": {
          "base_uri": "https://localhost:8080/",
          "height": 17
        },
        "id": "mfavjtgbgcnO",
        "outputId": "4e34eeac-e02c-4e31-8e08-e548156c2db2"
      },
      "execution_count": null,
      "outputs": [
        {
          "output_type": "display_data",
          "data": {
            "text/plain": [
              "<IPython.core.display.Javascript object>"
            ],
            "application/javascript": [
              "\n",
              "    async function download(id, filename, size) {\n",
              "      if (!google.colab.kernel.accessAllowed) {\n",
              "        return;\n",
              "      }\n",
              "      const div = document.createElement('div');\n",
              "      const label = document.createElement('label');\n",
              "      label.textContent = `Downloading \"${filename}\": `;\n",
              "      div.appendChild(label);\n",
              "      const progress = document.createElement('progress');\n",
              "      progress.max = size;\n",
              "      div.appendChild(progress);\n",
              "      document.body.appendChild(div);\n",
              "\n",
              "      const buffers = [];\n",
              "      let downloaded = 0;\n",
              "\n",
              "      const channel = await google.colab.kernel.comms.open(id);\n",
              "      // Send a message to notify the kernel that we're ready.\n",
              "      channel.send({})\n",
              "\n",
              "      for await (const message of channel.messages) {\n",
              "        // Send a message to notify the kernel that we're ready.\n",
              "        channel.send({})\n",
              "        if (message.buffers) {\n",
              "          for (const buffer of message.buffers) {\n",
              "            buffers.push(buffer);\n",
              "            downloaded += buffer.byteLength;\n",
              "            progress.value = downloaded;\n",
              "          }\n",
              "        }\n",
              "      }\n",
              "      const blob = new Blob(buffers, {type: 'application/binary'});\n",
              "      const a = document.createElement('a');\n",
              "      a.href = window.URL.createObjectURL(blob);\n",
              "      a.download = filename;\n",
              "      div.appendChild(a);\n",
              "      a.click();\n",
              "      div.remove();\n",
              "    }\n",
              "  "
            ]
          },
          "metadata": {}
        },
        {
          "output_type": "display_data",
          "data": {
            "text/plain": [
              "<IPython.core.display.Javascript object>"
            ],
            "application/javascript": [
              "download(\"download_9d434952-ab5c-407c-bbba-eaf5f9436a45\", \"data.csv\", 4012)"
            ]
          },
          "metadata": {}
        }
      ]
    }
  ]
}